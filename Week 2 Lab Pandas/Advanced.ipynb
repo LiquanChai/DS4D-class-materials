{
 "cells": [
  {
   "cell_type": "markdown",
   "metadata": {},
   "source": [
    "This is the notebook for the 2nd week. It will teach you some more advanced stuff than in the first one. This week you learn: \n",
    "* How to import modules\n",
    "* How to load a csv file\n",
    "* How to create a data frame with pandas from csv\n",
    "* How to filter rows in a data frame\n",
    "    * by index/name\n",
    "    * by conditions\n",
    "* How to filter columns in a data frame\n",
    "    * by index, \n",
    "    * by name, \n",
    "    * by condition\n",
    "* Numpy\n",
    "* Simple stats with numpy:\n",
    "    * avg, median, mode, variance\n",
    "    * standard deviation\n",
    "    * order lists\n",
    "    * find min/max"
   ]
  },
  {
   "cell_type": "markdown",
   "metadata": {
    "collapsed": true
   },
   "source": [
    "# Importing Modules"
   ]
  },
  {
   "cell_type": "markdown",
   "metadata": {},
   "source": [
    "A module is functionality that you import from another piece of code (library). Python provides a huge set of modules for all type of functionality: mathematics, statistics, importing and exporting data, visalization, etc. As there are so many modules available, only a tiny fraction of them are imported by default when you create a new python program in order to keep your program small and slick."
   ]
  },
  {
   "cell_type": "markdown",
   "metadata": {},
   "source": [
    "Here is how you import a module that gives your program the ability to import a csv file. Import statements have to be in the beginning of your files before you write any actual code.\n",
    "\n",
    "You import the `csv` module like so:"
   ]
  },
  {
   "cell_type": "code",
   "execution_count": 1,
   "metadata": {
    "collapsed": true
   },
   "outputs": [],
   "source": [
    "import csv"
   ]
  },
  {
   "cell_type": "markdown",
   "metadata": {},
   "source": [
    "# Reading Files"
   ]
  },
  {
   "cell_type": "markdown",
   "metadata": {},
   "source": [
    "We can now load csv files. More information: https://docs.python.org/2/library/csv.html.\n",
    "The following code opens a csv file and saves it into the variable `csvfile`. The second row is reading the content from `csvfile` using the function `reader` from the module `csv`. The parameters `delimiter` and `quotechar` help python to understand how your csv file is formatted. E.g. the `delimiter` is the character that separates columns in a row, while `quotechar` is the charactert used to package string-values. Why is this necessary? Well, CSV files usually seperate their columns through commas (comma-separated-values). However, sometimes you have values that contain commas, e.g. the following name: Smith, Jon. You don't want python to think of this as two columns, rather as a single one. That's why CSV files can encode such strings with a special char, e.g. double quotes `\"`. The `quotechar` parameter tells python how to read your file."
   ]
  },
  {
   "cell_type": "raw",
   "metadata": {},
   "source": [
    "with open('myfile.csv', 'rb') as csvfile:\n",
    "     csvcontent = csv.reader(csvfile, delimiter=' ', quotechar='\"')\n",
    "     for r in csvcontent: \n",
    "         print(r)\n",
    "\n",
    "Note: 'rb' - Read the file in Binary mode.\n",
    "      quotechar - where you do want to parse the char as content that is same as delimiter"
   ]
  },
  {
   "cell_type": "markdown",
   "metadata": {},
   "source": [
    "Now, import the file `gpd_per_capita.csv` and print all its rows:"
   ]
  },
  {
   "cell_type": "code",
   "execution_count": 2,
   "metadata": {},
   "outputs": [
    {
     "name": "stdout",
     "output_type": "stream",
     "text": [
      "[['countries', '1950', '1955', '1960', '1965', '1970', '1975', '1980', '1985', '1990', '1995', '2000', '2005', '2010', '2015'], ['Afghanistan', '', '', '', '', '', '', '', '', '', '', '', '', ''], ['Brazil', '4297.82385399312', '3739.91938942857', '3693.27582014833', '3279.68639609452', '3584.07401646004', '3245.57315217104', '3154.72055184122', '2363.5112024022', '1613.13692305826', '1581.62542312949', '4716.61412549824', '3976.61916776916', '3696.14677192256'], ['China', '1864.10270222039', '1105.95255695671', '774.884634037432', '475.928869661473', '341.021293511227', '208.170863491313', '149.66006823476', '128.934979893935', '99.0801230616385', '72.3249273149585', '2426.33246633954', '1464.10762700312', '949.178062082992'], ['Germany', '25297.3853934236', '23217.3320270132', '21502.7214441946', '20685.689979311', '17636.8306336143', '15810.553192641', '14545.4282572055', '12711.1567623386', '', '', '25420.2757175313', '23564.3851678751', '22945.7088501507'], ['Iran', '2125.03025238419', '1679.66439805233', '1484.66602266377', '1445.852455639', '1241.64750201368', '1477.01185152704', '2204.42045612243', '1793.57465688276', '1117.21826803939', '', '', '1906.59005390127', '1550.09060785641'], ['Japan', '40837.2666435385', '37363.287444285', '37518.5808584411', '35465.9254442694', '29064.2223585816', '24444.2017433701', '20680.6574101979', '18398.7211836064', '13726.0626551855', '9157.32330862219', '39971.7874534425', '39295.3062039741', '37291.7061580448'], ['Malawi', '157.621367614219', '142.391447858489', '155.373892404938', '129.360235983862', '138.371882570601', '147.791025339285', '153.275311906547', '140.893352705692', '126.008610334396', '101.996530434011', '180.902295640664', '149.484329878294', '155.271544474367'], ['Russia', '2888.84735487466', '1967.5186024261', '1590.69649953949', '2106.22376150602', '', '', '', '', '', '', '2928.00503306304', '2442.96296613797', '1775.14129079602'], ['United Kingdom', '29771.3033482292', '26214.9673501074', '22732.5384659765', '19721.7386415673', '18699.0358062236', '15734.1806453541', '15060.0702804856', '13682.0984768808', '11645.43154074', '10253.5937022019', '28244.3369362973', '28354.0395830577', '25057.613530497'], ['United States', '38710.8854415369', '35427.9099644915', '31831.4615941853', '28401.4651758974', '26549.8760217244', '22310.2393685234', '21491.8201766949', '19441.3799078951', '17374.536484084', '14426.7577149129', '37329.6159138676', '37718.0053665793', '35081.9230843615']]\n"
     ]
    }
   ],
   "source": [
    "# read file\n",
    "raw_data = []\n",
    "\n",
    "with open(\"gpd_per_capita_new.csv\", \"r\") as file:\n",
    "    csv_content = csv.reader(file, delimiter=\",\")\n",
    "    for row in csv_content:\n",
    "        # print(row) # returns row as list of text\n",
    "        raw_data.append(row)\n",
    "        \n",
    "print(raw_data)\n",
    "\n",
    "# Note: 'rt' read each cell into string, read text\n",
    "# Note: 'r' read"
   ]
  },
  {
   "cell_type": "markdown",
   "metadata": {},
   "source": [
    "The file you just loaded contains a row for for each country, with the first row contining the headers of the file. The first entry in each row shows the country name, the following three rows show the countries' GPD for the years 1950, 1955, and 1960.  The structure is similar to what you might see in a spreadsheet table. "
   ]
  },
  {
   "cell_type": "markdown",
   "metadata": {},
   "source": [
    "The problem with this file is that python thinks the numbers are strings, not actual numbers. That means that you cannot tell python to run statistics and other mathematical functions on it. Before continuing, we need to convert all the strings into numbers. Here is how we do that:\n",
    "* iterate through all cells with a nested loop (remember last class)\n",
    "* convert values to number with the int() function (remember last class)\n",
    "\n",
    "Now, here is how you iterate through all cells---we already said that the `csvcontent` is a list of lists. Hence, in order to iterate through all cells, we need two loop functions one inside the other:"
   ]
  },
  {
   "cell_type": "code",
   "execution_count": 3,
   "metadata": {
    "scrolled": true
   },
   "outputs": [
    {
     "name": "stdout",
     "output_type": "stream",
     "text": [
      "[['countries', '1950', '1955', '1960', '1965', '1970', '1975', '1980', '1985', '1990', '1995', '2000', '2005', '2010', '2015'], ['Afghanistan', '', '', '', '', '', '', '', '', '', '', '', '', ''], ['Brazil', '4297.82385399312', '3739.91938942857', '3693.27582014833', '3279.68639609452', '3584.07401646004', '3245.57315217104', '3154.72055184122', '2363.5112024022', '1613.13692305826', '1581.62542312949', '4716.61412549824', '3976.61916776916', '3696.14677192256'], ['China', '1864.10270222039', '1105.95255695671', '774.884634037432', '475.928869661473', '341.021293511227', '208.170863491313', '149.66006823476', '128.934979893935', '99.0801230616385', '72.3249273149585', '2426.33246633954', '1464.10762700312', '949.178062082992'], ['Germany', '25297.3853934236', '23217.3320270132', '21502.7214441946', '20685.689979311', '17636.8306336143', '15810.553192641', '14545.4282572055', '12711.1567623386', '', '', '25420.2757175313', '23564.3851678751', '22945.7088501507'], ['Iran', '2125.03025238419', '1679.66439805233', '1484.66602266377', '1445.852455639', '1241.64750201368', '1477.01185152704', '2204.42045612243', '1793.57465688276', '1117.21826803939', '', '', '1906.59005390127', '1550.09060785641'], ['Japan', '40837.2666435385', '37363.287444285', '37518.5808584411', '35465.9254442694', '29064.2223585816', '24444.2017433701', '20680.6574101979', '18398.7211836064', '13726.0626551855', '9157.32330862219', '39971.7874534425', '39295.3062039741', '37291.7061580448'], ['Malawi', '157.621367614219', '142.391447858489', '155.373892404938', '129.360235983862', '138.371882570601', '147.791025339285', '153.275311906547', '140.893352705692', '126.008610334396', '101.996530434011', '180.902295640664', '149.484329878294', '155.271544474367'], ['Russia', '2888.84735487466', '1967.5186024261', '1590.69649953949', '2106.22376150602', '', '', '', '', '', '', '2928.00503306304', '2442.96296613797', '1775.14129079602'], ['United Kingdom', '29771.3033482292', '26214.9673501074', '22732.5384659765', '19721.7386415673', '18699.0358062236', '15734.1806453541', '15060.0702804856', '13682.0984768808', '11645.43154074', '10253.5937022019', '28244.3369362973', '28354.0395830577', '25057.613530497'], ['United States', '38710.8854415369', '35427.9099644915', '31831.4615941853', '28401.4651758974', '26549.8760217244', '22310.2393685234', '21491.8201766949', '19441.3799078951', '17374.536484084', '14426.7577149129', '37329.6159138676', '37718.0053665793', '35081.9230843615']]\n",
      "-----\n",
      "[['countries', '1950', '1955', '1960', '1965', '1970', '1975', '1980', '1985', '1990', '1995', '2000', '2005', '2010', '2015'], ['Afghanistan', '', '', '', '', '', '', '', '', '', '', '', '', ''], ['Brazil', 4297.82385399312, 3739.91938942857, 3693.27582014833, 3279.68639609452, 3584.07401646004, 3245.57315217104, 3154.72055184122, 2363.5112024022, 1613.13692305826, 1581.62542312949, 4716.61412549824, 3976.61916776916, 3696.14677192256], ['China', 1864.10270222039, 1105.95255695671, 774.884634037432, 475.928869661473, 341.021293511227, 208.170863491313, 149.66006823476, 128.934979893935, 99.0801230616385, 72.3249273149585, 2426.33246633954, 1464.10762700312, 949.178062082992], ['Germany', 25297.3853934236, 23217.3320270132, 21502.7214441946, 20685.689979311, 17636.8306336143, 15810.553192641, 14545.4282572055, 12711.1567623386, '', '', 25420.2757175313, 23564.3851678751, 22945.7088501507], ['Iran', 2125.03025238419, 1679.66439805233, 1484.66602266377, 1445.852455639, 1241.64750201368, 1477.01185152704, 2204.42045612243, 1793.57465688276, 1117.21826803939, '', '', 1906.59005390127, 1550.09060785641], ['Japan', 40837.2666435385, 37363.287444285, 37518.5808584411, 35465.9254442694, 29064.2223585816, 24444.2017433701, 20680.6574101979, 18398.7211836064, 13726.0626551855, 9157.32330862219, 39971.7874534425, 39295.3062039741, 37291.7061580448], ['Malawi', 157.621367614219, 142.391447858489, 155.373892404938, 129.360235983862, 138.371882570601, 147.791025339285, 153.275311906547, 140.893352705692, 126.008610334396, 101.996530434011, 180.902295640664, 149.484329878294, 155.271544474367], ['Russia', 2888.84735487466, 1967.5186024261, 1590.69649953949, 2106.22376150602, '', '', '', '', '', '', 2928.00503306304, 2442.96296613797, 1775.14129079602], ['United Kingdom', 29771.3033482292, 26214.9673501074, 22732.5384659765, 19721.7386415673, 18699.0358062236, 15734.1806453541, 15060.0702804856, 13682.0984768808, 11645.43154074, 10253.5937022019, 28244.3369362973, 28354.0395830577, 25057.613530497], ['United States', 38710.8854415369, 35427.9099644915, 31831.4615941853, 28401.4651758974, 26549.8760217244, 22310.2393685234, 21491.8201766949, 19441.3799078951, 17374.536484084, 14426.7577149129, 37329.6159138676, 37718.0053665793, 35081.9230843615]]\n"
     ]
    }
   ],
   "source": [
    "# convert data type\n",
    "# if-else list comprehension\n",
    "# https://stackoverflow.com/questions/4260280/if-else-in-pythons-list-comprehension\n",
    "\n",
    "# list_entries = [[int(x) if x.isdigit() else x for x in row] for row in raw_data[1:]]\n",
    "\n",
    "print(raw_data)\n",
    "\n",
    "converted_data = [raw_data[0]] # add first raw\n",
    "for row in raw_data[1:]:\n",
    "    converted_row = [row[0]]\n",
    "    for entry in row[1:]:\n",
    "        if entry != \"\":\n",
    "            converted_row.append(float(entry)) # convert nstring numbers to float\n",
    "        else:\n",
    "            converted_row.append(entry)\n",
    "    converted_data.append(converted_row)\n",
    "    \n",
    "            \n",
    "print(\"-----\")\n",
    "\n",
    "print(converted_data)"
   ]
  },
  {
   "cell_type": "markdown",
   "metadata": {},
   "source": [
    "# Cleaning Data"
   ]
  },
  {
   "cell_type": "markdown",
   "metadata": {},
   "source": [
    "Never trust your data: in most cases, there are glitches, errors, and missing data in your file that require to be fixed before you can convert your data into some form of analyzable object in python. Such glitches may be a misplaced comma or other characters, misspelled entries, or differently formatted dates.  Sometimes certain irregularities are there on purpose."
   ]
  },
  {
   "cell_type": "markdown",
   "metadata": {},
   "source": [
    "In our case, we need to convert all but the first entry in each row, for all but the first row. There are several options. Here, we use a counter that tells us which row and which cell in each row we are in. We reset the cell counter each time we start looping through a new row. The following example shows how to use a counter to do stuff with only elements after the 5th elements in a list (or a csvcontent)"
   ]
  },
  {
   "cell_type": "raw",
   "metadata": {},
   "source": [
    "myCounter = 0;\n",
    "for row in csvcontent: \n",
    "    if myCounter > 5:\n",
    "        // do stuff;\n",
    "    myCounter = myCounter + 1"
   ]
  },
  {
   "cell_type": "markdown",
   "metadata": {},
   "source": [
    "Can you convert only the actual numeric values in our data file into floats? Remember that you need to \"ignore\" the 1st row the file (this one containing the column headers) as well as the first value in each row (the one containing the country name). To test if the conversion was successfull, print each row after conversion."
   ]
  },
  {
   "cell_type": "code",
   "execution_count": 4,
   "metadata": {
    "scrolled": true
   },
   "outputs": [
    {
     "name": "stdout",
     "output_type": "stream",
     "text": [
      "[['countries', '1950', '1955', '1960', '1965', '1970', '1975', '1980', '1985', '1990', '1995', '2000', '2005', '2010', '2015'], ['Afghanistan', '', '', '', '', '', '', '', '', '', '', '', '', ''], ['Brazil', '4297.82385399312', '3739.91938942857', '3693.27582014833', '3279.68639609452', '3584.07401646004', '3245.57315217104', '3154.72055184122', '2363.5112024022', '1613.13692305826', '1581.62542312949', '4716.61412549824', '3976.61916776916', '3696.14677192256'], ['China', '1864.10270222039', '1105.95255695671', '774.884634037432', '475.928869661473', '341.021293511227', '208.170863491313', '149.66006823476', '128.934979893935', '99.0801230616385', '72.3249273149585', '2426.33246633954', '1464.10762700312', '949.178062082992'], ['Germany', '25297.3853934236', '23217.3320270132', '21502.7214441946', '20685.689979311', '17636.8306336143', '15810.553192641', '14545.4282572055', '12711.1567623386', '', '', '25420.2757175313', '23564.3851678751', '22945.7088501507'], ['Iran', '2125.03025238419', '1679.66439805233', '1484.66602266377', '1445.852455639', '1241.64750201368', '1477.01185152704', '2204.42045612243', '1793.57465688276', '1117.21826803939', '', '', '1906.59005390127', '1550.09060785641'], ['Japan', '40837.2666435385', '37363.287444285', '37518.5808584411', '35465.9254442694', '29064.2223585816', '24444.2017433701', '20680.6574101979', '18398.7211836064', '13726.0626551855', '9157.32330862219', '39971.7874534425', '39295.3062039741', '37291.7061580448'], ['Malawi', '157.621367614219', '142.391447858489', '155.373892404938', '129.360235983862', '138.371882570601', '147.791025339285', '153.275311906547', '140.893352705692', '126.008610334396', '101.996530434011', '180.902295640664', '149.484329878294', '155.271544474367'], ['Russia', '2888.84735487466', '1967.5186024261', '1590.69649953949', '2106.22376150602', '', '', '', '', '', '', '2928.00503306304', '2442.96296613797', '1775.14129079602'], ['United Kingdom', '29771.3033482292', '26214.9673501074', '22732.5384659765', '19721.7386415673', '18699.0358062236', '15734.1806453541', '15060.0702804856', '13682.0984768808', '11645.43154074', '10253.5937022019', '28244.3369362973', '28354.0395830577', '25057.613530497'], ['United States', '38710.8854415369', '35427.9099644915', '31831.4615941853', '28401.4651758974', '26549.8760217244', '22310.2393685234', '21491.8201766949', '19441.3799078951', '17374.536484084', '14426.7577149129', '37329.6159138676', '37718.0053665793', '35081.9230843615']]\n",
      "---\n",
      "[['countries', '1950', '1955', '1960', '1965', '1970', '1975', '1980', '1985', '1990', '1995', '2000', '2005', '2010', '2015'], ['Afghanistan', '', '', '', '', '', '', '', '', '', '', '', '', ''], ['Brazil', '4297.82385399312', '3739.91938942857', '3693.27582014833', '3279.68639609452', '3584.07401646004', '3245.57315217104', '3154.72055184122', '2363.5112024022', '1613.13692305826', '1581.62542312949', '4716.61412549824', '3976.61916776916', '3696.14677192256'], ['China', '1864.10270222039', '1105.95255695671', '774.884634037432', '475.928869661473', '341.021293511227', '208.170863491313', '149.66006823476', '128.934979893935', '99.0801230616385', '72.3249273149585', '2426.33246633954', '1464.10762700312', '949.178062082992'], ['Germany', '25297.3853934236', '23217.3320270132', '21502.7214441946', '20685.689979311', '17636.8306336143', '15810.553192641', '14545.4282572055', '12711.1567623386', '', '', '25420.2757175313', '23564.3851678751', '22945.7088501507'], ['Iran', '2125.03025238419', '1679.66439805233', '1484.66602266377', '1445.852455639', '1241.64750201368', '1477.01185152704', '2204.42045612243', '1793.57465688276', '1117.21826803939', '', '', '1906.59005390127', '1550.09060785641'], ['Japan', '40837.2666435385', '37363.287444285', '37518.5808584411', '35465.9254442694', '29064.2223585816', '24444.2017433701', '20680.6574101979', '18398.7211836064', '13726.0626551855', '9157.32330862219', '39971.7874534425', '39295.3062039741', '37291.7061580448'], ['Malawi', '157.621367614219', '142.391447858489', '155.373892404938', '129.360235983862', '138.371882570601', '147.791025339285', '153.275311906547', '140.893352705692', '126.008610334396', '101.996530434011', '180.902295640664', '149.484329878294', '155.271544474367'], ['Russia', '2888.84735487466', '1967.5186024261', '1590.69649953949', '2106.22376150602', '', '', '', '', '', '', '2928.00503306304', '2442.96296613797', '1775.14129079602'], ['United Kingdom', '29771.3033482292', '26214.9673501074', '22732.5384659765', '19721.7386415673', '18699.0358062236', '15734.1806453541', '15060.0702804856', '13682.0984768808', '11645.43154074', '10253.5937022019', '28244.3369362973', '28354.0395830577', '25057.613530497'], ['United States', '38710.8854415369', '35427.9099644915', '31831.4615941853', '28401.4651758974', '26549.8760217244', '22310.2393685234', '21491.8201766949', '19441.3799078951', '17374.536484084', '14426.7577149129', '37329.6159138676', '37718.0053665793', '35081.9230843615']]\n"
     ]
    }
   ],
   "source": [
    "print(raw_data)\n",
    "row_counter = 0\n",
    "for row in raw_data:\n",
    "    if row_counter > 0:\n",
    "        entry_counter = 0\n",
    "        for entry in row:\n",
    "            if entry_counter > 0:\n",
    "                if entry != \"\":\n",
    "                    entry = float(entry) # why this not work? because it does not change the variaable in memory\n",
    "            entry_counter += 1\n",
    "    row_counter += 1\n",
    "print(\"---\")\n",
    "print(raw_data)"
   ]
  },
  {
   "cell_type": "markdown",
   "metadata": {},
   "source": [
    "# Pandas"
   ]
  },
  {
   "cell_type": "markdown",
   "metadata": {},
   "source": [
    "Pandas (http://pandas.pydata.org) is a python module that provides you with convenient methods to manipulate, filter, and aggregate complexer data in table format. The central structure in pandas is called `dataframe`. A dataframe is a table representation of your data like in the previous example, but with a lot of functionality."
   ]
  },
  {
   "cell_type": "markdown",
   "metadata": {},
   "source": [
    "## Importing and Creating Dataframes"
   ]
  },
  {
   "cell_type": "markdown",
   "metadata": {},
   "source": [
    "First, we need to import the pandas module. \n",
    "When importing a module, you can give it an abbreviation, as some of the modules can have long names. Abbreviations are indicated with the `as` keyword after the `import modulename`:\n",
    "`import mymodulename as myabbreviation`. \n",
    "\n",
    "In the following, we want to import the `pandas` module while using the abbreviation `pd`:"
   ]
  },
  {
   "cell_type": "code",
   "execution_count": 5,
   "metadata": {
    "collapsed": true
   },
   "outputs": [],
   "source": [
    "import pandas as pd"
   ]
  },
  {
   "cell_type": "markdown",
   "metadata": {},
   "source": [
    "`pd` is the standard abbrevation for pandas and which is used in most online tutorials."
   ]
  },
  {
   "cell_type": "markdown",
   "metadata": {},
   "source": [
    "Now, let's load our csv file into a data frame. Pandas already comes with its own csv-import function that returns a dataframe:\n",
    "\n",
    "`pd.read_csv('somefile.csv')`"
   ]
  },
  {
   "cell_type": "markdown",
   "metadata": {},
   "source": [
    "Load the data file `gpd_per_capita.csv` and put the results in a variable called `myDataFrame`. Pring `myDataFrame` to be sure it's properly loaded."
   ]
  },
  {
   "cell_type": "code",
   "execution_count": 6,
   "metadata": {
    "scrolled": true
   },
   "outputs": [
    {
     "name": "stdout",
     "output_type": "stream",
     "text": [
      "        countries          1950          1955          1960          1965  \\\n",
      "0     Afghanistan           NaN           NaN           NaN           NaN   \n",
      "1          Brazil   4297.823854   3739.919389   3693.275820   3279.686396   \n",
      "2           China   1864.102702   1105.952557    774.884634    475.928870   \n",
      "3         Germany  25297.385393  23217.332027  21502.721444  20685.689979   \n",
      "4            Iran   2125.030252   1679.664398   1484.666023   1445.852456   \n",
      "5           Japan  40837.266644  37363.287444  37518.580858  35465.925444   \n",
      "6          Malawi    157.621368    142.391448    155.373892    129.360236   \n",
      "7          Russia   2888.847355   1967.518602   1590.696500   2106.223762   \n",
      "8  United Kingdom  29771.303348  26214.967350  22732.538466  19721.738642   \n",
      "9   United States  38710.885442  35427.909964  31831.461594  28401.465176   \n",
      "\n",
      "           1970          1975          1980          1985          1990  \\\n",
      "0           NaN           NaN           NaN           NaN           NaN   \n",
      "1   3584.074016   3245.573152   3154.720552   2363.511202   1613.136923   \n",
      "2    341.021294    208.170863    149.660068    128.934980     99.080123   \n",
      "3  17636.830634  15810.553193  14545.428257  12711.156762           NaN   \n",
      "4   1241.647502   1477.011852   2204.420456   1793.574657   1117.218268   \n",
      "5  29064.222359  24444.201743  20680.657410  18398.721184  13726.062655   \n",
      "6    138.371883    147.791025    153.275312    140.893353    126.008610   \n",
      "7           NaN           NaN           NaN           NaN           NaN   \n",
      "8  18699.035806  15734.180645  15060.070280  13682.098477  11645.431541   \n",
      "9  26549.876022  22310.239369  21491.820177  19441.379908  17374.536484   \n",
      "\n",
      "           1995          2000          2005          2010  2015  \n",
      "0           NaN           NaN           NaN           NaN   NaN  \n",
      "1   1581.625423   4716.614125   3976.619168   3696.146772   NaN  \n",
      "2     72.324927   2426.332466   1464.107627    949.178062   NaN  \n",
      "3           NaN  25420.275718  23564.385168  22945.708850   NaN  \n",
      "4           NaN           NaN   1906.590054   1550.090608   NaN  \n",
      "5   9157.323309  39971.787453  39295.306204  37291.706158   NaN  \n",
      "6    101.996530    180.902296    149.484330    155.271544   NaN  \n",
      "7           NaN   2928.005033   2442.962966   1775.141291   NaN  \n",
      "8  10253.593702  28244.336936  28354.039583  25057.613530   NaN  \n",
      "9  14426.757715  37329.615914  37718.005367  35081.923084   NaN  \n"
     ]
    }
   ],
   "source": [
    "df_gdp = pd.read_csv('gpd_per_capita_new.csv')\n",
    "print(df_gdp)"
   ]
  },
  {
   "cell_type": "markdown",
   "metadata": {},
   "source": [
    "You should see a a table like this: "
   ]
  },
  {
   "cell_type": "raw",
   "metadata": {},
   "source": [
    "  countries          1950          1955          1960\n",
    "0    Brazil   4297.823854   3739.919389   3693.275820\n",
    "1     China   1864.102702   1105.952557    774.884634\n",
    "2   Germany  25297.385393  23217.332027  21502.721444"
   ]
  },
  {
   "cell_type": "markdown",
   "metadata": {},
   "source": [
    "Now, its time to load all the data. Load the file `gpd_per_capita.csv` and print the entire table."
   ]
  },
  {
   "cell_type": "markdown",
   "metadata": {},
   "source": [
    "As already mentioned, dataframes are complex but sophisticated objects. So far, we have called functions from python directly (e.g. `print()`, `len()`) or on modules (`csv.reader()`). Sometimes, we can also call methods on objects, such as the DataFrame-object. E.g. the following two methods can be called on any variable that is a `DataFrame` object: \n",
    "\n",
    "* `DataFrame.head()`: shows the 5 first rows\n",
    "* `DataFrame.tail()`: shows the 5 last rows\n",
    "\n",
    "Can you try that for our dataframe? Replace the `DataFrame` part int the above examples by the name of our DataFrame-variable."
   ]
  },
  {
   "cell_type": "code",
   "execution_count": 7,
   "metadata": {},
   "outputs": [
    {
     "name": "stdout",
     "output_type": "stream",
     "text": [
      "     countries          1950          1955          1960          1965  \\\n",
      "0  Afghanistan           NaN           NaN           NaN           NaN   \n",
      "1       Brazil   4297.823854   3739.919389   3693.275820   3279.686396   \n",
      "2        China   1864.102702   1105.952557    774.884634    475.928870   \n",
      "3      Germany  25297.385393  23217.332027  21502.721444  20685.689979   \n",
      "4         Iran   2125.030252   1679.664398   1484.666023   1445.852456   \n",
      "\n",
      "           1970          1975          1980          1985         1990  \\\n",
      "0           NaN           NaN           NaN           NaN          NaN   \n",
      "1   3584.074016   3245.573152   3154.720552   2363.511202  1613.136923   \n",
      "2    341.021294    208.170863    149.660068    128.934980    99.080123   \n",
      "3  17636.830634  15810.553193  14545.428257  12711.156762          NaN   \n",
      "4   1241.647502   1477.011852   2204.420456   1793.574657  1117.218268   \n",
      "\n",
      "          1995          2000          2005          2010  2015  \n",
      "0          NaN           NaN           NaN           NaN   NaN  \n",
      "1  1581.625423   4716.614125   3976.619168   3696.146772   NaN  \n",
      "2    72.324927   2426.332466   1464.107627    949.178062   NaN  \n",
      "3          NaN  25420.275718  23564.385168  22945.708850   NaN  \n",
      "4          NaN           NaN   1906.590054   1550.090608   NaN  \n"
     ]
    },
    {
     "data": {
      "text/html": [
       "<div>\n",
       "<table border=\"1\" class=\"dataframe\">\n",
       "  <thead>\n",
       "    <tr style=\"text-align: right;\">\n",
       "      <th></th>\n",
       "      <th>countries</th>\n",
       "      <th>1950</th>\n",
       "      <th>1955</th>\n",
       "      <th>1960</th>\n",
       "      <th>1965</th>\n",
       "      <th>1970</th>\n",
       "      <th>1975</th>\n",
       "      <th>1980</th>\n",
       "      <th>1985</th>\n",
       "      <th>1990</th>\n",
       "      <th>1995</th>\n",
       "      <th>2000</th>\n",
       "      <th>2005</th>\n",
       "      <th>2010</th>\n",
       "      <th>2015</th>\n",
       "    </tr>\n",
       "  </thead>\n",
       "  <tbody>\n",
       "    <tr>\n",
       "      <th>5</th>\n",
       "      <td>Japan</td>\n",
       "      <td>40837.266644</td>\n",
       "      <td>37363.287444</td>\n",
       "      <td>37518.580858</td>\n",
       "      <td>35465.925444</td>\n",
       "      <td>29064.222359</td>\n",
       "      <td>24444.201743</td>\n",
       "      <td>20680.657410</td>\n",
       "      <td>18398.721184</td>\n",
       "      <td>13726.062655</td>\n",
       "      <td>9157.323309</td>\n",
       "      <td>39971.787453</td>\n",
       "      <td>39295.306204</td>\n",
       "      <td>37291.706158</td>\n",
       "      <td>NaN</td>\n",
       "    </tr>\n",
       "    <tr>\n",
       "      <th>6</th>\n",
       "      <td>Malawi</td>\n",
       "      <td>157.621368</td>\n",
       "      <td>142.391448</td>\n",
       "      <td>155.373892</td>\n",
       "      <td>129.360236</td>\n",
       "      <td>138.371883</td>\n",
       "      <td>147.791025</td>\n",
       "      <td>153.275312</td>\n",
       "      <td>140.893353</td>\n",
       "      <td>126.008610</td>\n",
       "      <td>101.996530</td>\n",
       "      <td>180.902296</td>\n",
       "      <td>149.484330</td>\n",
       "      <td>155.271544</td>\n",
       "      <td>NaN</td>\n",
       "    </tr>\n",
       "    <tr>\n",
       "      <th>7</th>\n",
       "      <td>Russia</td>\n",
       "      <td>2888.847355</td>\n",
       "      <td>1967.518602</td>\n",
       "      <td>1590.696500</td>\n",
       "      <td>2106.223762</td>\n",
       "      <td>NaN</td>\n",
       "      <td>NaN</td>\n",
       "      <td>NaN</td>\n",
       "      <td>NaN</td>\n",
       "      <td>NaN</td>\n",
       "      <td>NaN</td>\n",
       "      <td>2928.005033</td>\n",
       "      <td>2442.962966</td>\n",
       "      <td>1775.141291</td>\n",
       "      <td>NaN</td>\n",
       "    </tr>\n",
       "    <tr>\n",
       "      <th>8</th>\n",
       "      <td>United Kingdom</td>\n",
       "      <td>29771.303348</td>\n",
       "      <td>26214.967350</td>\n",
       "      <td>22732.538466</td>\n",
       "      <td>19721.738642</td>\n",
       "      <td>18699.035806</td>\n",
       "      <td>15734.180645</td>\n",
       "      <td>15060.070280</td>\n",
       "      <td>13682.098477</td>\n",
       "      <td>11645.431541</td>\n",
       "      <td>10253.593702</td>\n",
       "      <td>28244.336936</td>\n",
       "      <td>28354.039583</td>\n",
       "      <td>25057.613530</td>\n",
       "      <td>NaN</td>\n",
       "    </tr>\n",
       "    <tr>\n",
       "      <th>9</th>\n",
       "      <td>United States</td>\n",
       "      <td>38710.885442</td>\n",
       "      <td>35427.909964</td>\n",
       "      <td>31831.461594</td>\n",
       "      <td>28401.465176</td>\n",
       "      <td>26549.876022</td>\n",
       "      <td>22310.239369</td>\n",
       "      <td>21491.820177</td>\n",
       "      <td>19441.379908</td>\n",
       "      <td>17374.536484</td>\n",
       "      <td>14426.757715</td>\n",
       "      <td>37329.615914</td>\n",
       "      <td>37718.005367</td>\n",
       "      <td>35081.923084</td>\n",
       "      <td>NaN</td>\n",
       "    </tr>\n",
       "  </tbody>\n",
       "</table>\n",
       "</div>"
      ],
      "text/plain": [
       "        countries          1950          1955          1960          1965  \\\n",
       "5           Japan  40837.266644  37363.287444  37518.580858  35465.925444   \n",
       "6          Malawi    157.621368    142.391448    155.373892    129.360236   \n",
       "7          Russia   2888.847355   1967.518602   1590.696500   2106.223762   \n",
       "8  United Kingdom  29771.303348  26214.967350  22732.538466  19721.738642   \n",
       "9   United States  38710.885442  35427.909964  31831.461594  28401.465176   \n",
       "\n",
       "           1970          1975          1980          1985          1990  \\\n",
       "5  29064.222359  24444.201743  20680.657410  18398.721184  13726.062655   \n",
       "6    138.371883    147.791025    153.275312    140.893353    126.008610   \n",
       "7           NaN           NaN           NaN           NaN           NaN   \n",
       "8  18699.035806  15734.180645  15060.070280  13682.098477  11645.431541   \n",
       "9  26549.876022  22310.239369  21491.820177  19441.379908  17374.536484   \n",
       "\n",
       "           1995          2000          2005          2010  2015  \n",
       "5   9157.323309  39971.787453  39295.306204  37291.706158   NaN  \n",
       "6    101.996530    180.902296    149.484330    155.271544   NaN  \n",
       "7           NaN   2928.005033   2442.962966   1775.141291   NaN  \n",
       "8  10253.593702  28244.336936  28354.039583  25057.613530   NaN  \n",
       "9  14426.757715  37329.615914  37718.005367  35081.923084   NaN  "
      ]
     },
     "execution_count": 7,
     "metadata": {},
     "output_type": "execute_result"
    }
   ],
   "source": [
    "# showing rows in pandas\n",
    "print(df_gdp.head(5))\n",
    "df_gdp.tail(5) # head and tails refer to raw"
   ]
  },
  {
   "cell_type": "markdown",
   "metadata": {},
   "source": [
    "There are some simple metrics we can calculate about the data frame, using the following functions:\n",
    "* `DataFrame.shape`: returns the numbers of rows and columns in the data frame in the format (rows, columns)\n",
    "* `list(DataFrame.columns)`: returns all the column names"
   ]
  },
  {
   "cell_type": "markdown",
   "metadata": {},
   "source": [
    "_How many rows and columns does our DataFrame has?_"
   ]
  },
  {
   "cell_type": "code",
   "execution_count": 8,
   "metadata": {},
   "outputs": [
    {
     "name": "stdout",
     "output_type": "stream",
     "text": [
      "10 rows, 15 columns\n"
     ]
    }
   ],
   "source": [
    "# attribute of data frame\n",
    "df_gdp.shape # return tuple (row, column)\n",
    "print(\"{} rows, {} columns\".format(df_gdp.shape[0], df_gdp.shape[1]))"
   ]
  },
  {
   "cell_type": "markdown",
   "metadata": {},
   "source": [
    "_Can you output all the column names?_ "
   ]
  },
  {
   "cell_type": "code",
   "execution_count": 9,
   "metadata": {},
   "outputs": [
    {
     "name": "stdout",
     "output_type": "stream",
     "text": [
      "['countries', '1950', '1955', '1960', '1965', '1970', '1975', '1980', '1985', '1990', '1995', '2000', '2005', '2010', '2015']\n"
     ]
    }
   ],
   "source": [
    "df_gdp.columns # return pandas.indexes.base.Inde\n",
    "print(list(df_gdp.columns))"
   ]
  },
  {
   "cell_type": "markdown",
   "metadata": {},
   "source": [
    "## Selecting Rows and Columns"
   ]
  },
  {
   "cell_type": "markdown",
   "metadata": {},
   "source": [
    "Now, we want to filter rows and columns to calculate statistics on the values and create visualizations later on. There are a couple of functions for selecting values and set of values in a DataFrame: \n",
    "\n",
    "* `DataFrame['mycolumnname']`: Selects the column with the name `columnname` in the column title (pay attention to the single quotes and squared brackets).\n",
    "* `DataFrame[startrow:endrow]`: Selects all rows between `start` and `end`. \n",
    "* `DataFrame.loc['mylabel']`: Selects the row with the label `label`\n",
    "* `DataFrame.iloc[...]`: Selecting rows and columns by index.\n",
    "\n",
    "We will exercise each of these functions individually in the following.\n",
    "More information here: https://pandas.pydata.org/pandas-docs/stable/indexing.html#indexing"
   ]
  },
  {
   "cell_type": "markdown",
   "metadata": {},
   "source": [
    "### Selecting columns\n",
    "\n",
    "A single column is selected through `DataFrame['columnname']`. In our example, selecting columns means selecting individual years or ranges of years. "
   ]
  },
  {
   "cell_type": "markdown",
   "metadata": {},
   "source": [
    "_Can you select the colum for the year 1955?_"
   ]
  },
  {
   "cell_type": "code",
   "execution_count": 10,
   "metadata": {
    "scrolled": true
   },
   "outputs": [
    {
     "data": {
      "text/plain": [
       "[nan,\n",
       " 3739.9193894285704,\n",
       " 1105.9525569567099,\n",
       " 23217.332027013199,\n",
       " 1679.6643980523299,\n",
       " 37363.287444285001,\n",
       " 142.39144785848899,\n",
       " 1967.5186024261,\n",
       " 26214.967350107403,\n",
       " 35427.909964491497]"
      ]
     },
     "execution_count": 10,
     "metadata": {},
     "output_type": "execute_result"
    }
   ],
   "source": [
    "# dataframe is 0 index based for both rows and columns\n",
    "\n",
    "# but df[int(index):int(index) -> range] refer to row\n",
    "df_gdp[0:3]\n",
    "\n",
    "# df[\"str\"] refer to column\n",
    "df_gdp[\"1955\"]\n",
    "list(df_gdp[\"1955\"])"
   ]
  },
  {
   "cell_type": "markdown",
   "metadata": {},
   "source": [
    "### Selecting rows\n",
    "To select a range of rows, use `DataFrame[startRowIndex:endRowIndex]`. \n",
    "_Can you select rows 2 to 5?_"
   ]
  },
  {
   "cell_type": "code",
   "execution_count": 11,
   "metadata": {},
   "outputs": [
    {
     "data": {
      "text/html": [
       "<div>\n",
       "<table border=\"1\" class=\"dataframe\">\n",
       "  <thead>\n",
       "    <tr style=\"text-align: right;\">\n",
       "      <th></th>\n",
       "      <th>countries</th>\n",
       "      <th>1950</th>\n",
       "      <th>1955</th>\n",
       "      <th>1960</th>\n",
       "      <th>1965</th>\n",
       "      <th>1970</th>\n",
       "      <th>1975</th>\n",
       "      <th>1980</th>\n",
       "      <th>1985</th>\n",
       "      <th>1990</th>\n",
       "      <th>1995</th>\n",
       "      <th>2000</th>\n",
       "      <th>2005</th>\n",
       "      <th>2010</th>\n",
       "      <th>2015</th>\n",
       "    </tr>\n",
       "  </thead>\n",
       "  <tbody>\n",
       "    <tr>\n",
       "      <th>1</th>\n",
       "      <td>Brazil</td>\n",
       "      <td>4297.823854</td>\n",
       "      <td>3739.919389</td>\n",
       "      <td>3693.275820</td>\n",
       "      <td>3279.686396</td>\n",
       "      <td>3584.074016</td>\n",
       "      <td>3245.573152</td>\n",
       "      <td>3154.720552</td>\n",
       "      <td>2363.511202</td>\n",
       "      <td>1613.136923</td>\n",
       "      <td>1581.625423</td>\n",
       "      <td>4716.614125</td>\n",
       "      <td>3976.619168</td>\n",
       "      <td>3696.146772</td>\n",
       "      <td>NaN</td>\n",
       "    </tr>\n",
       "    <tr>\n",
       "      <th>2</th>\n",
       "      <td>China</td>\n",
       "      <td>1864.102702</td>\n",
       "      <td>1105.952557</td>\n",
       "      <td>774.884634</td>\n",
       "      <td>475.928870</td>\n",
       "      <td>341.021294</td>\n",
       "      <td>208.170863</td>\n",
       "      <td>149.660068</td>\n",
       "      <td>128.934980</td>\n",
       "      <td>99.080123</td>\n",
       "      <td>72.324927</td>\n",
       "      <td>2426.332466</td>\n",
       "      <td>1464.107627</td>\n",
       "      <td>949.178062</td>\n",
       "      <td>NaN</td>\n",
       "    </tr>\n",
       "    <tr>\n",
       "      <th>3</th>\n",
       "      <td>Germany</td>\n",
       "      <td>25297.385393</td>\n",
       "      <td>23217.332027</td>\n",
       "      <td>21502.721444</td>\n",
       "      <td>20685.689979</td>\n",
       "      <td>17636.830634</td>\n",
       "      <td>15810.553193</td>\n",
       "      <td>14545.428257</td>\n",
       "      <td>12711.156762</td>\n",
       "      <td>NaN</td>\n",
       "      <td>NaN</td>\n",
       "      <td>25420.275718</td>\n",
       "      <td>23564.385168</td>\n",
       "      <td>22945.708850</td>\n",
       "      <td>NaN</td>\n",
       "    </tr>\n",
       "    <tr>\n",
       "      <th>4</th>\n",
       "      <td>Iran</td>\n",
       "      <td>2125.030252</td>\n",
       "      <td>1679.664398</td>\n",
       "      <td>1484.666023</td>\n",
       "      <td>1445.852456</td>\n",
       "      <td>1241.647502</td>\n",
       "      <td>1477.011852</td>\n",
       "      <td>2204.420456</td>\n",
       "      <td>1793.574657</td>\n",
       "      <td>1117.218268</td>\n",
       "      <td>NaN</td>\n",
       "      <td>NaN</td>\n",
       "      <td>1906.590054</td>\n",
       "      <td>1550.090608</td>\n",
       "      <td>NaN</td>\n",
       "    </tr>\n",
       "    <tr>\n",
       "      <th>5</th>\n",
       "      <td>Japan</td>\n",
       "      <td>40837.266644</td>\n",
       "      <td>37363.287444</td>\n",
       "      <td>37518.580858</td>\n",
       "      <td>35465.925444</td>\n",
       "      <td>29064.222359</td>\n",
       "      <td>24444.201743</td>\n",
       "      <td>20680.657410</td>\n",
       "      <td>18398.721184</td>\n",
       "      <td>13726.062655</td>\n",
       "      <td>9157.323309</td>\n",
       "      <td>39971.787453</td>\n",
       "      <td>39295.306204</td>\n",
       "      <td>37291.706158</td>\n",
       "      <td>NaN</td>\n",
       "    </tr>\n",
       "  </tbody>\n",
       "</table>\n",
       "</div>"
      ],
      "text/plain": [
       "  countries          1950          1955          1960          1965  \\\n",
       "1    Brazil   4297.823854   3739.919389   3693.275820   3279.686396   \n",
       "2     China   1864.102702   1105.952557    774.884634    475.928870   \n",
       "3   Germany  25297.385393  23217.332027  21502.721444  20685.689979   \n",
       "4      Iran   2125.030252   1679.664398   1484.666023   1445.852456   \n",
       "5     Japan  40837.266644  37363.287444  37518.580858  35465.925444   \n",
       "\n",
       "           1970          1975          1980          1985          1990  \\\n",
       "1   3584.074016   3245.573152   3154.720552   2363.511202   1613.136923   \n",
       "2    341.021294    208.170863    149.660068    128.934980     99.080123   \n",
       "3  17636.830634  15810.553193  14545.428257  12711.156762           NaN   \n",
       "4   1241.647502   1477.011852   2204.420456   1793.574657   1117.218268   \n",
       "5  29064.222359  24444.201743  20680.657410  18398.721184  13726.062655   \n",
       "\n",
       "          1995          2000          2005          2010  2015  \n",
       "1  1581.625423   4716.614125   3976.619168   3696.146772   NaN  \n",
       "2    72.324927   2426.332466   1464.107627    949.178062   NaN  \n",
       "3          NaN  25420.275718  23564.385168  22945.708850   NaN  \n",
       "4          NaN           NaN   1906.590054   1550.090608   NaN  \n",
       "5  9157.323309  39971.787453  39295.306204  37291.706158   NaN  "
      ]
     },
     "execution_count": 11,
     "metadata": {},
     "output_type": "execute_result"
    }
   ],
   "source": [
    "df_gdp[1:6]"
   ]
  },
  {
   "cell_type": "markdown",
   "metadata": {},
   "source": [
    "The above method selects a set of rows but what if we want one row, say `Brazil`? There are two options. \n",
    "\n",
    "Option 1 is to select-by-row-position using `DataFrame.iloc[rownumber]`. To select Brazil, we have to find the row number for Brazil and pass it as a parameter to the `iloc` selector. \n",
    "\n",
    "_Can you do it?_ "
   ]
  },
  {
   "cell_type": "code",
   "execution_count": 12,
   "metadata": {
    "scrolled": true
   },
   "outputs": [
    {
     "data": {
      "text/plain": [
       "countries     Brazil\n",
       "1950         4297.82\n",
       "1955         3739.92\n",
       "1960         3693.28\n",
       "1965         3279.69\n",
       "1970         3584.07\n",
       "1975         3245.57\n",
       "1980         3154.72\n",
       "1985         2363.51\n",
       "1990         1613.14\n",
       "1995         1581.63\n",
       "2000         4716.61\n",
       "2005         3976.62\n",
       "2010         3696.15\n",
       "2015             NaN\n",
       "Name: 1, dtype: object"
      ]
     },
     "execution_count": 12,
     "metadata": {},
     "output_type": "execute_result"
    }
   ],
   "source": [
    "df_gdp.iloc[1] # square brackets, no round brackets\n",
    "# df_gdp[1] this will return an error (pandas is expecting column!)"
   ]
  },
  {
   "cell_type": "markdown",
   "metadata": {},
   "source": [
    "### Selecting Rows and columns with `iloc[]`. "
   ]
  },
  {
   "cell_type": "markdown",
   "metadata": {},
   "source": [
    "The `iloc` function helps you selecting both, rows and colums by their indices, i.e. their order number. \n",
    "\n",
    "`iloc[`ROW_SELECTION_GOES_HERE`, `COLUMN_SELECTION_GOES_HERE`]` takes 1 - 2 parameters. The first one (`ROW_SELECTION_GOES_HERE`) is a specification of the rows you want to select, the second parameter (`COLUMN_SELECTION_GOES_HERE`) is a specification of the columns you want to select. Both parameters can be one of the following three forms, independent from each other:\n",
    "\n",
    "* An **individual value (e.g., 1)** use this when you want to select a single row or column. E.g. `DataFrame.iloc[2,4]` gives you the value in the 4th column in row 2 (there are two individual values). \n",
    "\n",
    "* An **enumeration/list (e.g., [0,1,3])** use this when you have specific rows and or columns to select and be careful to use squared brackets around your array of numbers. For example, the expression `DataFrame.iloc[[0,2], [1,3]]` returns you the values of columns 1 and 3 for rows 0 and 2 (4 values in total).\n",
    "\n",
    "* **Ranges (e.g., 1:3)** when you want to select a range of rows or colums. For example, the expression `DataFrame.iloc[0:3, 1:3]` returns you the values of columns 1 to 3 for rows 0 to 3 (9 values in total). When using ranges, you can leave fields blank, meaning that you refer to the first or last row or column. For example, `DataFrame.iloc[:2, 3:]` returns you all columns from colum 3 on  for rows 0 to 2. \n",
    "\n",
    "\n",
    "Of course, you can mix the above values for the the `ROW_SELECTION_GOES_HERE` parameter and the `COLUMN_SELECTION_GOES_HERE` parameter. E.g. the statement DataFrame.iloc[2,0:3] will return columns 0 to 3 for row 2. \n",
    " \n",
    "More information here: https://www.shanelynn.ie/select-pandas-dataframe-rows-and-columns-using-iloc-loc-and-ix/\n",
    "\n"
   ]
  },
  {
   "cell_type": "markdown",
   "metadata": {},
   "source": [
    "_Can you select the values for first 3 years for `Germany` and `Malawi`?_"
   ]
  },
  {
   "cell_type": "code",
   "execution_count": 13,
   "metadata": {
    "scrolled": true
   },
   "outputs": [
    {
     "data": {
      "text/html": [
       "<div>\n",
       "<table border=\"1\" class=\"dataframe\">\n",
       "  <thead>\n",
       "    <tr style=\"text-align: right;\">\n",
       "      <th></th>\n",
       "      <th>countries</th>\n",
       "      <th>1950</th>\n",
       "      <th>1955</th>\n",
       "      <th>1960</th>\n",
       "    </tr>\n",
       "  </thead>\n",
       "  <tbody>\n",
       "    <tr>\n",
       "      <th>3</th>\n",
       "      <td>Germany</td>\n",
       "      <td>25297.385393</td>\n",
       "      <td>23217.332027</td>\n",
       "      <td>21502.721444</td>\n",
       "    </tr>\n",
       "    <tr>\n",
       "      <th>6</th>\n",
       "      <td>Malawi</td>\n",
       "      <td>157.621368</td>\n",
       "      <td>142.391448</td>\n",
       "      <td>155.373892</td>\n",
       "    </tr>\n",
       "  </tbody>\n",
       "</table>\n",
       "</div>"
      ],
      "text/plain": [
       "  countries          1950          1955          1960\n",
       "3   Germany  25297.385393  23217.332027  21502.721444\n",
       "6    Malawi    157.621368    142.391448    155.373892"
      ]
     },
     "execution_count": 13,
     "metadata": {},
     "output_type": "execute_result"
    }
   ],
   "source": [
    "# iloc[ROW_SELECTION_GOES_HERE,COLUMN_SELECTION_GOES_HERE]\n",
    "# iloc[index enumeration/list, index range]\n",
    "\n",
    "df_gdp.iloc[[3, 6], :4]"
   ]
  },
  {
   "cell_type": "markdown",
   "metadata": {},
   "source": [
    "### Creating labels for rows"
   ]
  },
  {
   "cell_type": "markdown",
   "metadata": {},
   "source": [
    "That previous example required you to look up the indices for `Germany` and `Malawi` individually and pass the indices to `iloc`. Not only is this inconvenient, but if you have a larger data set, this is simply impossible. \n",
    "\n",
    "Pandas has a function that allows you to ask for names, rather than indices. This function is called `loc` (while `iloc` stands for index-`loc`). `loc` allows you to **pass columnnames and row labels** and can be much more convenient to use. \n",
    "\n",
    "Now, columns names are usually specified in the first row of your csv files (the table header), which in our case are the years. We have already used them with `DataFrame['somecolumnname']`.\n",
    "\n",
    "However, in addition to years in the firs row, our data has country names in the very fist column (which is the colum with the index 0). While Pandas assumes that you have column labels, it does not assume that you have row labels. This is because many tables have an index in the first column, rather than a name like us.\n",
    "\n",
    "Thus, we need to tell Pandas that our first column should be used as  **labels** (which is how Pandas calls them). Important is that each label **must be _unique_**, i.e. no two rows can have the same lables. In our case, we have only one row per country and no two countries with the same name. Great, let's move on.\n",
    " \n",
    "In order to tell Pandas which column we want to use as lables, we use the `DataFrame.set_index(COLUMN_NAME, inplace=False)` method. The `inplace=False` parameter prevents Pandas from modifying the `DataFrame` variable; rather, the function returns a new data frame and leaves the old one untouched. Hence, here, we create a new dataframe which we want to call `countryData` and which is returned by calling `set_index(..)` on our first dataframe.\n",
    "\n",
    "**NOTE:** In your own projects, you can well use `inplace=True`, which is more convenient since you do not have to create a new data frame. However, for the excerises in this notebook, you need to create a new data frame otherwise the following examples will not work properly."
   ]
  },
  {
   "cell_type": "markdown",
   "metadata": {},
   "source": [
    "_Can you set the country column as labels and save the result in a new data frame called `countryData'?_ "
   ]
  },
  {
   "cell_type": "code",
   "execution_count": 14,
   "metadata": {
    "collapsed": true
   },
   "outputs": [],
   "source": [
    "# index is the label in the dataframe\n",
    "# set_index sets the labels of rows to an existing column\n",
    "countryData = df_gdp.set_index(\"countries\", inplace=False) # assigning lables to enable the use of loc[] method"
   ]
  },
  {
   "cell_type": "markdown",
   "metadata": {},
   "source": [
    "_Now, print the first few rows of both data frames (`myDataFrame` and `countryData`) to see the difference._ "
   ]
  },
  {
   "cell_type": "code",
   "execution_count": 15,
   "metadata": {},
   "outputs": [
    {
     "data": {
      "text/html": [
       "<div>\n",
       "<table border=\"1\" class=\"dataframe\">\n",
       "  <thead>\n",
       "    <tr style=\"text-align: right;\">\n",
       "      <th></th>\n",
       "      <th>countries</th>\n",
       "      <th>1950</th>\n",
       "      <th>1955</th>\n",
       "      <th>1960</th>\n",
       "      <th>1965</th>\n",
       "      <th>1970</th>\n",
       "      <th>1975</th>\n",
       "      <th>1980</th>\n",
       "      <th>1985</th>\n",
       "      <th>1990</th>\n",
       "      <th>1995</th>\n",
       "      <th>2000</th>\n",
       "      <th>2005</th>\n",
       "      <th>2010</th>\n",
       "      <th>2015</th>\n",
       "    </tr>\n",
       "  </thead>\n",
       "  <tbody>\n",
       "    <tr>\n",
       "      <th>0</th>\n",
       "      <td>Afghanistan</td>\n",
       "      <td>NaN</td>\n",
       "      <td>NaN</td>\n",
       "      <td>NaN</td>\n",
       "      <td>NaN</td>\n",
       "      <td>NaN</td>\n",
       "      <td>NaN</td>\n",
       "      <td>NaN</td>\n",
       "      <td>NaN</td>\n",
       "      <td>NaN</td>\n",
       "      <td>NaN</td>\n",
       "      <td>NaN</td>\n",
       "      <td>NaN</td>\n",
       "      <td>NaN</td>\n",
       "      <td>NaN</td>\n",
       "    </tr>\n",
       "    <tr>\n",
       "      <th>1</th>\n",
       "      <td>Brazil</td>\n",
       "      <td>4297.823854</td>\n",
       "      <td>3739.919389</td>\n",
       "      <td>3693.275820</td>\n",
       "      <td>3279.686396</td>\n",
       "      <td>3584.074016</td>\n",
       "      <td>3245.573152</td>\n",
       "      <td>3154.720552</td>\n",
       "      <td>2363.511202</td>\n",
       "      <td>1613.136923</td>\n",
       "      <td>1581.625423</td>\n",
       "      <td>4716.614125</td>\n",
       "      <td>3976.619168</td>\n",
       "      <td>3696.146772</td>\n",
       "      <td>NaN</td>\n",
       "    </tr>\n",
       "    <tr>\n",
       "      <th>2</th>\n",
       "      <td>China</td>\n",
       "      <td>1864.102702</td>\n",
       "      <td>1105.952557</td>\n",
       "      <td>774.884634</td>\n",
       "      <td>475.928870</td>\n",
       "      <td>341.021294</td>\n",
       "      <td>208.170863</td>\n",
       "      <td>149.660068</td>\n",
       "      <td>128.934980</td>\n",
       "      <td>99.080123</td>\n",
       "      <td>72.324927</td>\n",
       "      <td>2426.332466</td>\n",
       "      <td>1464.107627</td>\n",
       "      <td>949.178062</td>\n",
       "      <td>NaN</td>\n",
       "    </tr>\n",
       "  </tbody>\n",
       "</table>\n",
       "</div>"
      ],
      "text/plain": [
       "     countries         1950         1955         1960         1965  \\\n",
       "0  Afghanistan          NaN          NaN          NaN          NaN   \n",
       "1       Brazil  4297.823854  3739.919389  3693.275820  3279.686396   \n",
       "2        China  1864.102702  1105.952557   774.884634   475.928870   \n",
       "\n",
       "          1970         1975         1980         1985         1990  \\\n",
       "0          NaN          NaN          NaN          NaN          NaN   \n",
       "1  3584.074016  3245.573152  3154.720552  2363.511202  1613.136923   \n",
       "2   341.021294   208.170863   149.660068   128.934980    99.080123   \n",
       "\n",
       "          1995         2000         2005         2010  2015  \n",
       "0          NaN          NaN          NaN          NaN   NaN  \n",
       "1  1581.625423  4716.614125  3976.619168  3696.146772   NaN  \n",
       "2    72.324927  2426.332466  1464.107627   949.178062   NaN  "
      ]
     },
     "execution_count": 15,
     "metadata": {},
     "output_type": "execute_result"
    }
   ],
   "source": [
    "df_gdp[:3]"
   ]
  },
  {
   "cell_type": "code",
   "execution_count": 16,
   "metadata": {
    "scrolled": true
   },
   "outputs": [
    {
     "data": {
      "text/html": [
       "<div>\n",
       "<table border=\"1\" class=\"dataframe\">\n",
       "  <thead>\n",
       "    <tr style=\"text-align: right;\">\n",
       "      <th></th>\n",
       "      <th>1950</th>\n",
       "      <th>1955</th>\n",
       "      <th>1960</th>\n",
       "      <th>1965</th>\n",
       "      <th>1970</th>\n",
       "      <th>1975</th>\n",
       "      <th>1980</th>\n",
       "      <th>1985</th>\n",
       "      <th>1990</th>\n",
       "      <th>1995</th>\n",
       "      <th>2000</th>\n",
       "      <th>2005</th>\n",
       "      <th>2010</th>\n",
       "      <th>2015</th>\n",
       "    </tr>\n",
       "    <tr>\n",
       "      <th>countries</th>\n",
       "      <th></th>\n",
       "      <th></th>\n",
       "      <th></th>\n",
       "      <th></th>\n",
       "      <th></th>\n",
       "      <th></th>\n",
       "      <th></th>\n",
       "      <th></th>\n",
       "      <th></th>\n",
       "      <th></th>\n",
       "      <th></th>\n",
       "      <th></th>\n",
       "      <th></th>\n",
       "      <th></th>\n",
       "    </tr>\n",
       "  </thead>\n",
       "  <tbody>\n",
       "    <tr>\n",
       "      <th>Afghanistan</th>\n",
       "      <td>NaN</td>\n",
       "      <td>NaN</td>\n",
       "      <td>NaN</td>\n",
       "      <td>NaN</td>\n",
       "      <td>NaN</td>\n",
       "      <td>NaN</td>\n",
       "      <td>NaN</td>\n",
       "      <td>NaN</td>\n",
       "      <td>NaN</td>\n",
       "      <td>NaN</td>\n",
       "      <td>NaN</td>\n",
       "      <td>NaN</td>\n",
       "      <td>NaN</td>\n",
       "      <td>NaN</td>\n",
       "    </tr>\n",
       "    <tr>\n",
       "      <th>Brazil</th>\n",
       "      <td>4297.823854</td>\n",
       "      <td>3739.919389</td>\n",
       "      <td>3693.275820</td>\n",
       "      <td>3279.686396</td>\n",
       "      <td>3584.074016</td>\n",
       "      <td>3245.573152</td>\n",
       "      <td>3154.720552</td>\n",
       "      <td>2363.511202</td>\n",
       "      <td>1613.136923</td>\n",
       "      <td>1581.625423</td>\n",
       "      <td>4716.614125</td>\n",
       "      <td>3976.619168</td>\n",
       "      <td>3696.146772</td>\n",
       "      <td>NaN</td>\n",
       "    </tr>\n",
       "    <tr>\n",
       "      <th>China</th>\n",
       "      <td>1864.102702</td>\n",
       "      <td>1105.952557</td>\n",
       "      <td>774.884634</td>\n",
       "      <td>475.928870</td>\n",
       "      <td>341.021294</td>\n",
       "      <td>208.170863</td>\n",
       "      <td>149.660068</td>\n",
       "      <td>128.934980</td>\n",
       "      <td>99.080123</td>\n",
       "      <td>72.324927</td>\n",
       "      <td>2426.332466</td>\n",
       "      <td>1464.107627</td>\n",
       "      <td>949.178062</td>\n",
       "      <td>NaN</td>\n",
       "    </tr>\n",
       "  </tbody>\n",
       "</table>\n",
       "</div>"
      ],
      "text/plain": [
       "                    1950         1955         1960         1965         1970  \\\n",
       "countries                                                                      \n",
       "Afghanistan          NaN          NaN          NaN          NaN          NaN   \n",
       "Brazil       4297.823854  3739.919389  3693.275820  3279.686396  3584.074016   \n",
       "China        1864.102702  1105.952557   774.884634   475.928870   341.021294   \n",
       "\n",
       "                    1975         1980         1985         1990         1995  \\\n",
       "countries                                                                      \n",
       "Afghanistan          NaN          NaN          NaN          NaN          NaN   \n",
       "Brazil       3245.573152  3154.720552  2363.511202  1613.136923  1581.625423   \n",
       "China         208.170863   149.660068   128.934980    99.080123    72.324927   \n",
       "\n",
       "                    2000         2005         2010  2015  \n",
       "countries                                                 \n",
       "Afghanistan          NaN          NaN          NaN   NaN  \n",
       "Brazil       4716.614125  3976.619168  3696.146772   NaN  \n",
       "China        2426.332466  1464.107627   949.178062   NaN  "
      ]
     },
     "execution_count": 16,
     "metadata": {},
     "output_type": "execute_result"
    }
   ],
   "source": [
    "countryData[:3]"
   ]
  },
  {
   "cell_type": "code",
   "execution_count": 17,
   "metadata": {},
   "outputs": [
    {
     "data": {
      "text/html": [
       "<div>\n",
       "<table border=\"1\" class=\"dataframe\">\n",
       "  <thead>\n",
       "    <tr style=\"text-align: right;\">\n",
       "      <th></th>\n",
       "      <th>countries</th>\n",
       "      <th>1950</th>\n",
       "      <th>1955</th>\n",
       "      <th>1960</th>\n",
       "      <th>1965</th>\n",
       "      <th>1970</th>\n",
       "      <th>1975</th>\n",
       "      <th>1980</th>\n",
       "      <th>1985</th>\n",
       "      <th>1990</th>\n",
       "      <th>1995</th>\n",
       "      <th>2000</th>\n",
       "      <th>2005</th>\n",
       "      <th>2010</th>\n",
       "      <th>2015</th>\n",
       "    </tr>\n",
       "  </thead>\n",
       "  <tbody>\n",
       "    <tr>\n",
       "      <th>0</th>\n",
       "      <td>Afghanistan</td>\n",
       "      <td>NaN</td>\n",
       "      <td>NaN</td>\n",
       "      <td>NaN</td>\n",
       "      <td>NaN</td>\n",
       "      <td>NaN</td>\n",
       "      <td>NaN</td>\n",
       "      <td>NaN</td>\n",
       "      <td>NaN</td>\n",
       "      <td>NaN</td>\n",
       "      <td>NaN</td>\n",
       "      <td>NaN</td>\n",
       "      <td>NaN</td>\n",
       "      <td>NaN</td>\n",
       "      <td>NaN</td>\n",
       "    </tr>\n",
       "    <tr>\n",
       "      <th>1</th>\n",
       "      <td>Brazil</td>\n",
       "      <td>4297.823854</td>\n",
       "      <td>3739.919389</td>\n",
       "      <td>3693.275820</td>\n",
       "      <td>3279.686396</td>\n",
       "      <td>3584.074016</td>\n",
       "      <td>3245.573152</td>\n",
       "      <td>3154.720552</td>\n",
       "      <td>2363.511202</td>\n",
       "      <td>1613.136923</td>\n",
       "      <td>1581.625423</td>\n",
       "      <td>4716.614125</td>\n",
       "      <td>3976.619168</td>\n",
       "      <td>3696.146772</td>\n",
       "      <td>NaN</td>\n",
       "    </tr>\n",
       "    <tr>\n",
       "      <th>2</th>\n",
       "      <td>China</td>\n",
       "      <td>1864.102702</td>\n",
       "      <td>1105.952557</td>\n",
       "      <td>774.884634</td>\n",
       "      <td>475.928870</td>\n",
       "      <td>341.021294</td>\n",
       "      <td>208.170863</td>\n",
       "      <td>149.660068</td>\n",
       "      <td>128.934980</td>\n",
       "      <td>99.080123</td>\n",
       "      <td>72.324927</td>\n",
       "      <td>2426.332466</td>\n",
       "      <td>1464.107627</td>\n",
       "      <td>949.178062</td>\n",
       "      <td>NaN</td>\n",
       "    </tr>\n",
       "  </tbody>\n",
       "</table>\n",
       "</div>"
      ],
      "text/plain": [
       "     countries         1950         1955         1960         1965  \\\n",
       "0  Afghanistan          NaN          NaN          NaN          NaN   \n",
       "1       Brazil  4297.823854  3739.919389  3693.275820  3279.686396   \n",
       "2        China  1864.102702  1105.952557   774.884634   475.928870   \n",
       "\n",
       "          1970         1975         1980         1985         1990  \\\n",
       "0          NaN          NaN          NaN          NaN          NaN   \n",
       "1  3584.074016  3245.573152  3154.720552  2363.511202  1613.136923   \n",
       "2   341.021294   208.170863   149.660068   128.934980    99.080123   \n",
       "\n",
       "          1995         2000         2005         2010  2015  \n",
       "0          NaN          NaN          NaN          NaN   NaN  \n",
       "1  1581.625423  4716.614125  3976.619168  3696.146772   NaN  \n",
       "2    72.324927  2426.332466  1464.107627   949.178062   NaN  "
      ]
     },
     "execution_count": 17,
     "metadata": {},
     "output_type": "execute_result"
    }
   ],
   "source": [
    "df_gdp.iloc[:3]"
   ]
  },
  {
   "cell_type": "markdown",
   "metadata": {},
   "source": [
    "In the first print out the first column of your table should contain numbers (=indices). In the second printout (after having set `set_index(..)`, the first column should contain the country names and the numbers are gone. My (chrome) browser renders the entries in the first colum conveniently in bold. \n",
    "\n",
    "In the following, we will continue with the `countryData` data frame that has our country names as labels."
   ]
  },
  {
   "cell_type": "markdown",
   "metadata": {},
   "source": [
    "### Selecting Rows and columns with `loc[]`. "
   ]
  },
  {
   "cell_type": "markdown",
   "metadata": {},
   "source": [
    "Now, we can use `loc` with both row and column labels. `loc[]` works pretty much the same way than `iloc[]` but instead of integer indices (e.g. `DataFrame.iloc[2,3]`), `loc[]` understands our labels and column names. \n",
    "\n",
    "The three query methods to select rows and eventually colmns are the same as for `iloc`: \n",
    "1. **Individual value (e.g. 'Brazil')**: `DataFrame.iloc['Brazil']`\n",
    "2. **Enumeration (e.g. ['Brazil','United Kingdom'])**: `DataFrame.iloc[['Brazil', 'United Kingdom']]` (note the double rectangular brackets). , and \n",
    "3. **Ranges (e.g. 'Brazil':'United Kingdom')**: `DataFrame.iloc['Brazil': 'United Kingdom']`"
   ]
  },
  {
   "cell_type": "code",
   "execution_count": 18,
   "metadata": {
    "scrolled": true
   },
   "outputs": [
    {
     "data": {
      "text/html": [
       "<div>\n",
       "<table border=\"1\" class=\"dataframe\">\n",
       "  <thead>\n",
       "    <tr style=\"text-align: right;\">\n",
       "      <th></th>\n",
       "      <th>1950</th>\n",
       "      <th>1955</th>\n",
       "      <th>1960</th>\n",
       "      <th>1965</th>\n",
       "      <th>1970</th>\n",
       "      <th>1975</th>\n",
       "      <th>1980</th>\n",
       "      <th>1985</th>\n",
       "      <th>1990</th>\n",
       "      <th>1995</th>\n",
       "      <th>2000</th>\n",
       "      <th>2005</th>\n",
       "      <th>2010</th>\n",
       "      <th>2015</th>\n",
       "    </tr>\n",
       "    <tr>\n",
       "      <th>countries</th>\n",
       "      <th></th>\n",
       "      <th></th>\n",
       "      <th></th>\n",
       "      <th></th>\n",
       "      <th></th>\n",
       "      <th></th>\n",
       "      <th></th>\n",
       "      <th></th>\n",
       "      <th></th>\n",
       "      <th></th>\n",
       "      <th></th>\n",
       "      <th></th>\n",
       "      <th></th>\n",
       "      <th></th>\n",
       "    </tr>\n",
       "  </thead>\n",
       "  <tbody>\n",
       "    <tr>\n",
       "      <th>Afghanistan</th>\n",
       "      <td>NaN</td>\n",
       "      <td>NaN</td>\n",
       "      <td>NaN</td>\n",
       "      <td>NaN</td>\n",
       "      <td>NaN</td>\n",
       "      <td>NaN</td>\n",
       "      <td>NaN</td>\n",
       "      <td>NaN</td>\n",
       "      <td>NaN</td>\n",
       "      <td>NaN</td>\n",
       "      <td>NaN</td>\n",
       "      <td>NaN</td>\n",
       "      <td>NaN</td>\n",
       "      <td>NaN</td>\n",
       "    </tr>\n",
       "    <tr>\n",
       "      <th>Brazil</th>\n",
       "      <td>4297.823854</td>\n",
       "      <td>3739.919389</td>\n",
       "      <td>3693.275820</td>\n",
       "      <td>3279.686396</td>\n",
       "      <td>3584.074016</td>\n",
       "      <td>3245.573152</td>\n",
       "      <td>3154.720552</td>\n",
       "      <td>2363.511202</td>\n",
       "      <td>1613.136923</td>\n",
       "      <td>1581.625423</td>\n",
       "      <td>4716.614125</td>\n",
       "      <td>3976.619168</td>\n",
       "      <td>3696.146772</td>\n",
       "      <td>NaN</td>\n",
       "    </tr>\n",
       "    <tr>\n",
       "      <th>China</th>\n",
       "      <td>1864.102702</td>\n",
       "      <td>1105.952557</td>\n",
       "      <td>774.884634</td>\n",
       "      <td>475.928870</td>\n",
       "      <td>341.021294</td>\n",
       "      <td>208.170863</td>\n",
       "      <td>149.660068</td>\n",
       "      <td>128.934980</td>\n",
       "      <td>99.080123</td>\n",
       "      <td>72.324927</td>\n",
       "      <td>2426.332466</td>\n",
       "      <td>1464.107627</td>\n",
       "      <td>949.178062</td>\n",
       "      <td>NaN</td>\n",
       "    </tr>\n",
       "  </tbody>\n",
       "</table>\n",
       "</div>"
      ],
      "text/plain": [
       "                    1950         1955         1960         1965         1970  \\\n",
       "countries                                                                      \n",
       "Afghanistan          NaN          NaN          NaN          NaN          NaN   \n",
       "Brazil       4297.823854  3739.919389  3693.275820  3279.686396  3584.074016   \n",
       "China        1864.102702  1105.952557   774.884634   475.928870   341.021294   \n",
       "\n",
       "                    1975         1980         1985         1990         1995  \\\n",
       "countries                                                                      \n",
       "Afghanistan          NaN          NaN          NaN          NaN          NaN   \n",
       "Brazil       3245.573152  3154.720552  2363.511202  1613.136923  1581.625423   \n",
       "China         208.170863   149.660068   128.934980    99.080123    72.324927   \n",
       "\n",
       "                    2000         2005         2010  2015  \n",
       "countries                                                 \n",
       "Afghanistan          NaN          NaN          NaN   NaN  \n",
       "Brazil       4716.614125  3976.619168  3696.146772   NaN  \n",
       "China        2426.332466  1464.107627   949.178062   NaN  "
      ]
     },
     "execution_count": 18,
     "metadata": {},
     "output_type": "execute_result"
    }
   ],
   "source": [
    "countryData.loc[:\"China\"]"
   ]
  },
  {
   "cell_type": "markdown",
   "metadata": {},
   "source": [
    "_Can you select all values for `Germany`._"
   ]
  },
  {
   "cell_type": "code",
   "execution_count": 19,
   "metadata": {},
   "outputs": [
    {
     "data": {
      "text/plain": [
       "1950    25297.385393\n",
       "1955    23217.332027\n",
       "1960    21502.721444\n",
       "1965    20685.689979\n",
       "1970    17636.830634\n",
       "1975    15810.553193\n",
       "1980    14545.428257\n",
       "1985    12711.156762\n",
       "1990             NaN\n",
       "1995             NaN\n",
       "2000    25420.275718\n",
       "2005    23564.385168\n",
       "2010    22945.708850\n",
       "2015             NaN\n",
       "Name: Germany, dtype: float64"
      ]
     },
     "execution_count": 19,
     "metadata": {},
     "output_type": "execute_result"
    }
   ],
   "source": [
    "#after setting labels, we can use loc[row, column] now\n",
    "countryData.loc[\"Germany\"]"
   ]
  },
  {
   "cell_type": "code",
   "execution_count": 20,
   "metadata": {},
   "outputs": [
    {
     "name": "stdout",
     "output_type": "stream",
     "text": [
      "<class 'numpy.float64'>\n",
      "<class 'numpy.float64'>\n",
      "<class 'numpy.float64'>\n",
      "<class 'numpy.float64'>\n",
      "<class 'numpy.float64'>\n",
      "<class 'numpy.float64'>\n",
      "<class 'numpy.float64'>\n",
      "<class 'numpy.float64'>\n",
      "<class 'numpy.float64'>\n",
      "<class 'numpy.float64'>\n",
      "<class 'numpy.float64'>\n",
      "<class 'numpy.float64'>\n",
      "<class 'numpy.float64'>\n",
      "<class 'numpy.float64'>\n"
     ]
    }
   ],
   "source": [
    "type(countryData.loc[\"Germany\"]) # is this an iterable? yes\n",
    "\n",
    "for item in countryData.loc[\"Germany\"]:\n",
    "    print(type(item))"
   ]
  },
  {
   "cell_type": "markdown",
   "metadata": {},
   "source": [
    "_Can you select the values for `Germany` and `Malawi` for the years 1960 to 1980?_"
   ]
  },
  {
   "cell_type": "code",
   "execution_count": 21,
   "metadata": {
    "scrolled": false
   },
   "outputs": [
    {
     "data": {
      "text/html": [
       "<div>\n",
       "<table border=\"1\" class=\"dataframe\">\n",
       "  <thead>\n",
       "    <tr style=\"text-align: right;\">\n",
       "      <th></th>\n",
       "      <th>1960</th>\n",
       "      <th>1965</th>\n",
       "      <th>1970</th>\n",
       "      <th>1975</th>\n",
       "      <th>1980</th>\n",
       "    </tr>\n",
       "    <tr>\n",
       "      <th>countries</th>\n",
       "      <th></th>\n",
       "      <th></th>\n",
       "      <th></th>\n",
       "      <th></th>\n",
       "      <th></th>\n",
       "    </tr>\n",
       "  </thead>\n",
       "  <tbody>\n",
       "    <tr>\n",
       "      <th>Germany</th>\n",
       "      <td>21502.721444</td>\n",
       "      <td>20685.689979</td>\n",
       "      <td>17636.830634</td>\n",
       "      <td>15810.553193</td>\n",
       "      <td>14545.428257</td>\n",
       "    </tr>\n",
       "    <tr>\n",
       "      <th>Malawi</th>\n",
       "      <td>155.373892</td>\n",
       "      <td>129.360236</td>\n",
       "      <td>138.371883</td>\n",
       "      <td>147.791025</td>\n",
       "      <td>153.275312</td>\n",
       "    </tr>\n",
       "  </tbody>\n",
       "</table>\n",
       "</div>"
      ],
      "text/plain": [
       "                   1960          1965          1970          1975  \\\n",
       "countries                                                           \n",
       "Germany    21502.721444  20685.689979  17636.830634  15810.553193   \n",
       "Malawi       155.373892    129.360236    138.371883    147.791025   \n",
       "\n",
       "                   1980  \n",
       "countries                \n",
       "Germany    14545.428257  \n",
       "Malawi       153.275312  "
      ]
     },
     "execution_count": 21,
     "metadata": {},
     "output_type": "execute_result"
    }
   ],
   "source": [
    "# countryData.loc[[\"Germany\", \"Malawi\"], [\"1960\", \"1965\", \"1970\", \"1975\", \"1980\"]]\n",
    "countryData.loc[[\"Germany\", \"Malawi\"], \"1960\":\"1980\"] # Range over columns (string), \":\" also can be used to range over rows"
   ]
  },
  {
   "cell_type": "markdown",
   "metadata": {},
   "source": [
    "**NOTE**: `loc` takes only labels and column names, no indices."
   ]
  },
  {
   "cell_type": "markdown",
   "metadata": {},
   "source": [
    "## Conditional Selection with Pandas and Boolean Operations\n",
    "One of the most useful tools in pandas are **conditional selection**, i.e. selecting rows based on their values in particular columns. For example, you want to calculate statistics for high-income countries only. Let's see how that works. `loc` gives us almost all we need."
   ]
  },
  {
   "cell_type": "markdown",
   "metadata": {},
   "source": [
    "### Conditions\n",
    "First, we need to know about **conditions**. A condition performs a test and returns `True` or `False`. The following condition tests if a value in the column `1960` is higher than `1000`."
   ]
  },
  {
   "cell_type": "markdown",
   "metadata": {},
   "source": [
    "`df['1960'] > 1000`"
   ]
  },
  {
   "cell_type": "markdown",
   "metadata": {},
   "source": [
    "Used with `loc`, we can filter all rows which have a value higher than `1000` in column `1960`: "
   ]
  },
  {
   "cell_type": "markdown",
   "metadata": {},
   "source": [
    "`df.loc[df['1960'] > 1000]`"
   ]
  },
  {
   "cell_type": "markdown",
   "metadata": {},
   "source": [
    "The `loc` in the above statement iterates over all rows in the dataframe and tests whether the value in brackets is true or false. Remember, when you use `loc` to pass a label value, `loc` checks whether the first column in that row matches the passed name. Now, we match a condition instead.\n",
    "\n",
    "If the statement in the squared brackets returns true, this row is included into the result.\n",
    "\n",
    "Conditions are powerful mechanisms and besides the greater than `>` operations include the following numeric relations:\n",
    "\n",
    "* **lesser than**: `<`, e.g. `df.loc[df['1960'] < 1000]`\n",
    "* **equals**: `==`, e.g. `df.loc[df['1960'] == 1000]`\n",
    "* **unequals**: `!=`, e.g. `df.loc[df['1960'] != 1000]`\n",
    "* **equal or greater**: `>=` e.g. `df.loc[df['1960'] >= 1000]`\n",
    "* **equal or lesser**: `<=` e.g. `df.loc[df['1960'] <= 1000]`"
   ]
  },
  {
   "cell_type": "markdown",
   "metadata": {},
   "source": [
    "_Can you filter all rows (countries) with values lower than `10000` in 2010?_ "
   ]
  },
  {
   "cell_type": "code",
   "execution_count": 22,
   "metadata": {},
   "outputs": [
    {
     "data": {
      "text/plain": [
       "countries\n",
       "Afghanistan       False\n",
       "Brazil            False\n",
       "China             False\n",
       "Germany            True\n",
       "Iran              False\n",
       "Japan              True\n",
       "Malawi            False\n",
       "Russia            False\n",
       "United Kingdom     True\n",
       "United States      True\n",
       "Name: 1960, dtype: bool"
      ]
     },
     "execution_count": 22,
     "metadata": {},
     "output_type": "execute_result"
    }
   ],
   "source": [
    "# filter rows when specific columns meet condition\n",
    "\n",
    "countryData['1960'] > 10000"
   ]
  },
  {
   "cell_type": "code",
   "execution_count": 23,
   "metadata": {},
   "outputs": [
    {
     "data": {
      "text/plain": [
       "pandas.core.series.Series"
      ]
     },
     "execution_count": 23,
     "metadata": {},
     "output_type": "execute_result"
    }
   ],
   "source": [
    "# \"filter\" returns a series of boolean\n",
    "type(countryData['1960'] > 10000)"
   ]
  },
  {
   "cell_type": "code",
   "execution_count": 24,
   "metadata": {},
   "outputs": [
    {
     "data": {
      "text/html": [
       "<div>\n",
       "<table border=\"1\" class=\"dataframe\">\n",
       "  <thead>\n",
       "    <tr style=\"text-align: right;\">\n",
       "      <th></th>\n",
       "      <th>1950</th>\n",
       "      <th>1955</th>\n",
       "      <th>1960</th>\n",
       "      <th>1965</th>\n",
       "      <th>1970</th>\n",
       "      <th>1975</th>\n",
       "      <th>1980</th>\n",
       "      <th>1985</th>\n",
       "      <th>1990</th>\n",
       "      <th>1995</th>\n",
       "      <th>2000</th>\n",
       "      <th>2005</th>\n",
       "      <th>2010</th>\n",
       "      <th>2015</th>\n",
       "    </tr>\n",
       "    <tr>\n",
       "      <th>countries</th>\n",
       "      <th></th>\n",
       "      <th></th>\n",
       "      <th></th>\n",
       "      <th></th>\n",
       "      <th></th>\n",
       "      <th></th>\n",
       "      <th></th>\n",
       "      <th></th>\n",
       "      <th></th>\n",
       "      <th></th>\n",
       "      <th></th>\n",
       "      <th></th>\n",
       "      <th></th>\n",
       "      <th></th>\n",
       "    </tr>\n",
       "  </thead>\n",
       "  <tbody>\n",
       "    <tr>\n",
       "      <th>Germany</th>\n",
       "      <td>25297.385393</td>\n",
       "      <td>23217.332027</td>\n",
       "      <td>21502.721444</td>\n",
       "      <td>20685.689979</td>\n",
       "      <td>17636.830634</td>\n",
       "      <td>15810.553193</td>\n",
       "      <td>14545.428257</td>\n",
       "      <td>12711.156762</td>\n",
       "      <td>NaN</td>\n",
       "      <td>NaN</td>\n",
       "      <td>25420.275718</td>\n",
       "      <td>23564.385168</td>\n",
       "      <td>22945.708850</td>\n",
       "      <td>NaN</td>\n",
       "    </tr>\n",
       "    <tr>\n",
       "      <th>Japan</th>\n",
       "      <td>40837.266644</td>\n",
       "      <td>37363.287444</td>\n",
       "      <td>37518.580858</td>\n",
       "      <td>35465.925444</td>\n",
       "      <td>29064.222359</td>\n",
       "      <td>24444.201743</td>\n",
       "      <td>20680.657410</td>\n",
       "      <td>18398.721184</td>\n",
       "      <td>13726.062655</td>\n",
       "      <td>9157.323309</td>\n",
       "      <td>39971.787453</td>\n",
       "      <td>39295.306204</td>\n",
       "      <td>37291.706158</td>\n",
       "      <td>NaN</td>\n",
       "    </tr>\n",
       "    <tr>\n",
       "      <th>United Kingdom</th>\n",
       "      <td>29771.303348</td>\n",
       "      <td>26214.967350</td>\n",
       "      <td>22732.538466</td>\n",
       "      <td>19721.738642</td>\n",
       "      <td>18699.035806</td>\n",
       "      <td>15734.180645</td>\n",
       "      <td>15060.070280</td>\n",
       "      <td>13682.098477</td>\n",
       "      <td>11645.431541</td>\n",
       "      <td>10253.593702</td>\n",
       "      <td>28244.336936</td>\n",
       "      <td>28354.039583</td>\n",
       "      <td>25057.613530</td>\n",
       "      <td>NaN</td>\n",
       "    </tr>\n",
       "    <tr>\n",
       "      <th>United States</th>\n",
       "      <td>38710.885442</td>\n",
       "      <td>35427.909964</td>\n",
       "      <td>31831.461594</td>\n",
       "      <td>28401.465176</td>\n",
       "      <td>26549.876022</td>\n",
       "      <td>22310.239369</td>\n",
       "      <td>21491.820177</td>\n",
       "      <td>19441.379908</td>\n",
       "      <td>17374.536484</td>\n",
       "      <td>14426.757715</td>\n",
       "      <td>37329.615914</td>\n",
       "      <td>37718.005367</td>\n",
       "      <td>35081.923084</td>\n",
       "      <td>NaN</td>\n",
       "    </tr>\n",
       "  </tbody>\n",
       "</table>\n",
       "</div>"
      ],
      "text/plain": [
       "                        1950          1955          1960          1965  \\\n",
       "countries                                                                \n",
       "Germany         25297.385393  23217.332027  21502.721444  20685.689979   \n",
       "Japan           40837.266644  37363.287444  37518.580858  35465.925444   \n",
       "United Kingdom  29771.303348  26214.967350  22732.538466  19721.738642   \n",
       "United States   38710.885442  35427.909964  31831.461594  28401.465176   \n",
       "\n",
       "                        1970          1975          1980          1985  \\\n",
       "countries                                                                \n",
       "Germany         17636.830634  15810.553193  14545.428257  12711.156762   \n",
       "Japan           29064.222359  24444.201743  20680.657410  18398.721184   \n",
       "United Kingdom  18699.035806  15734.180645  15060.070280  13682.098477   \n",
       "United States   26549.876022  22310.239369  21491.820177  19441.379908   \n",
       "\n",
       "                        1990          1995          2000          2005  \\\n",
       "countries                                                                \n",
       "Germany                  NaN           NaN  25420.275718  23564.385168   \n",
       "Japan           13726.062655   9157.323309  39971.787453  39295.306204   \n",
       "United Kingdom  11645.431541  10253.593702  28244.336936  28354.039583   \n",
       "United States   17374.536484  14426.757715  37329.615914  37718.005367   \n",
       "\n",
       "                        2010  2015  \n",
       "countries                           \n",
       "Germany         22945.708850   NaN  \n",
       "Japan           37291.706158   NaN  \n",
       "United Kingdom  25057.613530   NaN  \n",
       "United States   35081.923084   NaN  "
      ]
     },
     "execution_count": 24,
     "metadata": {},
     "output_type": "execute_result"
    }
   ],
   "source": [
    "# which then can be used in loc[] method\n",
    "\n",
    "countryData.loc[countryData['2010'] > 10000]"
   ]
  },
  {
   "cell_type": "code",
   "execution_count": 25,
   "metadata": {},
   "outputs": [
    {
     "data": {
      "text/plain": [
       "Index(['Germany', 'Japan', 'United Kingdom', 'United States'], dtype='object', name='countries')"
      ]
     },
     "execution_count": 25,
     "metadata": {},
     "output_type": "execute_result"
    }
   ],
   "source": [
    "countryData.loc[countryData['1960'] > 10000].index # return labels that meets filter's condition"
   ]
  },
  {
   "cell_type": "code",
   "execution_count": 26,
   "metadata": {},
   "outputs": [
    {
     "data": {
      "text/plain": [
       "['Germany', 'Japan', 'United Kingdom', 'United States']"
      ]
     },
     "execution_count": 26,
     "metadata": {},
     "output_type": "execute_result"
    }
   ],
   "source": [
    "list(countryData.loc[countryData['1960'] > 10000].index)"
   ]
  },
  {
   "cell_type": "code",
   "execution_count": 27,
   "metadata": {
    "scrolled": true
   },
   "outputs": [
    {
     "data": {
      "text/plain": [
       "'Germany'"
      ]
     },
     "execution_count": 27,
     "metadata": {},
     "output_type": "execute_result"
    }
   ],
   "source": [
    "countryData.loc[countryData['1960'] > 10000].index[0] # series can also be indexed"
   ]
  },
  {
   "cell_type": "markdown",
   "metadata": {},
   "source": [
    "### Boolean operations\n",
    "\n",
    "Moreover, we can combine conditions through logical **boolean operations**. Boolean operations are logical constructs that work through the following **boolean operators**: \n",
    "\n",
    "1. **AND (`&`)**: selects a row if **all** conditions joined by an `&` sign are true:\n",
    "    *  e.g. `df.loc[(df['1960'] > 1000) & (df['1960'] < 3000)]` returs all countries with values between 1000 **and** 3000. \n",
    "    \n",
    "* **OR ('|')**: selects a row if **at least one** of the conditions joined by a `|` (say 'pipe') sign are true:\n",
    "    * e.g. `df.loc[(df['1960'] < 1000) | (df['1960'] > 3000])` returs all countries with values smaller than 1000 **or** with values larger than 3000. \n",
    "    \n",
    "* **NOT(~)**: selects a row if a **condition is not met**. the `~` charater (say 'tilde') has to stand _before_ the condition: \n",
    "    *  e.g. `df.loc[~(df['1960'] < 1000)]` returs all countries with values not lower than 1000 (i.e. rows with values higher than 1000, including 1000.) \n",
    "\n",
    "You can combine these boolean operations in many ways using parentheses, as in the following example, which returns all countries with values between 1000 and 3000, or countries with values exactly 10000 in 1960.\n",
    "\n",
    "`df.loc[((df['1960'] > 1000) & (countryData['1960'] < 3000)) | (countryData['1960'] == 10000)]`"
   ]
  },
  {
   "cell_type": "markdown",
   "metadata": {},
   "source": [
    "_Can you get only those countries whose values have increased from below 10000 in 1950 to over 300000 in 2010?_"
   ]
  },
  {
   "cell_type": "code",
   "execution_count": 28,
   "metadata": {
    "scrolled": true
   },
   "outputs": [
    {
     "data": {
      "text/html": [
       "<div>\n",
       "<table border=\"1\" class=\"dataframe\">\n",
       "  <thead>\n",
       "    <tr style=\"text-align: right;\">\n",
       "      <th></th>\n",
       "      <th>1950</th>\n",
       "      <th>1955</th>\n",
       "      <th>1960</th>\n",
       "      <th>1965</th>\n",
       "      <th>1970</th>\n",
       "      <th>1975</th>\n",
       "      <th>1980</th>\n",
       "      <th>1985</th>\n",
       "      <th>1990</th>\n",
       "      <th>1995</th>\n",
       "      <th>2000</th>\n",
       "      <th>2005</th>\n",
       "      <th>2010</th>\n",
       "      <th>2015</th>\n",
       "    </tr>\n",
       "    <tr>\n",
       "      <th>countries</th>\n",
       "      <th></th>\n",
       "      <th></th>\n",
       "      <th></th>\n",
       "      <th></th>\n",
       "      <th></th>\n",
       "      <th></th>\n",
       "      <th></th>\n",
       "      <th></th>\n",
       "      <th></th>\n",
       "      <th></th>\n",
       "      <th></th>\n",
       "      <th></th>\n",
       "      <th></th>\n",
       "      <th></th>\n",
       "    </tr>\n",
       "  </thead>\n",
       "  <tbody>\n",
       "  </tbody>\n",
       "</table>\n",
       "</div>"
      ],
      "text/plain": [
       "Empty DataFrame\n",
       "Columns: [1950, 1955, 1960, 1965, 1970, 1975, 1980, 1985, 1990, 1995, 2000, 2005, 2010, 2015]\n",
       "Index: []"
      ]
     },
     "execution_count": 28,
     "metadata": {},
     "output_type": "execute_result"
    }
   ],
   "source": [
    "# Boolean operations can be used in df.iloc[] and df.loc[]\n",
    "# comparision between a fixed value\n",
    "countryData.loc[(countryData[\"1950\"]) < 10000 & (countryData[\"2010\"] > 300000)] # () is important"
   ]
  },
  {
   "cell_type": "markdown",
   "metadata": {},
   "source": [
    "Being able to filter rows and columns by index (`iloc[]`), name (`loc[]`), and conditional values, we can now proceed with calculating statistical values on rows and columns. In the following, we introduce Numpy, a library for exactly this purpose.  \n",
    "\n",
    "Write a few more scripts to search for some more values, using conditions:"
   ]
  },
  {
   "cell_type": "code",
   "execution_count": 29,
   "metadata": {},
   "outputs": [
    {
     "data": {
      "text/plain": [
       "Index(['Brazil', 'China', 'Germany', 'Iran', 'Japan', 'Russia',\n",
       "       'United Kingdom', 'United States'],\n",
       "      dtype='object', name='countries')"
      ]
     },
     "execution_count": 29,
     "metadata": {},
     "output_type": "execute_result"
    }
   ],
   "source": [
    "# get only those countries whose values have decreased in 2010 from 2005?\n",
    "# comparision between columns\n",
    "countryData.loc[(countryData[\"2010\"] < countryData[\"2005\"])].index"
   ]
  },
  {
   "cell_type": "markdown",
   "metadata": {},
   "source": [
    "# Numpy"
   ]
  },
  {
   "cell_type": "markdown",
   "metadata": {},
   "source": [
    "Numpy is a python module for all sorts of numerical operations and statistical analysis (http://www.numpy.org). We import numpy as follows:"
   ]
  },
  {
   "cell_type": "code",
   "execution_count": 30,
   "metadata": {
    "collapsed": true
   },
   "outputs": [],
   "source": [
    "import numpy as np"
   ]
  },
  {
   "cell_type": "markdown",
   "metadata": {},
   "source": [
    "The directive `as np` assigns an abbreviation to the module with the official name `numpy` (`np` is the standard abbrevation for numpy used in most other  tutorials and references). To call a function from an imported module, you can then use your abbreviation like so:"
   ]
  },
  {
   "cell_type": "markdown",
   "metadata": {},
   "source": [
    "`np.sum(1,2,3)` instead of `numpy.sum(1,2,3)` (the `sum(..)` function returns the sum of the passed arguments). "
   ]
  },
  {
   "cell_type": "markdown",
   "metadata": {
    "collapsed": true
   },
   "source": [
    "## Descriptive Statistics with Numpy"
   ]
  },
  {
   "cell_type": "markdown",
   "metadata": {
    "collapsed": true
   },
   "source": [
    "Given the data above, let's calculate some simple descriptive statistic values for each country: mean, median, standart deviation, min, max, etc. \n",
    "The functions we need are\n",
    "* `np.mean(myarrayhere)` --- returns the arithmetic mean \n",
    "* `np.median(myarrayhere)` --- returns the median (the value half-way through an ordered set https://en.wikipedia.org/wiki/Median)\n",
    "* `np.std(myarrayhere)`\n",
    "More useful numpy functions are found here: https://docs.scipy.org/doc/numpy/reference/routines.statistics.html\n"
   ]
  },
  {
   "cell_type": "markdown",
   "metadata": {
    "collapsed": true
   },
   "source": [
    "## Simple Array Example\n",
    "\n",
    "Let's start with a a simple example. We create an array of length 10 of some random numers, using numpy's `rand` function in the `random` package (`np.random.rand(DESIRED_ARRAY_LENGTH_HERE)`). Then print that array."
   ]
  },
  {
   "cell_type": "code",
   "execution_count": 31,
   "metadata": {
    "collapsed": true
   },
   "outputs": [],
   "source": [
    "a = np.random.rand(10)"
   ]
  },
  {
   "cell_type": "markdown",
   "metadata": {
    "collapsed": true
   },
   "source": [
    "Now, can you calculate all the values in the above box for these numbers? (mean, median, sum, std) "
   ]
  },
  {
   "cell_type": "code",
   "execution_count": 32,
   "metadata": {
    "scrolled": true
   },
   "outputs": [
    {
     "name": "stdout",
     "output_type": "stream",
     "text": [
      "0.478229008143\n",
      "0.438307872265\n",
      "0.245415774928\n"
     ]
    }
   ],
   "source": [
    "print(np.mean(a))\n",
    "print(np.median(a))\n",
    "print(np.std(a))"
   ]
  },
  {
   "cell_type": "markdown",
   "metadata": {},
   "source": [
    "## Data Example\n",
    "\n",
    "Now, we are turning back to our country example. Note that numpy wants arrays, not tables. Hence, from our data set we can calculate statistics only per row and per colum, but not for multiple rows or multiple columns. "
   ]
  },
  {
   "cell_type": "markdown",
   "metadata": {},
   "source": [
    "_Can you calculate the mean value in 1990 across all countries?_ Tip: first, get the country data for 1990 using some of pandas selection functions, then pass them as a parameter to the corresponding numpy function."
   ]
  },
  {
   "cell_type": "code",
   "execution_count": 33,
   "metadata": {},
   "outputs": [
    {
     "name": "stdout",
     "output_type": "stream",
     "text": [
      "countries\n",
      "Afghanistan                NaN\n",
      "Brazil             1613.136923\n",
      "China                99.080123\n",
      "Germany                    NaN\n",
      "Iran               1117.218268\n",
      "Japan             13726.062655\n",
      "Malawi              126.008610\n",
      "Russia                     NaN\n",
      "United Kingdom    11645.431541\n",
      "United States     17374.536484\n",
      "Name: 1990, dtype: float64\n"
     ]
    },
    {
     "data": {
      "text/plain": [
       "6528.782086357598"
      ]
     },
     "execution_count": 33,
     "metadata": {},
     "output_type": "execute_result"
    }
   ],
   "source": [
    "# mean vertically\n",
    "print(countryData['1990'])\n",
    "np.mean(countryData['1990']) # np functions can directly used for data frame"
   ]
  },
  {
   "cell_type": "markdown",
   "metadata": {},
   "source": [
    "The value should be `6528.782086357598`"
   ]
  },
  {
   "cell_type": "markdown",
   "metadata": {},
   "source": [
    "_Can you calculate the mean for `Brazil` for all years?_"
   ]
  },
  {
   "cell_type": "code",
   "execution_count": 34,
   "metadata": {},
   "outputs": [
    {
     "name": "stdout",
     "output_type": "stream",
     "text": [
      "1950    4297.823854\n",
      "1955    3739.919389\n",
      "1960    3693.275820\n",
      "1965    3279.686396\n",
      "1970    3584.074016\n",
      "1975    3245.573152\n",
      "1980    3154.720552\n",
      "1985    2363.511202\n",
      "1990    1613.136923\n",
      "1995    1581.625423\n",
      "2000    4716.614125\n",
      "2005    3976.619168\n",
      "2010    3696.146772\n",
      "2015            NaN\n",
      "Name: Brazil, dtype: float64\n"
     ]
    },
    {
     "data": {
      "text/plain": [
       "3303.2866764551354"
      ]
     },
     "execution_count": 34,
     "metadata": {},
     "output_type": "execute_result"
    }
   ],
   "source": [
    "# mean herizontally\n",
    "print(countryData.loc[\"Brazil\"])\n",
    "np.mean(countryData.loc[\"Brazil\"])"
   ]
  },
  {
   "cell_type": "markdown",
   "metadata": {},
   "source": [
    "The value should be `3303.2866764551354`"
   ]
  },
  {
   "cell_type": "markdown",
   "metadata": {},
   "source": [
    "Can you calculate the mean for Brazil for the years 1950 to 1970?"
   ]
  },
  {
   "cell_type": "code",
   "execution_count": 35,
   "metadata": {},
   "outputs": [
    {
     "data": {
      "text/plain": [
       "3718.9558952249158"
      ]
     },
     "execution_count": 35,
     "metadata": {},
     "output_type": "execute_result"
    }
   ],
   "source": [
    "np.mean(countryData.loc[\"Brazil\", \"1950\":\"1970\"])"
   ]
  },
  {
   "cell_type": "code",
   "execution_count": 36,
   "metadata": {},
   "outputs": [
    {
     "data": {
      "text/plain": [
       "3718.9558952249158"
      ]
     },
     "execution_count": 36,
     "metadata": {},
     "output_type": "execute_result"
    }
   ],
   "source": [
    "np.mean(countryData.loc[\"Brazil\", \"1950\":\"1970\"]) # in loc[] function, range is inclusice in both sides"
   ]
  },
  {
   "cell_type": "markdown",
   "metadata": {},
   "source": [
    "_Can you calculate the two means for Brazil and for Germany for the two years 1950 and 1970?_"
   ]
  },
  {
   "cell_type": "code",
   "execution_count": 37,
   "metadata": {},
   "outputs": [
    {
     "name": "stdout",
     "output_type": "stream",
     "text": [
      "3940.94893523\n",
      "21467.1080135\n"
     ]
    }
   ],
   "source": [
    "print(np.mean(countryData.loc[\"Brazil\", [\"1950\", \"1970\"]]))\n",
    "print(np.mean(countryData.loc[\"Germany\", [\"1950\", \"1970\"]]))"
   ]
  },
  {
   "cell_type": "code",
   "execution_count": 38,
   "metadata": {
    "scrolled": true
   },
   "outputs": [
    {
     "name": "stdout",
     "output_type": "stream",
     "text": [
      "<class 'pandas.core.series.Series'>\n"
     ]
    },
    {
     "data": {
      "text/plain": [
       "3584.0740164600397"
      ]
     },
     "execution_count": 38,
     "metadata": {},
     "output_type": "execute_result"
    }
   ],
   "source": [
    "np.mean(countryData.loc[\"Brazil\", countryData.columns]) # we can use countryData.columns, for rows use countryData.index\n",
    "np.mean(countryData.loc[\"Brazil\", countryData.columns != '1950']) # condition\n",
    "\n",
    "print(type(countryData.loc[\"Brazil\"])) # <class 'pandas.core.series.Series'>\n",
    "\n",
    "# one way to find mode\n",
    "# https://stackoverflow.com/questions/10797819/finding-the-mode-of-a-list\n",
    "from collections import Counter\n",
    "\n",
    "data_for_mode = Counter(countryData.loc[\"Brazil\"])\n",
    "data_for_mode.most_common(1)[0][0]\n",
    "\n",
    "        "
   ]
  },
  {
   "cell_type": "markdown",
   "metadata": {},
   "source": [
    "Can you calculate the mode for Brazil for all those years?"
   ]
  },
  {
   "cell_type": "markdown",
   "metadata": {},
   "source": [
    "### Iterating through a DataFrame. \n",
    "\n",
    "Now that we can print values for each row and column individually, you may ask for an automization of that proceedure: can we just print all the means for all rows in one statement. Unfortunately not automatically, but we can iterate through the rows using a loop:"
   ]
  },
  {
   "cell_type": "markdown",
   "metadata": {},
   "source": [
    "`for index, row in countryData.iterrows():\n",
    "   print(index)`\n",
    "    \n",
    "`index` in our case will return the label and row an array of numbers in this row."
   ]
  },
  {
   "cell_type": "markdown",
   "metadata": {},
   "source": [
    "_Can you complete the loop and print all the countries means?_"
   ]
  },
  {
   "cell_type": "code",
   "execution_count": 39,
   "metadata": {},
   "outputs": [
    {
     "name": "stdout",
     "output_type": "stream",
     "text": [
      "Afghanistan: nan\n",
      "Brazil: 3303.2866764551354\n",
      "China: 773.8214749084223\n",
      "Germany: 20303.406129572628\n",
      "Iran: 1638.706047734752\n",
      "Japan: 29478.080681966087\n",
      "Malawi: 144.518602088105\n",
      "Russia: 2242.7707869061855\n",
      "United Kingdom: 20397.765254432183\n",
      "United States: 28161.221247288784\n"
     ]
    }
   ],
   "source": [
    "# iterating through dataframe <-> iterate rows in the dataframe\n",
    "for label, row in countryData.iterrows():\n",
    "    print (\"{}: {}\".format(label, np.mean(countryData.loc[label])))"
   ]
  },
  {
   "cell_type": "markdown",
   "metadata": {},
   "source": [
    "## More Array Functions with Numpy"
   ]
  },
  {
   "cell_type": "markdown",
   "metadata": {},
   "source": [
    "Numpy can do more than descrptics statistics. Here is a list of useful functions: \n",
    "\n",
    "* `np.size(array)`: returns the length of an array, i.e. how many elements it contains\n",
    "* `np.sort(array)`: sorts the array\n",
    "* `np.maximum(array)`: \n",
    "\n"
   ]
  },
  {
   "cell_type": "markdown",
   "metadata": {},
   "source": [
    "Can you output only the countries with the highest and lowest means across all years?"
   ]
  },
  {
   "cell_type": "code",
   "execution_count": 40,
   "metadata": {},
   "outputs": [
    {
     "name": "stdout",
     "output_type": "stream",
     "text": [
      "Japan\n",
      "Malawi\n"
     ]
    }
   ],
   "source": [
    "# is there another way to do this?\n",
    "# d = {}\n",
    "# for index, row in countryData.iterrows():\n",
    "#     d[index] = np.mean(countryData.loc[index])\n",
    "\n",
    "# from operator import itemgetter\n",
    "# min_key, _ = min(d.items(), key=itemgetter(1))\n",
    "# max_key, _ = max(d.items(), key=itemgetter(1))\n",
    "\n",
    "# print(min_key, max_key) # Malawi Japan\n",
    "\n",
    "##################################################\n",
    "# import pandas as pd\n",
    "# import numpy as np\n",
    "\n",
    "# raw_data = pd.read_csv(\"gpd_per_capita_new.csv\")\n",
    "# countryData = raw_data.set_index('countries', inplace=False)\n",
    "\n",
    "# means = []\n",
    "# for label, row in countryData.iterrows():\n",
    "#     means.append(np.mean(row))\n",
    "# print(means)\n",
    "\n",
    "# https://pandas.pydata.org/pandas-docs/stable/generated/pandas.DataFrame.mean.html\n",
    "countryData[\"mean\"] = countryData.mean(axis=1)\n",
    "\n",
    "max_mean = np.max(countryData[\"mean\"])\n",
    "min_mean = np.min(countryData[\"mean\"])\n",
    "\n",
    "# user filter to answer the query\n",
    "print(countryData.loc[countryData[\"mean\"] == max_mean].index[0]) # .loc[].index return row label\n",
    "                                                                 # filter, countryData[\"mean\"] == max_mean\n",
    "print(countryData.loc[countryData[\"mean\"] == min_mean].index[0])"
   ]
  },
  {
   "cell_type": "code",
   "execution_count": 41,
   "metadata": {},
   "outputs": [
    {
     "data": {
      "text/html": [
       "<div>\n",
       "<table border=\"1\" class=\"dataframe\">\n",
       "  <thead>\n",
       "    <tr style=\"text-align: right;\">\n",
       "      <th></th>\n",
       "      <th>1950</th>\n",
       "      <th>1955</th>\n",
       "      <th>1960</th>\n",
       "      <th>1965</th>\n",
       "      <th>1970</th>\n",
       "      <th>1975</th>\n",
       "      <th>1980</th>\n",
       "      <th>1985</th>\n",
       "      <th>1990</th>\n",
       "      <th>1995</th>\n",
       "      <th>2000</th>\n",
       "      <th>2005</th>\n",
       "      <th>2010</th>\n",
       "      <th>2015</th>\n",
       "      <th>mean</th>\n",
       "    </tr>\n",
       "    <tr>\n",
       "      <th>countries</th>\n",
       "      <th></th>\n",
       "      <th></th>\n",
       "      <th></th>\n",
       "      <th></th>\n",
       "      <th></th>\n",
       "      <th></th>\n",
       "      <th></th>\n",
       "      <th></th>\n",
       "      <th></th>\n",
       "      <th></th>\n",
       "      <th></th>\n",
       "      <th></th>\n",
       "      <th></th>\n",
       "      <th></th>\n",
       "      <th></th>\n",
       "    </tr>\n",
       "  </thead>\n",
       "  <tbody>\n",
       "    <tr>\n",
       "      <th>Afghanistan</th>\n",
       "      <td>NaN</td>\n",
       "      <td>NaN</td>\n",
       "      <td>NaN</td>\n",
       "      <td>NaN</td>\n",
       "      <td>NaN</td>\n",
       "      <td>NaN</td>\n",
       "      <td>NaN</td>\n",
       "      <td>NaN</td>\n",
       "      <td>NaN</td>\n",
       "      <td>NaN</td>\n",
       "      <td>NaN</td>\n",
       "      <td>NaN</td>\n",
       "      <td>NaN</td>\n",
       "      <td>NaN</td>\n",
       "      <td>NaN</td>\n",
       "    </tr>\n",
       "    <tr>\n",
       "      <th>Brazil</th>\n",
       "      <td>4297.823854</td>\n",
       "      <td>3739.919389</td>\n",
       "      <td>3693.275820</td>\n",
       "      <td>3279.686396</td>\n",
       "      <td>3584.074016</td>\n",
       "      <td>3245.573152</td>\n",
       "      <td>3154.720552</td>\n",
       "      <td>2363.511202</td>\n",
       "      <td>1613.136923</td>\n",
       "      <td>1581.625423</td>\n",
       "      <td>4716.614125</td>\n",
       "      <td>3976.619168</td>\n",
       "      <td>3696.146772</td>\n",
       "      <td>NaN</td>\n",
       "      <td>3303.286676</td>\n",
       "    </tr>\n",
       "    <tr>\n",
       "      <th>China</th>\n",
       "      <td>1864.102702</td>\n",
       "      <td>1105.952557</td>\n",
       "      <td>774.884634</td>\n",
       "      <td>475.928870</td>\n",
       "      <td>341.021294</td>\n",
       "      <td>208.170863</td>\n",
       "      <td>149.660068</td>\n",
       "      <td>128.934980</td>\n",
       "      <td>99.080123</td>\n",
       "      <td>72.324927</td>\n",
       "      <td>2426.332466</td>\n",
       "      <td>1464.107627</td>\n",
       "      <td>949.178062</td>\n",
       "      <td>NaN</td>\n",
       "      <td>773.821475</td>\n",
       "    </tr>\n",
       "    <tr>\n",
       "      <th>Germany</th>\n",
       "      <td>25297.385393</td>\n",
       "      <td>23217.332027</td>\n",
       "      <td>21502.721444</td>\n",
       "      <td>20685.689979</td>\n",
       "      <td>17636.830634</td>\n",
       "      <td>15810.553193</td>\n",
       "      <td>14545.428257</td>\n",
       "      <td>12711.156762</td>\n",
       "      <td>NaN</td>\n",
       "      <td>NaN</td>\n",
       "      <td>25420.275718</td>\n",
       "      <td>23564.385168</td>\n",
       "      <td>22945.708850</td>\n",
       "      <td>NaN</td>\n",
       "      <td>20303.406130</td>\n",
       "    </tr>\n",
       "    <tr>\n",
       "      <th>Iran</th>\n",
       "      <td>2125.030252</td>\n",
       "      <td>1679.664398</td>\n",
       "      <td>1484.666023</td>\n",
       "      <td>1445.852456</td>\n",
       "      <td>1241.647502</td>\n",
       "      <td>1477.011852</td>\n",
       "      <td>2204.420456</td>\n",
       "      <td>1793.574657</td>\n",
       "      <td>1117.218268</td>\n",
       "      <td>NaN</td>\n",
       "      <td>NaN</td>\n",
       "      <td>1906.590054</td>\n",
       "      <td>1550.090608</td>\n",
       "      <td>NaN</td>\n",
       "      <td>1638.706048</td>\n",
       "    </tr>\n",
       "    <tr>\n",
       "      <th>Japan</th>\n",
       "      <td>40837.266644</td>\n",
       "      <td>37363.287444</td>\n",
       "      <td>37518.580858</td>\n",
       "      <td>35465.925444</td>\n",
       "      <td>29064.222359</td>\n",
       "      <td>24444.201743</td>\n",
       "      <td>20680.657410</td>\n",
       "      <td>18398.721184</td>\n",
       "      <td>13726.062655</td>\n",
       "      <td>9157.323309</td>\n",
       "      <td>39971.787453</td>\n",
       "      <td>39295.306204</td>\n",
       "      <td>37291.706158</td>\n",
       "      <td>NaN</td>\n",
       "      <td>29478.080682</td>\n",
       "    </tr>\n",
       "    <tr>\n",
       "      <th>Malawi</th>\n",
       "      <td>157.621368</td>\n",
       "      <td>142.391448</td>\n",
       "      <td>155.373892</td>\n",
       "      <td>129.360236</td>\n",
       "      <td>138.371883</td>\n",
       "      <td>147.791025</td>\n",
       "      <td>153.275312</td>\n",
       "      <td>140.893353</td>\n",
       "      <td>126.008610</td>\n",
       "      <td>101.996530</td>\n",
       "      <td>180.902296</td>\n",
       "      <td>149.484330</td>\n",
       "      <td>155.271544</td>\n",
       "      <td>NaN</td>\n",
       "      <td>144.518602</td>\n",
       "    </tr>\n",
       "    <tr>\n",
       "      <th>Russia</th>\n",
       "      <td>2888.847355</td>\n",
       "      <td>1967.518602</td>\n",
       "      <td>1590.696500</td>\n",
       "      <td>2106.223762</td>\n",
       "      <td>NaN</td>\n",
       "      <td>NaN</td>\n",
       "      <td>NaN</td>\n",
       "      <td>NaN</td>\n",
       "      <td>NaN</td>\n",
       "      <td>NaN</td>\n",
       "      <td>2928.005033</td>\n",
       "      <td>2442.962966</td>\n",
       "      <td>1775.141291</td>\n",
       "      <td>NaN</td>\n",
       "      <td>2242.770787</td>\n",
       "    </tr>\n",
       "    <tr>\n",
       "      <th>United Kingdom</th>\n",
       "      <td>29771.303348</td>\n",
       "      <td>26214.967350</td>\n",
       "      <td>22732.538466</td>\n",
       "      <td>19721.738642</td>\n",
       "      <td>18699.035806</td>\n",
       "      <td>15734.180645</td>\n",
       "      <td>15060.070280</td>\n",
       "      <td>13682.098477</td>\n",
       "      <td>11645.431541</td>\n",
       "      <td>10253.593702</td>\n",
       "      <td>28244.336936</td>\n",
       "      <td>28354.039583</td>\n",
       "      <td>25057.613530</td>\n",
       "      <td>NaN</td>\n",
       "      <td>20397.765254</td>\n",
       "    </tr>\n",
       "    <tr>\n",
       "      <th>United States</th>\n",
       "      <td>38710.885442</td>\n",
       "      <td>35427.909964</td>\n",
       "      <td>31831.461594</td>\n",
       "      <td>28401.465176</td>\n",
       "      <td>26549.876022</td>\n",
       "      <td>22310.239369</td>\n",
       "      <td>21491.820177</td>\n",
       "      <td>19441.379908</td>\n",
       "      <td>17374.536484</td>\n",
       "      <td>14426.757715</td>\n",
       "      <td>37329.615914</td>\n",
       "      <td>37718.005367</td>\n",
       "      <td>35081.923084</td>\n",
       "      <td>NaN</td>\n",
       "      <td>28161.221247</td>\n",
       "    </tr>\n",
       "  </tbody>\n",
       "</table>\n",
       "</div>"
      ],
      "text/plain": [
       "                        1950          1955          1960          1965  \\\n",
       "countries                                                                \n",
       "Afghanistan              NaN           NaN           NaN           NaN   \n",
       "Brazil           4297.823854   3739.919389   3693.275820   3279.686396   \n",
       "China            1864.102702   1105.952557    774.884634    475.928870   \n",
       "Germany         25297.385393  23217.332027  21502.721444  20685.689979   \n",
       "Iran             2125.030252   1679.664398   1484.666023   1445.852456   \n",
       "Japan           40837.266644  37363.287444  37518.580858  35465.925444   \n",
       "Malawi            157.621368    142.391448    155.373892    129.360236   \n",
       "Russia           2888.847355   1967.518602   1590.696500   2106.223762   \n",
       "United Kingdom  29771.303348  26214.967350  22732.538466  19721.738642   \n",
       "United States   38710.885442  35427.909964  31831.461594  28401.465176   \n",
       "\n",
       "                        1970          1975          1980          1985  \\\n",
       "countries                                                                \n",
       "Afghanistan              NaN           NaN           NaN           NaN   \n",
       "Brazil           3584.074016   3245.573152   3154.720552   2363.511202   \n",
       "China             341.021294    208.170863    149.660068    128.934980   \n",
       "Germany         17636.830634  15810.553193  14545.428257  12711.156762   \n",
       "Iran             1241.647502   1477.011852   2204.420456   1793.574657   \n",
       "Japan           29064.222359  24444.201743  20680.657410  18398.721184   \n",
       "Malawi            138.371883    147.791025    153.275312    140.893353   \n",
       "Russia                   NaN           NaN           NaN           NaN   \n",
       "United Kingdom  18699.035806  15734.180645  15060.070280  13682.098477   \n",
       "United States   26549.876022  22310.239369  21491.820177  19441.379908   \n",
       "\n",
       "                        1990          1995          2000          2005  \\\n",
       "countries                                                                \n",
       "Afghanistan              NaN           NaN           NaN           NaN   \n",
       "Brazil           1613.136923   1581.625423   4716.614125   3976.619168   \n",
       "China              99.080123     72.324927   2426.332466   1464.107627   \n",
       "Germany                  NaN           NaN  25420.275718  23564.385168   \n",
       "Iran             1117.218268           NaN           NaN   1906.590054   \n",
       "Japan           13726.062655   9157.323309  39971.787453  39295.306204   \n",
       "Malawi            126.008610    101.996530    180.902296    149.484330   \n",
       "Russia                   NaN           NaN   2928.005033   2442.962966   \n",
       "United Kingdom  11645.431541  10253.593702  28244.336936  28354.039583   \n",
       "United States   17374.536484  14426.757715  37329.615914  37718.005367   \n",
       "\n",
       "                        2010  2015          mean  \n",
       "countries                                         \n",
       "Afghanistan              NaN   NaN           NaN  \n",
       "Brazil           3696.146772   NaN   3303.286676  \n",
       "China             949.178062   NaN    773.821475  \n",
       "Germany         22945.708850   NaN  20303.406130  \n",
       "Iran             1550.090608   NaN   1638.706048  \n",
       "Japan           37291.706158   NaN  29478.080682  \n",
       "Malawi            155.271544   NaN    144.518602  \n",
       "Russia           1775.141291   NaN   2242.770787  \n",
       "United Kingdom  25057.613530   NaN  20397.765254  \n",
       "United States   35081.923084   NaN  28161.221247  "
      ]
     },
     "execution_count": 41,
     "metadata": {},
     "output_type": "execute_result"
    }
   ],
   "source": [
    "countryData"
   ]
  },
  {
   "cell_type": "markdown",
   "metadata": {},
   "source": [
    "Can you output only the countries with the highest and lowest values in 1980? "
   ]
  },
  {
   "cell_type": "code",
   "execution_count": 42,
   "metadata": {},
   "outputs": [
    {
     "name": "stdout",
     "output_type": "stream",
     "text": [
      "countries\n",
      "Afghanistan                NaN\n",
      "Brazil             3154.720552\n",
      "China               149.660068\n",
      "Germany           14545.428257\n",
      "Iran               2204.420456\n",
      "Japan             20680.657410\n",
      "Malawi              153.275312\n",
      "Russia                     NaN\n",
      "United Kingdom    15060.070280\n",
      "United States     21491.820177\n",
      "Name: 1980, dtype: float64\n",
      "United States\n",
      "China\n"
     ]
    }
   ],
   "source": [
    "# print(countryData.index) # this is row\n",
    "# print(countryData.columns) # this is column\n",
    "\n",
    "print(countryData[\"1980\"])\n",
    "\n",
    "print(countryData.loc[countryData[\"1980\"] == np.max(countryData[\"1980\"])].index[0])\n",
    "print(countryData.loc[countryData[\"1980\"] == np.min(countryData[\"1980\"])].index[0])"
   ]
  },
  {
   "cell_type": "markdown",
   "metadata": {},
   "source": [
    "Can you output the means for the 3 countries that have the highest values in 1990."
   ]
  },
  {
   "cell_type": "code",
   "execution_count": 43,
   "metadata": {},
   "outputs": [
    {
     "data": {
      "text/plain": [
       "14248.6768933365"
      ]
     },
     "execution_count": 43,
     "metadata": {},
     "output_type": "execute_result"
    }
   ],
   "source": [
    "### sort dataframe given a specific column\n",
    "\n",
    "# https://stackoverflow.com/questions/37787698/how-to-sort-pandas-dataframe-from-one-column\n",
    "# countryData.sort_values(\"1990\")\n",
    "# countryData.sort_values(\"1990\")[-4:] # nan -> infinate\n",
    "\n",
    "# print(countryData.notnull(\"1990\"))\n",
    "# notnull() takes 1 positional argument but 2 were given\n",
    "\n",
    "### remove nan data in specific column\n",
    "\n",
    "# countryData.notnull() # return dataframe of boolean\n",
    "# countryData.notnull()[\"1990\"] # return series of boolean of column \"1990\"\n",
    "# we use filter to remove countries wirh nan values in year 1990\n",
    "# countryData.loc[countryData.notnull()[\"1990\"]]\n",
    "\n",
    "# dataframe of 3 countries that have the highest values in 1990\n",
    "# countryData.loc[countryData.notnull()[\"1990\"]].sort_values(\"1990\")[-3:]\n",
    "np.mean(countryData.loc[countryData.notnull()[\"1990\"]].sort_values(\"1990\")[-3:][\"1990\"])"
   ]
  },
  {
   "cell_type": "markdown",
   "metadata": {},
   "source": [
    "Which country has the highest increase in values from the first to the last year? "
   ]
  },
  {
   "cell_type": "code",
   "execution_count": 44,
   "metadata": {},
   "outputs": [
    {
     "data": {
      "text/plain": [
       "'Malawi'"
      ]
     },
     "execution_count": 44,
     "metadata": {},
     "output_type": "execute_result"
    }
   ],
   "source": [
    "countryData.loc[countryData[\"2010\"] - countryData[\"1950\"] == np.max(countryData[\"2010\"] - countryData[\"1950\"])].index[0]"
   ]
  },
  {
   "cell_type": "markdown",
   "metadata": {},
   "source": [
    "Which countries have higher values in 2010 (not 1990) than in 1960?"
   ]
  },
  {
   "cell_type": "code",
   "execution_count": 45,
   "metadata": {},
   "outputs": [
    {
     "data": {
      "text/plain": [
       "['Brazil',\n",
       " 'China',\n",
       " 'Germany',\n",
       " 'Iran',\n",
       " 'Russia',\n",
       " 'United Kingdom',\n",
       " 'United States']"
      ]
     },
     "execution_count": 45,
     "metadata": {},
     "output_type": "execute_result"
    }
   ],
   "source": [
    "list(countryData.loc[countryData[\"2010\"] > countryData[\"1960\"]].index)"
   ]
  },
  {
   "cell_type": "markdown",
   "metadata": {},
   "source": [
    "# Writing CSV files \n",
    "\n",
    "Eventually, after doing some stats or even after cleaning a large table, you may want to write data back into a csv file for later use. Let's assume that the comma in the previous data example had been misplaced by one digit and which we need to correct. \n",
    "\n",
    "First, iterate over all the numerical values and shift the comma one digit to the left. (e.g. 10.4 > 1.04). "
   ]
  },
  {
   "cell_type": "code",
   "execution_count": 46,
   "metadata": {},
   "outputs": [
    {
     "name": "stdout",
     "output_type": "stream",
     "text": [
      "[['countries', '1950', '1955', '1960', '1965', '1970', '1975', '1980', '1985', '1990', '1995', '2000', '2005', '2010', '2015'], ['Afghanistan', '', '', '', '', '', '', '', '', '', '', '', '', ''], ['Brazil', 4297.82385399312, 3739.91938942857, 3693.27582014833, 3279.68639609452, 3584.07401646004, 3245.57315217104, 3154.72055184122, 2363.5112024022, 1613.13692305826, 1581.62542312949, 4716.61412549824, 3976.61916776916, 3696.14677192256], ['China', 1864.10270222039, 1105.95255695671, 774.884634037432, 475.928869661473, 341.021293511227, 208.170863491313, 149.66006823476, 128.934979893935, 99.0801230616385, 72.3249273149585, 2426.33246633954, 1464.10762700312, 949.178062082992], ['Germany', 25297.3853934236, 23217.3320270132, 21502.7214441946, 20685.689979311, 17636.8306336143, 15810.553192641, 14545.4282572055, 12711.1567623386, '', '', 25420.2757175313, 23564.3851678751, 22945.7088501507], ['Iran', 2125.03025238419, 1679.66439805233, 1484.66602266377, 1445.852455639, 1241.64750201368, 1477.01185152704, 2204.42045612243, 1793.57465688276, 1117.21826803939, '', '', 1906.59005390127, 1550.09060785641], ['Japan', 40837.2666435385, 37363.287444285, 37518.5808584411, 35465.9254442694, 29064.2223585816, 24444.2017433701, 20680.6574101979, 18398.7211836064, 13726.0626551855, 9157.32330862219, 39971.7874534425, 39295.3062039741, 37291.7061580448], ['Malawi', 157.621367614219, 142.391447858489, 155.373892404938, 129.360235983862, 138.371882570601, 147.791025339285, 153.275311906547, 140.893352705692, 126.008610334396, 101.996530434011, 180.902295640664, 149.484329878294, 155.271544474367], ['Russia', 2888.84735487466, 1967.5186024261, 1590.69649953949, 2106.22376150602, '', '', '', '', '', '', 2928.00503306304, 2442.96296613797, 1775.14129079602], ['United Kingdom', 29771.3033482292, 26214.9673501074, 22732.5384659765, 19721.7386415673, 18699.0358062236, 15734.1806453541, 15060.0702804856, 13682.0984768808, 11645.43154074, 10253.5937022019, 28244.3369362973, 28354.0395830577, 25057.613530497], ['United States', 38710.8854415369, 35427.9099644915, 31831.4615941853, 28401.4651758974, 26549.8760217244, 22310.2393685234, 21491.8201766949, 19441.3799078951, 17374.536484084, 14426.7577149129, 37329.6159138676, 37718.0053665793, 35081.9230843615]]\n",
      "-----\n",
      "[['countries', '1950', '1955', '1960', '1965', '1970', '1975', '1980', '1985', '1990', '1995', '2000', '2005', '2010', '2015'], ['Afghanistan', '', '', '', '', '', '', '', '', '', '', '', '', ''], ['Brazil', 429.782385399312, 373.991938942857, 369.32758201483296, 327.968639609452, 358.407401646004, 324.557315217104, 315.47205518412204, 236.35112024022, 161.313692305826, 158.162542312949, 471.66141254982404, 397.661916776916, 369.614677192256], ['China', 186.410270222039, 110.595255695671, 77.4884634037432, 47.592886966147304, 34.1021293511227, 20.8170863491313, 14.966006823475999, 12.8934979893935, 9.908012306163851, 7.23249273149585, 242.633246633954, 146.41076270031198, 94.9178062082992], ['Germany', 2529.73853934236, 2321.73320270132, 2150.2721444194603, 2068.5689979311, 1763.68306336143, 1581.0553192641, 1454.54282572055, 1271.11567623386, '', '', 2542.0275717531304, 2356.4385167875103, 2294.57088501507], ['Iran', 212.503025238419, 167.966439805233, 148.466602266377, 144.5852455639, 124.164750201368, 147.701185152704, 220.44204561224302, 179.35746568827602, 111.72182680393901, '', '', 190.659005390127, 155.009060785641], ['Japan', 4083.7266643538505, 3736.3287444285, 3751.85808584411, 3546.59254442694, 2906.42223585816, 2444.42017433701, 2068.06574101979, 1839.8721183606401, 1372.6062655185501, 915.732330862219, 3997.17874534425, 3929.5306203974096, 3729.17061580448], ['Malawi', 15.7621367614219, 14.239144785848898, 15.5373892404938, 12.9360235983862, 13.8371882570601, 14.7791025339285, 15.3275311906547, 14.0893352705692, 12.6008610334396, 10.199653043401101, 18.090229564066398, 14.9484329878294, 15.5271544474367], ['Russia', 288.884735487466, 196.75186024261, 159.069649953949, 210.62237615060198, '', '', '', '', '', '', 292.800503306304, 244.29629661379698, 177.51412907960201], ['United Kingdom', 2977.1303348229203, 2621.49673501074, 2273.25384659765, 1972.17386415673, 1869.90358062236, 1573.41806453541, 1506.00702804856, 1368.20984768808, 1164.543154074, 1025.3593702201902, 2824.43369362973, 2835.40395830577, 2505.7613530497], ['United States', 3871.08854415369, 3542.7909964491496, 3183.1461594185303, 2840.14651758974, 2654.9876021724403, 2231.02393685234, 2149.18201766949, 1944.1379907895102, 1737.4536484084, 1442.6757714912899, 3732.96159138676, 3771.80053665793, 3508.19230843615]]\n"
     ]
    }
   ],
   "source": [
    "print(converted_data)\n",
    "\n",
    "converted_data_v2 = [raw_data[0]]\n",
    "for row in converted_data[1:]:\n",
    "    converted_row = [row[0]]\n",
    "    for entry in row[1:]:\n",
    "        if entry != \"\":\n",
    "            converted_row.append(entry / 10)\n",
    "        else:\n",
    "            converted_row.append(entry)\n",
    "    converted_data_v2.append(converted_row)\n",
    "    \n",
    "            \n",
    "print(\"-----\")\n",
    "\n",
    "print(converted_data_v2)"
   ]
  },
  {
   "cell_type": "markdown",
   "metadata": {},
   "source": [
    "Next, write all the values (including the first row) into a new csv file. Python writes csv files by opening a file, than creating a csv writer with the `csv.writer()` function, and eventually to write a single row int the file using the `writerow()` function:\n",
    "\n",
    "`with open('eggs.csv', 'wb') as csvfile: //note the 'wb' which opens the file in write mode.\n",
    "    spamwriter = csv.writer(csvfile, delimiter=' ',\n",
    "                            quotechar='|', quoting=csv.QUOTE_MINIMAL)\n",
    "    spamwriter.writerow(['Spam'] * 5 + ['Baked Beans'])`\n",
    "    \n",
    "There are more ways to write a csv file. See https://docs.python.org/2/library/csv.html for more information.    \n"
   ]
  },
  {
   "cell_type": "markdown",
   "metadata": {},
   "source": [
    "Can you export the data with the corrected values?"
   ]
  },
  {
   "cell_type": "code",
   "execution_count": 47,
   "metadata": {},
   "outputs": [],
   "source": [
    "# windows specific issue: newline=\"\"\n",
    "# https://stackoverflow.com/questions/3191528/csv-in-python-adding-an-extra-carriage-return\n",
    "with open(\"gdp_changed.csv\", \"w\", newline=\"\",) as f:\n",
    "    csv_writer = csv.writer(f, delimiter=',')\n",
    "    for row in converted_data_v2:\n",
    "        csv_writer.writerow(row)\n",
    "\n",
    "# for index, row in countryData.iterrows():\n",
    "#     # print(type(item)) # return tuple\n",
    "#     print(type(index)) # str\n",
    "#     print(type(row))  # return series"
   ]
  },
  {
   "cell_type": "code",
   "execution_count": 48,
   "metadata": {
    "collapsed": true,
    "scrolled": true
   },
   "outputs": [],
   "source": [
    "# since we want /10, we can also  use pure dataframe to do this\n",
    "# and then write into csv\n",
    "\n",
    "import pandas as pd\n",
    "import numpy as np\n",
    "import csv\n",
    "\n",
    "raw_data = pd.read_csv(\"gpd_per_capita_new.csv\")\n",
    "data = raw_data.set_index(\"countries\", inplace=False)\n",
    "data = data / 10\n",
    "\n",
    "with open(\"gpd_per_capita_new_changed.csv\", \"w\", newline=\"\") as f:\n",
    "    writer = csv.writer(f, delimiter=',')\n",
    "    writer.writerow(list(data.columns.values))\n",
    "    for index, row in data.iterrows():\n",
    "        writer.writerow([index] + list (row)) # write row as list\n",
    "        "
   ]
  },
  {
   "cell_type": "markdown",
   "metadata": {},
   "source": [
    "# That's it!\n",
    "\n",
    "Congratulations. You have made it. \n",
    "\n",
    "This tutorial introduced you to `pandas` and `numpy`. We explained you how to use pandas to select rows and columns and numpy to calculate some simple statistics. Numpy is very powerful and you will use it a lot in cases where you do not need `pandas`.\n",
    "\n",
    "However, to speed up the coding, pandas comes with some built-in functions for the above statistics:\n",
    "\n",
    "* `DataFrame.loc[COLUMN_NAME].mean()` --- returns you the mean for all values inthe `COLUMN_NAME` column.\n",
    "\n",
    "More infos on descriptive statistics with `pandas` can be found here: \n",
    "https://pandas.pydata.org/pandas-docs/stable/basics.html#descriptive-statistics\n",
    "\n",
    "Happy weekend. "
   ]
  },
  {
   "cell_type": "code",
   "execution_count": 49,
   "metadata": {},
   "outputs": [
    {
     "name": "stdout",
     "output_type": "stream",
     "text": [
      "end\n"
     ]
    }
   ],
   "source": [
    "print(\"end\")"
   ]
  },
  {
   "cell_type": "code",
   "execution_count": 50,
   "metadata": {},
   "outputs": [
    {
     "data": {
      "text/html": [
       "<div>\n",
       "<table border=\"1\" class=\"dataframe\">\n",
       "  <thead>\n",
       "    <tr style=\"text-align: right;\">\n",
       "      <th></th>\n",
       "      <th>1950</th>\n",
       "      <th>1955</th>\n",
       "      <th>1960</th>\n",
       "      <th>1965</th>\n",
       "      <th>1970</th>\n",
       "      <th>1975</th>\n",
       "      <th>1980</th>\n",
       "      <th>1985</th>\n",
       "      <th>1990</th>\n",
       "      <th>1995</th>\n",
       "      <th>2000</th>\n",
       "      <th>2005</th>\n",
       "      <th>2010</th>\n",
       "      <th>2015</th>\n",
       "      <th>mean</th>\n",
       "    </tr>\n",
       "    <tr>\n",
       "      <th>countries</th>\n",
       "      <th></th>\n",
       "      <th></th>\n",
       "      <th></th>\n",
       "      <th></th>\n",
       "      <th></th>\n",
       "      <th></th>\n",
       "      <th></th>\n",
       "      <th></th>\n",
       "      <th></th>\n",
       "      <th></th>\n",
       "      <th></th>\n",
       "      <th></th>\n",
       "      <th></th>\n",
       "      <th></th>\n",
       "      <th></th>\n",
       "    </tr>\n",
       "  </thead>\n",
       "  <tbody>\n",
       "    <tr>\n",
       "      <th>Brazil</th>\n",
       "      <td>4297.823854</td>\n",
       "      <td>3739.919389</td>\n",
       "      <td>3693.275820</td>\n",
       "      <td>3279.686396</td>\n",
       "      <td>3584.074016</td>\n",
       "      <td>3245.573152</td>\n",
       "      <td>3154.720552</td>\n",
       "      <td>2363.511202</td>\n",
       "      <td>1613.136923</td>\n",
       "      <td>1581.625423</td>\n",
       "      <td>4716.614125</td>\n",
       "      <td>3976.619168</td>\n",
       "      <td>3696.146772</td>\n",
       "      <td>NaN</td>\n",
       "      <td>3303.286676</td>\n",
       "    </tr>\n",
       "    <tr>\n",
       "      <th>China</th>\n",
       "      <td>1864.102702</td>\n",
       "      <td>1105.952557</td>\n",
       "      <td>774.884634</td>\n",
       "      <td>475.928870</td>\n",
       "      <td>341.021294</td>\n",
       "      <td>208.170863</td>\n",
       "      <td>149.660068</td>\n",
       "      <td>128.934980</td>\n",
       "      <td>99.080123</td>\n",
       "      <td>72.324927</td>\n",
       "      <td>2426.332466</td>\n",
       "      <td>1464.107627</td>\n",
       "      <td>949.178062</td>\n",
       "      <td>NaN</td>\n",
       "      <td>773.821475</td>\n",
       "    </tr>\n",
       "    <tr>\n",
       "      <th>Germany</th>\n",
       "      <td>25297.385393</td>\n",
       "      <td>23217.332027</td>\n",
       "      <td>21502.721444</td>\n",
       "      <td>20685.689979</td>\n",
       "      <td>17636.830634</td>\n",
       "      <td>15810.553193</td>\n",
       "      <td>14545.428257</td>\n",
       "      <td>12711.156762</td>\n",
       "      <td>NaN</td>\n",
       "      <td>NaN</td>\n",
       "      <td>25420.275718</td>\n",
       "      <td>23564.385168</td>\n",
       "      <td>22945.708850</td>\n",
       "      <td>NaN</td>\n",
       "      <td>20303.406130</td>\n",
       "    </tr>\n",
       "    <tr>\n",
       "      <th>Iran</th>\n",
       "      <td>2125.030252</td>\n",
       "      <td>1679.664398</td>\n",
       "      <td>1484.666023</td>\n",
       "      <td>1445.852456</td>\n",
       "      <td>1241.647502</td>\n",
       "      <td>1477.011852</td>\n",
       "      <td>2204.420456</td>\n",
       "      <td>1793.574657</td>\n",
       "      <td>1117.218268</td>\n",
       "      <td>NaN</td>\n",
       "      <td>NaN</td>\n",
       "      <td>1906.590054</td>\n",
       "      <td>1550.090608</td>\n",
       "      <td>NaN</td>\n",
       "      <td>1638.706048</td>\n",
       "    </tr>\n",
       "    <tr>\n",
       "      <th>Japan</th>\n",
       "      <td>40837.266644</td>\n",
       "      <td>37363.287444</td>\n",
       "      <td>37518.580858</td>\n",
       "      <td>35465.925444</td>\n",
       "      <td>29064.222359</td>\n",
       "      <td>24444.201743</td>\n",
       "      <td>20680.657410</td>\n",
       "      <td>18398.721184</td>\n",
       "      <td>13726.062655</td>\n",
       "      <td>9157.323309</td>\n",
       "      <td>39971.787453</td>\n",
       "      <td>39295.306204</td>\n",
       "      <td>37291.706158</td>\n",
       "      <td>NaN</td>\n",
       "      <td>29478.080682</td>\n",
       "    </tr>\n",
       "    <tr>\n",
       "      <th>Malawi</th>\n",
       "      <td>157.621368</td>\n",
       "      <td>142.391448</td>\n",
       "      <td>155.373892</td>\n",
       "      <td>129.360236</td>\n",
       "      <td>138.371883</td>\n",
       "      <td>147.791025</td>\n",
       "      <td>153.275312</td>\n",
       "      <td>140.893353</td>\n",
       "      <td>126.008610</td>\n",
       "      <td>101.996530</td>\n",
       "      <td>180.902296</td>\n",
       "      <td>149.484330</td>\n",
       "      <td>155.271544</td>\n",
       "      <td>NaN</td>\n",
       "      <td>144.518602</td>\n",
       "    </tr>\n",
       "    <tr>\n",
       "      <th>Russia</th>\n",
       "      <td>2888.847355</td>\n",
       "      <td>1967.518602</td>\n",
       "      <td>1590.696500</td>\n",
       "      <td>2106.223762</td>\n",
       "      <td>NaN</td>\n",
       "      <td>NaN</td>\n",
       "      <td>NaN</td>\n",
       "      <td>NaN</td>\n",
       "      <td>NaN</td>\n",
       "      <td>NaN</td>\n",
       "      <td>2928.005033</td>\n",
       "      <td>2442.962966</td>\n",
       "      <td>1775.141291</td>\n",
       "      <td>NaN</td>\n",
       "      <td>2242.770787</td>\n",
       "    </tr>\n",
       "    <tr>\n",
       "      <th>United Kingdom</th>\n",
       "      <td>29771.303348</td>\n",
       "      <td>26214.967350</td>\n",
       "      <td>22732.538466</td>\n",
       "      <td>19721.738642</td>\n",
       "      <td>18699.035806</td>\n",
       "      <td>15734.180645</td>\n",
       "      <td>15060.070280</td>\n",
       "      <td>13682.098477</td>\n",
       "      <td>11645.431541</td>\n",
       "      <td>10253.593702</td>\n",
       "      <td>28244.336936</td>\n",
       "      <td>28354.039583</td>\n",
       "      <td>25057.613530</td>\n",
       "      <td>NaN</td>\n",
       "      <td>20397.765254</td>\n",
       "    </tr>\n",
       "    <tr>\n",
       "      <th>United States</th>\n",
       "      <td>38710.885442</td>\n",
       "      <td>35427.909964</td>\n",
       "      <td>31831.461594</td>\n",
       "      <td>28401.465176</td>\n",
       "      <td>26549.876022</td>\n",
       "      <td>22310.239369</td>\n",
       "      <td>21491.820177</td>\n",
       "      <td>19441.379908</td>\n",
       "      <td>17374.536484</td>\n",
       "      <td>14426.757715</td>\n",
       "      <td>37329.615914</td>\n",
       "      <td>37718.005367</td>\n",
       "      <td>35081.923084</td>\n",
       "      <td>NaN</td>\n",
       "      <td>28161.221247</td>\n",
       "    </tr>\n",
       "  </tbody>\n",
       "</table>\n",
       "</div>"
      ],
      "text/plain": [
       "                        1950          1955          1960          1965  \\\n",
       "countries                                                                \n",
       "Brazil           4297.823854   3739.919389   3693.275820   3279.686396   \n",
       "China            1864.102702   1105.952557    774.884634    475.928870   \n",
       "Germany         25297.385393  23217.332027  21502.721444  20685.689979   \n",
       "Iran             2125.030252   1679.664398   1484.666023   1445.852456   \n",
       "Japan           40837.266644  37363.287444  37518.580858  35465.925444   \n",
       "Malawi            157.621368    142.391448    155.373892    129.360236   \n",
       "Russia           2888.847355   1967.518602   1590.696500   2106.223762   \n",
       "United Kingdom  29771.303348  26214.967350  22732.538466  19721.738642   \n",
       "United States   38710.885442  35427.909964  31831.461594  28401.465176   \n",
       "\n",
       "                        1970          1975          1980          1985  \\\n",
       "countries                                                                \n",
       "Brazil           3584.074016   3245.573152   3154.720552   2363.511202   \n",
       "China             341.021294    208.170863    149.660068    128.934980   \n",
       "Germany         17636.830634  15810.553193  14545.428257  12711.156762   \n",
       "Iran             1241.647502   1477.011852   2204.420456   1793.574657   \n",
       "Japan           29064.222359  24444.201743  20680.657410  18398.721184   \n",
       "Malawi            138.371883    147.791025    153.275312    140.893353   \n",
       "Russia                   NaN           NaN           NaN           NaN   \n",
       "United Kingdom  18699.035806  15734.180645  15060.070280  13682.098477   \n",
       "United States   26549.876022  22310.239369  21491.820177  19441.379908   \n",
       "\n",
       "                        1990          1995          2000          2005  \\\n",
       "countries                                                                \n",
       "Brazil           1613.136923   1581.625423   4716.614125   3976.619168   \n",
       "China              99.080123     72.324927   2426.332466   1464.107627   \n",
       "Germany                  NaN           NaN  25420.275718  23564.385168   \n",
       "Iran             1117.218268           NaN           NaN   1906.590054   \n",
       "Japan           13726.062655   9157.323309  39971.787453  39295.306204   \n",
       "Malawi            126.008610    101.996530    180.902296    149.484330   \n",
       "Russia                   NaN           NaN   2928.005033   2442.962966   \n",
       "United Kingdom  11645.431541  10253.593702  28244.336936  28354.039583   \n",
       "United States   17374.536484  14426.757715  37329.615914  37718.005367   \n",
       "\n",
       "                        2010  2015          mean  \n",
       "countries                                         \n",
       "Brazil           3696.146772   NaN   3303.286676  \n",
       "China             949.178062   NaN    773.821475  \n",
       "Germany         22945.708850   NaN  20303.406130  \n",
       "Iran             1550.090608   NaN   1638.706048  \n",
       "Japan           37291.706158   NaN  29478.080682  \n",
       "Malawi            155.271544   NaN    144.518602  \n",
       "Russia           1775.141291   NaN   2242.770787  \n",
       "United Kingdom  25057.613530   NaN  20397.765254  \n",
       "United States   35081.923084   NaN  28161.221247  "
      ]
     },
     "execution_count": 50,
     "metadata": {},
     "output_type": "execute_result"
    }
   ],
   "source": [
    "countryData.loc[countryData.notnull()['1950']]"
   ]
  },
  {
   "cell_type": "code",
   "execution_count": null,
   "metadata": {
    "collapsed": true
   },
   "outputs": [],
   "source": []
  }
 ],
 "metadata": {
  "anaconda-cloud": {},
  "kernelspec": {
   "display_name": "Python 3",
   "language": "python",
   "name": "python3"
  },
  "language_info": {
   "codemirror_mode": {
    "name": "ipython",
    "version": 3
   },
   "file_extension": ".py",
   "mimetype": "text/x-python",
   "name": "python",
   "nbconvert_exporter": "python",
   "pygments_lexer": "ipython3",
   "version": "3.5.2"
  }
 },
 "nbformat": 4,
 "nbformat_minor": 1
}
