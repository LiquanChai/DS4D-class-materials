{
 "cells": [
  {
   "cell_type": "markdown",
   "metadata": {
    "cell_tags": null,
    "ein.tags": "worksheet-0",
    "slideshow": {
     "slide_type": "-"
    }
   },
   "source": [
    "## Analyzing Patient Data"
   ]
  },
  {
   "cell_type": "markdown",
   "metadata": {
    "cell_tags": null,
    "ein.tags": "worksheet-0",
    "slideshow": {
     "slide_type": "-"
    }
   },
   "source": [
    "We are studying inflammation in patients who have been given a new treatment for arthritis,\n",
    "and need to analyze the first dozen data sets.\n",
    "The data sets are stored in [comma-separated values](./gloss.html#csv) (CSV) format:\n",
    "each row holds information for a single patient,\n",
    "and the columns represent successive days.\n",
    "The first few rows of our first file look like this:\n",
    "\n",
    "    0,0,1,3,1,2,4,7,8,3,3,3,10,5,7,4,7,7,12,18,6,13,11,11,7,7,4,6,8,8,4,4,5,7,3,4,2,3,0,0\n",
    "    0,1,2,1,2,1,3,2,2,6,10,11,5,9,4,4,7,16,8,6,18,4,12,5,12,7,11,5,11,3,3,5,4,4,5,5,1,1,0,1\n",
    "    0,1,1,3,3,2,6,2,5,9,5,7,4,5,4,15,5,11,9,10,19,14,12,17,7,12,11,7,4,2,10,5,4,2,2,3,2,2,1,1\n",
    "    0,0,2,0,4,2,2,1,6,7,10,7,9,13,8,8,15,10,10,7,17,4,4,7,6,15,6,4,9,11,3,5,6,3,3,4,2,3,2,1\n",
    "    0,1,1,3,3,1,3,5,2,4,4,7,6,5,3,10,8,10,6,17,9,14,9,7,13,9,12,6,7,7,9,6,3,2,2,4,2,0,1,1"
   ]
  },
  {
   "cell_type": "markdown",
   "metadata": {
    "cell_tags": null,
    "ein.tags": "worksheet-0",
    "slideshow": {
     "slide_type": "-"
    }
   },
   "source": [
    "We want to:\n",
    "\n",
    "*   load that data into memory,\n",
    "*   calculate the average inflammation per day across all patients, and\n",
    "*   plot the result.\n",
    "\n",
    "To do all that, we'll have to learn a little bit about programming."
   ]
  },
  {
   "cell_type": "markdown",
   "metadata": {
    "cell_tags": [
     "objectives"
    ],
    "ein.tags": "worksheet-0",
    "slideshow": {
     "slide_type": "-"
    }
   },
   "source": [
    "#### Objectives\n",
    "\n",
    "*   Explain what a library is, and what libraries are used for.\n",
    "*   Load a Python library and use the things it contains.\n",
    "*   Read tabular data from a file into a program.\n",
    "*   Assign values to variables.\n",
    "*   Select individual values and subsections from data.\n",
    "*   Perform operations on arrays of data.\n",
    "*   Display simple graphs."
   ]
  },
  {
   "cell_type": "markdown",
   "metadata": {
    "cell_tags": null,
    "ein.tags": "worksheet-0",
    "slideshow": {
     "slide_type": "-"
    }
   },
   "source": [
    "### Loading Data"
   ]
  },
  {
   "cell_type": "markdown",
   "metadata": {
    "cell_tags": null,
    "ein.tags": "worksheet-0",
    "slideshow": {
     "slide_type": "-"
    }
   },
   "source": [
    "Words are useful,\n",
    "but what's more useful are the sentences and stories we use them to build.\n",
    "Similarly,\n",
    "while a lot of powerful tools are built into languages like Python,\n",
    "even more lives in the [libraries](./gloss.html#library) they are used to build.\n",
    "\n",
    "In order to load our inflammation data,\n",
    "we need to [import](./gloss.html#import) a library called NumPy\n",
    "that knows how to operate on matrices:"
   ]
  },
  {
   "cell_type": "code",
   "execution_count": 2,
   "metadata": {
    "autoscroll": false,
    "cell_tags": null,
    "collapsed": true,
    "ein.tags": "worksheet-0",
    "slideshow": {
     "slide_type": "-"
    }
   },
   "outputs": [],
   "source": [
    "import numpy as np"
   ]
  },
  {
   "cell_type": "markdown",
   "metadata": {
    "cell_tags": null,
    "ein.tags": "worksheet-0",
    "slideshow": {
     "slide_type": "-"
    }
   },
   "source": [
    "Importing a library is like getting a piece of lab equipment out of a storage locker\n",
    "and setting it up on the bench.\n",
    "Once it's done,\n",
    "we can ask the library to read our data file `inflammation-01.csv`:"
   ]
  },
  {
   "cell_type": "code",
   "execution_count": 3,
   "metadata": {
    "autoscroll": false,
    "cell_tags": null,
    "ein.tags": "worksheet-0",
    "slideshow": {
     "slide_type": "-"
    }
   },
   "outputs": [
    {
     "data": {
      "text/plain": [
       "array([[ 0.,  0.,  1., ...,  3.,  0.,  0.],\n",
       "       [ 0.,  1.,  2., ...,  1.,  0.,  1.],\n",
       "       [ 0.,  1.,  1., ...,  2.,  1.,  1.],\n",
       "       ..., \n",
       "       [ 0.,  1.,  1., ...,  1.,  1.,  1.],\n",
       "       [ 0.,  0.,  0., ...,  0.,  2.,  0.],\n",
       "       [ 0.,  0.,  1., ...,  1.,  1.,  0.]])"
      ]
     },
     "execution_count": 3,
     "metadata": {},
     "output_type": "execute_result"
    }
   ],
   "source": [
    "np.loadtxt(fname = \"inflammation-01.csv\", delimiter = \",\")"
   ]
  },
  {
   "cell_type": "markdown",
   "metadata": {
    "cell_tags": null,
    "ein.tags": "worksheet-0",
    "slideshow": {
     "slide_type": "-"
    }
   },
   "source": [
    "Hint: The expression `numpy.loadtxt(...)` is a [function call](./gloss.html#function-call)\n",
    "that asks Python to run the function `loadtxt` that belongs to the `numpy` library.\n",
    "This [dotted notation](./gloss.html#dotted-notation) is used everywhere in Python\n",
    "to refer to the parts of things as `whole.part`.\n",
    "\n",
    "`numpy.loadtxt` has two [parameters](./gloss.html#parameter):\n",
    "the name of the file we want to read,\n",
    "and the [delimiter](./gloss.html#delimiter) that separates values on a line.\n",
    "These both need to be character strings (or [strings](./gloss.html#string) for short),\n",
    "so we put them in quotes.\n",
    "\n",
    "When we are finished typing and press Shift+Enter,\n",
    "the notebook runs our command.\n",
    "Since we haven't told it to do anything else with the function's output,\n",
    "the notebook displays it.\n",
    "In this case,\n",
    "that output is the data we just loaded.\n",
    "By default,\n",
    "only a few rows and columns are shown\n",
    "(with `...` to omit elements when displaying big arrays).\n",
    "To save space,\n",
    "Python displays numbers as `1.` instead of `1.0`\n",
    "when there's nothing interesting after the decimal point."
   ]
  },
  {
   "cell_type": "markdown",
   "metadata": {
    "cell_tags": null,
    "ein.tags": "worksheet-0",
    "slideshow": {
     "slide_type": "-"
    }
   },
   "source": [
    "Our call to `numpy.loadtxt` read our file,\n",
    "but didn't save the data in memory.\n",
    "To do that,\n",
    "we need to [assign](./gloss.html#assignment) the array to a [variable](./gloss.html#variable).\n",
    "A variable is just a name for a value,\n",
    "such as `x`, `current_temperature`, or `subject_id`.\n",
    "We can create a new variable simply by assigning a value to it using `=`.  Let's practice by assigning a value to a variable called `weight_kg`."
   ]
  },
  {
   "cell_type": "code",
   "execution_count": 4,
   "metadata": {
    "autoscroll": false,
    "cell_tags": null,
    "collapsed": true,
    "ein.tags": "worksheet-0",
    "slideshow": {
     "slide_type": "-"
    }
   },
   "outputs": [],
   "source": [
    "weight_kg = 55"
   ]
  },
  {
   "cell_type": "markdown",
   "metadata": {
    "cell_tags": null,
    "ein.tags": "worksheet-0",
    "slideshow": {
     "slide_type": "-"
    }
   },
   "source": [
    "Once a variable has a value, we can print it:"
   ]
  },
  {
   "cell_type": "code",
   "execution_count": 5,
   "metadata": {
    "autoscroll": false,
    "cell_tags": null,
    "ein.tags": "worksheet-0",
    "slideshow": {
     "slide_type": "-"
    }
   },
   "outputs": [
    {
     "name": "stdout",
     "output_type": "stream",
     "text": [
      "weight in kg: 55\n"
     ]
    }
   ],
   "source": [
    "print(\"weight in kg:\", weight_kg)"
   ]
  },
  {
   "cell_type": "markdown",
   "metadata": {
    "cell_tags": null,
    "ein.tags": "worksheet-0",
    "slideshow": {
     "slide_type": "-"
    }
   },
   "source": [
    "and do arithmetic with it.  What is the weight converted to pounds?"
   ]
  },
  {
   "cell_type": "code",
   "execution_count": 6,
   "metadata": {
    "autoscroll": false,
    "cell_tags": null,
    "ein.tags": "worksheet-0",
    "slideshow": {
     "slide_type": "-"
    }
   },
   "outputs": [
    {
     "data": {
      "text/plain": [
       "121.2542441"
      ]
     },
     "execution_count": 6,
     "metadata": {},
     "output_type": "execute_result"
    }
   ],
   "source": [
    "2.20462262 * weight_kg"
   ]
  },
  {
   "cell_type": "markdown",
   "metadata": {
    "cell_tags": null,
    "ein.tags": "worksheet-0",
    "slideshow": {
     "slide_type": "-"
    }
   },
   "source": [
    "We can also change a variable's value by assigning it a new one, and then print that out.  Remember that if you use several arguments to `print`, they should be separated by commas."
   ]
  },
  {
   "cell_type": "code",
   "execution_count": 7,
   "metadata": {
    "autoscroll": false,
    "cell_tags": null,
    "ein.tags": "worksheet-0",
    "slideshow": {
     "slide_type": "-"
    }
   },
   "outputs": [
    {
     "name": "stdout",
     "output_type": "stream",
     "text": [
      "weight in pounds: 121.2542441\n"
     ]
    }
   ],
   "source": [
    "print(\"weight in pounds:\", 2.20462262 * weight_kg)"
   ]
  },
  {
   "cell_type": "markdown",
   "metadata": {
    "cell_tags": null,
    "ein.tags": "worksheet-0",
    "slideshow": {
     "slide_type": "-"
    }
   },
   "source": [
    "If we imagine the *variable* as a sticky note with a name written on it,\n",
    "assignment is like putting that sticky note on a particular value:"
   ]
  },
  {
   "cell_type": "markdown",
   "metadata": {
    "cell_tags": null,
    "ein.tags": "worksheet-0",
    "slideshow": {
     "slide_type": "-"
    }
   },
   "source": [
    "<img src=\"http://metameso.org/~joe/ds4d/python-sticky-note-variables-01.svg\" alt=\"Variables as Sticky Notes\" />"
   ]
  },
  {
   "cell_type": "markdown",
   "metadata": {
    "cell_tags": null,
    "ein.tags": "worksheet-0",
    "slideshow": {
     "slide_type": "-"
    }
   },
   "source": [
    "This means that assigning a value to one variable does *not* change the values of other variables.\n",
    "For example,\n",
    "let's store the subject's weight in pounds in a variable:"
   ]
  },
  {
   "cell_type": "code",
   "execution_count": 8,
   "metadata": {
    "autoscroll": false,
    "cell_tags": null,
    "ein.tags": "worksheet-0",
    "slideshow": {
     "slide_type": "-"
    }
   },
   "outputs": [
    {
     "name": "stdout",
     "output_type": "stream",
     "text": [
      "weight in kg now: 57.5\n"
     ]
    }
   ],
   "source": [
    "weight_lb = 2.20462262 * weight_kg\n",
    "weight_kg = 57.5\n",
    "print(\"weight in kg now:\", weight_kg)"
   ]
  },
  {
   "cell_type": "markdown",
   "metadata": {
    "ein.tags": "worksheet-0",
    "slideshow": {
     "slide_type": "-"
    }
   },
   "source": [
    "<img src=\"http://metameso.org/~joe/ds4d/python-sticky-note-variables-02.svg\" alt=\"Creating Another Variable\" />"
   ]
  },
  {
   "cell_type": "markdown",
   "metadata": {
    "cell_tags": null,
    "ein.tags": "worksheet-0",
    "slideshow": {
     "slide_type": "-"
    }
   },
   "source": [
    "and then change `weight_kg`, and print both variables out."
   ]
  },
  {
   "cell_type": "code",
   "execution_count": 9,
   "metadata": {
    "autoscroll": false,
    "cell_tags": null,
    "ein.tags": "worksheet-0",
    "slideshow": {
     "slide_type": "-"
    }
   },
   "outputs": [
    {
     "name": "stdout",
     "output_type": "stream",
     "text": [
      "weight in kg now: 57.5 ;but weight in lb is still : 121.2542441\n",
      ",which should be: 126.76580064999999\n"
     ]
    }
   ],
   "source": [
    "print(\"weight in kg now:\", weight_kg, \";but weight in lb is still :\", weight_lb)\n",
    "print(\",which should be:\", 2.20462262 * weight_kg)"
   ]
  },
  {
   "cell_type": "markdown",
   "metadata": {
    "ein.tags": "worksheet-0",
    "slideshow": {
     "slide_type": "-"
    }
   },
   "source": [
    "<img src=\"http://metameso.org/~joe/ds4d/python-sticky-note-variables-03.svg\" alt=\"Updating a Variable\" />"
   ]
  },
  {
   "cell_type": "markdown",
   "metadata": {
    "cell_tags": null,
    "ein.tags": "worksheet-0",
    "slideshow": {
     "slide_type": "-"
    }
   },
   "source": [
    "Since `weight_lb` doesn't \"remember\" where its value came from,\n",
    "it isn't automatically updated when `weight_kg` changes.\n",
    "This is different from the way spreadsheets work.\n",
    "\n",
    "Now that we've been reminded about how to assign things to variables,\n",
    "let's re-run `numpy.loadtxt` and save its result:"
   ]
  },
  {
   "cell_type": "code",
   "execution_count": 10,
   "metadata": {
    "autoscroll": false,
    "cell_tags": null,
    "collapsed": true,
    "ein.tags": "worksheet-0",
    "slideshow": {
     "slide_type": "-"
    }
   },
   "outputs": [],
   "source": [
    "data = np.loadtxt(fname = \"inflammation-01.csv\", delimiter = \",\")"
   ]
  },
  {
   "cell_type": "markdown",
   "metadata": {
    "cell_tags": null,
    "ein.tags": "worksheet-0",
    "slideshow": {
     "slide_type": "-"
    }
   },
   "source": [
    "This statement doesn't produce any output because assignment doesn't display anything.\n",
    "If we want to check that our data has been loaded,\n",
    "we can `print` the variable's value.  (Since we are using python interactively, we could also just evaluate the *name* of the variable to display its value as output.)"
   ]
  },
  {
   "cell_type": "code",
   "execution_count": 11,
   "metadata": {
    "autoscroll": false,
    "cell_tags": null,
    "ein.tags": "worksheet-0",
    "slideshow": {
     "slide_type": "-"
    }
   },
   "outputs": [
    {
     "data": {
      "text/plain": [
       "array([[ 0.,  0.,  1., ...,  3.,  0.,  0.],\n",
       "       [ 0.,  1.,  2., ...,  1.,  0.,  1.],\n",
       "       [ 0.,  1.,  1., ...,  2.,  1.,  1.],\n",
       "       ..., \n",
       "       [ 0.,  1.,  1., ...,  1.,  1.,  1.],\n",
       "       [ 0.,  0.,  0., ...,  0.,  2.,  0.],\n",
       "       [ 0.,  0.,  1., ...,  1.,  1.,  0.]])"
      ]
     },
     "execution_count": 11,
     "metadata": {},
     "output_type": "execute_result"
    }
   ],
   "source": [
    "data"
   ]
  },
  {
   "cell_type": "markdown",
   "metadata": {
    "cell_tags": [
     "challenges"
    ],
    "ein.tags": "worksheet-0",
    "slideshow": {
     "slide_type": "-"
    }
   },
   "source": [
    "#### Challenges for extra practice\n",
    "\n",
    "1.  Draw diagrams showing what variables refer to what values after each statement in the following program:\n",
    "\n",
    "    ~~~python\n",
    "    mass = 47.5\n",
    "    age = 122\n",
    "    mass = mass * 2.0\n",
    "    age = age - 20\n",
    "    ~~~\n",
    "\n",
    "1.  What does the following program print out?\n",
    "\n",
    "    ~~~python\n",
    "    first, second = 'Grace', 'Hopper'\n",
    "    third, fourth = second, first\n",
    "    print(third, fourth)\n",
    "    ~~~"
   ]
  },
  {
   "cell_type": "code",
   "execution_count": 12,
   "metadata": {},
   "outputs": [
    {
     "name": "stdout",
     "output_type": "stream",
     "text": [
      "95.0 102\n"
     ]
    }
   ],
   "source": [
    "mass = 47.5\n",
    "age = 122\n",
    "mass = mass * 2.0 # 95.0\n",
    "age = age - 20 # 102\n",
    "print(mass, age)"
   ]
  },
  {
   "cell_type": "markdown",
   "metadata": {
    "cell_tags": null,
    "ein.tags": "worksheet-0",
    "slideshow": {
     "slide_type": "-"
    }
   },
   "source": [
    "### Manipulating Data"
   ]
  },
  {
   "cell_type": "markdown",
   "metadata": {
    "cell_tags": null,
    "ein.tags": "worksheet-0",
    "slideshow": {
     "slide_type": "-"
    }
   },
   "source": [
    "Now that our data is in memory,\n",
    "we can start doing things with it.\n",
    "First,\n",
    "let's ask what [type](./gloss.html#data-type) of thing `data` refers to:"
   ]
  },
  {
   "cell_type": "code",
   "execution_count": 13,
   "metadata": {
    "autoscroll": false,
    "cell_tags": null,
    "ein.tags": "worksheet-0",
    "slideshow": {
     "slide_type": "-"
    }
   },
   "outputs": [
    {
     "data": {
      "text/plain": [
       "numpy.ndarray"
      ]
     },
     "execution_count": 13,
     "metadata": {},
     "output_type": "execute_result"
    }
   ],
   "source": [
    "type(data)"
   ]
  },
  {
   "cell_type": "markdown",
   "metadata": {
    "cell_tags": null,
    "ein.tags": "worksheet-0",
    "slideshow": {
     "slide_type": "-"
    }
   },
   "source": [
    "The output tells us that `data` currently refers to an N-dimensional array created by the NumPy library.\n",
    "We can see what its [shape](./gloss.html#shape) is like this:"
   ]
  },
  {
   "cell_type": "code",
   "execution_count": 14,
   "metadata": {
    "autoscroll": false,
    "cell_tags": null,
    "ein.tags": "worksheet-0",
    "slideshow": {
     "slide_type": "-"
    }
   },
   "outputs": [
    {
     "data": {
      "text/plain": [
       "(60, 40)"
      ]
     },
     "execution_count": 14,
     "metadata": {},
     "output_type": "execute_result"
    }
   ],
   "source": [
    "data.shape\n",
    "\n",
    "# 60 patients, 40 days"
   ]
  },
  {
   "cell_type": "markdown",
   "metadata": {
    "cell_tags": null,
    "ein.tags": "worksheet-0",
    "slideshow": {
     "slide_type": "-"
    }
   },
   "source": [
    "This tells us that `data` has 60 rows and 40 columns.\n",
    "`data.shape` is a [member](./gloss.html#member) of `data`,\n",
    "i.e.,\n",
    "a value that is stored as part of a larger value.\n",
    "We use the same dotted notation for the members of values\n",
    "that we use for the functions in libraries\n",
    "because they have the same part-and-whole relationship."
   ]
  },
  {
   "cell_type": "markdown",
   "metadata": {
    "cell_tags": null,
    "ein.tags": "worksheet-0",
    "slideshow": {
     "slide_type": "-"
    }
   },
   "source": [
    "If we want to get a single value from the matrix,\n",
    "we must provide an [index](./gloss.html#index) in square brackets,\n",
    "just as we do in math.  The cell pointed to by the index `[0,0]` contains the \"first\" value in the matrix.  Let's print that."
   ]
  },
  {
   "cell_type": "code",
   "execution_count": 15,
   "metadata": {
    "autoscroll": false,
    "cell_tags": null,
    "ein.tags": "worksheet-0",
    "slideshow": {
     "slide_type": "-"
    }
   },
   "outputs": [
    {
     "data": {
      "text/plain": [
       "0.0"
      ]
     },
     "execution_count": 15,
     "metadata": {},
     "output_type": "execute_result"
    }
   ],
   "source": [
    "data[0, 0] # data[row_num, col,num] return numpy.float64"
   ]
  },
  {
   "cell_type": "code",
   "execution_count": 16,
   "metadata": {
    "autoscroll": false,
    "cell_tags": null,
    "ein.tags": "worksheet-0",
    "slideshow": {
     "slide_type": "-"
    }
   },
   "outputs": [
    {
     "name": "stdout",
     "output_type": "stream",
     "text": [
      "middle value in data: 13.0\n"
     ]
    }
   ],
   "source": [
    "print(\"middle value in data:\", data[int(60/2), int(40/2)])"
   ]
  },
  {
   "cell_type": "markdown",
   "metadata": {},
   "source": [
    "Let's print the \"middle\" value from the data table too."
   ]
  },
  {
   "cell_type": "markdown",
   "metadata": {
    "cell_tags": null,
    "ein.tags": "worksheet-0",
    "slideshow": {
     "slide_type": "-"
    }
   },
   "source": [
    "Note that programming languages like Fortran and MATLAB start counting at 1,\n",
    "which is what human beings have done for thousands of years.\n",
    "However, languages in the C family (including C++, Java, Perl, and Python) count from 0\n",
    "because that's simpler for computers to do.\n",
    "As a result,\n",
    "if we have an M&times;N array in Python,\n",
    "its indices go from 0 to M-1 on the first axis\n",
    "and 0 to N-1 on the second.\n",
    "It takes a bit of getting used to,\n",
    "but one way to remember the rule is that\n",
    "the index is how many steps we have to take from the start to get the item we want.\n",
    "\n",
    "> #### In the Corner\n",
    ">\n",
    "> It may also surprise you is that when Python displays an array,\n",
    "> it shows the element with index `[0, 0]` in the upper left corner\n",
    "> rather than the lower left.\n",
    "> This is consistent with the way mathematicians draw matrices,\n",
    "> but different from the Cartesian coordinates.\n",
    "> The indices are (row, column) instead of (column, row) for the same reason."
   ]
  },
  {
   "cell_type": "markdown",
   "metadata": {
    "cell_tags": null,
    "ein.tags": "worksheet-0",
    "slideshow": {
     "slide_type": "-"
    }
   },
   "source": [
    "An index like `[30, 20]` selects a single element of an array,\n",
    "but we can select whole sections as well.\n",
    "For example,\n",
    "we can select the first ten days (columns) of values\n",
    "for the first four (rows) patients using a \"slice\" notation.\n",
    "The [slice](./gloss.html#slice) `0:4` means,\n",
    "\"Start at index 0 and go up to, but not including, index 4.\""
   ]
  },
  {
   "cell_type": "code",
   "execution_count": 17,
   "metadata": {
    "autoscroll": false,
    "cell_tags": null,
    "ein.tags": "worksheet-0",
    "slideshow": {
     "slide_type": "-"
    }
   },
   "outputs": [
    {
     "data": {
      "text/plain": [
       "array([[ 0.,  0.,  1.,  3.,  1.,  2.,  4.,  7.,  8.,  3.],\n",
       "       [ 0.,  1.,  2.,  1.,  2.,  1.,  3.,  2.,  2.,  6.],\n",
       "       [ 0.,  1.,  1.,  3.,  3.,  2.,  6.,  2.,  5.,  9.],\n",
       "       [ 0.,  0.,  2.,  0.,  4.,  2.,  2.,  1.,  6.,  7.]])"
      ]
     },
     "execution_count": 17,
     "metadata": {},
     "output_type": "execute_result"
    }
   ],
   "source": [
    "# include: exclude\n",
    "data[:4, :10]"
   ]
  },
  {
   "cell_type": "markdown",
   "metadata": {
    "cell_tags": null,
    "ein.tags": "worksheet-0",
    "slideshow": {
     "slide_type": "-"
    }
   },
   "source": [
    "The up-to-but-not-including takes a bit of getting used to,\n",
    "but the rule is that the difference between the upper and lower bounds is the number of values in the slice.\n",
    "\n",
    "We don't have to start slices at 0.  Let's select the first ten days for patients 5 through 9."
   ]
  },
  {
   "cell_type": "code",
   "execution_count": 18,
   "metadata": {
    "autoscroll": false,
    "cell_tags": null,
    "ein.tags": "worksheet-0",
    "slideshow": {
     "slide_type": "-"
    }
   },
   "outputs": [
    {
     "data": {
      "text/plain": [
       "array([[ 0.,  0.,  1.,  2.,  2.,  4.,  2.,  1.,  6.,  4.],\n",
       "       [ 0.,  0.,  2.,  2.,  4.,  2.,  2.,  5.,  5.,  8.],\n",
       "       [ 0.,  0.,  1.,  2.,  3.,  1.,  2.,  3.,  5.,  3.],\n",
       "       [ 0.,  0.,  0.,  3.,  1.,  5.,  6.,  5.,  5.,  8.],\n",
       "       [ 0.,  1.,  1.,  2.,  1.,  3.,  5.,  3.,  5.,  8.]])"
      ]
     },
     "execution_count": 18,
     "metadata": {},
     "output_type": "execute_result"
    }
   ],
   "source": [
    "data[5:10, :10]"
   ]
  },
  {
   "cell_type": "markdown",
   "metadata": {
    "cell_tags": null,
    "ein.tags": "worksheet-0",
    "slideshow": {
     "slide_type": "-"
    }
   },
   "source": [
    "Furthermore, we don't have to take all the values in the slice---if we provide a [stride](./gloss.html#stride),\n",
    "Python takes values spaced that far apart.  Let's select every even-numbered day for patients 0, 3, 6, and 9 using the slices-with-strides `0:10:3` and `0:10:2`."
   ]
  },
  {
   "cell_type": "code",
   "execution_count": 41,
   "metadata": {
    "autoscroll": false,
    "cell_tags": null,
    "ein.tags": "worksheet-0",
    "slideshow": {
     "slide_type": "-"
    }
   },
   "outputs": [
    {
     "data": {
      "text/plain": [
       "array([[  0.,   0.,   1.,   3.,   1.,   2.,   4.,   7.,   8.,   3.,   3.,\n",
       "          3.,  10.,   5.,   7.,   4.,   7.,   7.,  12.,  18.,   6.,  13.,\n",
       "         11.,  11.,   7.,   7.,   4.,   6.,   8.,   8.,   4.,   4.,   5.,\n",
       "          7.,   3.,   4.,   2.,   3.,   0.,   0.],\n",
       "       [  0.,   1.,   1.,   3.,   3.,   2.,   6.,   2.,   5.,   9.,   5.,\n",
       "          7.,   4.,   5.,   4.,  15.,   5.,  11.,   9.,  10.,  19.,  14.,\n",
       "         12.,  17.,   7.,  12.,  11.,   7.,   4.,   2.,  10.,   5.,   4.,\n",
       "          2.,   2.,   3.,   2.,   2.,   1.,   1.],\n",
       "       [  0.,   1.,   1.,   3.,   3.,   1.,   3.,   5.,   2.,   4.,   4.,\n",
       "          7.,   6.,   5.,   3.,  10.,   8.,  10.,   6.,  17.,   9.,  14.,\n",
       "          9.,   7.,  13.,   9.,  12.,   6.,   7.,   7.,   9.,   6.,   3.,\n",
       "          2.,   2.,   4.,   2.,   0.,   1.,   1.],\n",
       "       [  0.,   0.,   2.,   2.,   4.,   2.,   2.,   5.,   5.,   8.,   6.,\n",
       "          5.,  11.,   9.,   4.,  13.,   5.,  12.,  10.,   6.,   9.,  17.,\n",
       "         15.,   8.,   9.,   3.,  13.,   7.,   8.,   2.,   8.,   8.,   4.,\n",
       "          2.,   3.,   5.,   4.,   1.,   1.,   1.],\n",
       "       [  0.,   0.,   0.,   3.,   1.,   5.,   6.,   5.,   5.,   8.,   2.,\n",
       "          4.,  11.,  12.,  10.,  11.,   9.,  10.,  17.,  11.,   6.,  16.,\n",
       "         12.,   6.,   8.,  14.,   6.,  13.,  10.,  11.,   4.,   6.,   4.,\n",
       "          7.,   6.,   3.,   2.,   1.,   0.,   0.]])"
      ]
     },
     "execution_count": 41,
     "metadata": {},
     "output_type": "execute_result"
    }
   ],
   "source": [
    "data[0:10:3] # patitent num which is multiple of 3 in range(0,10)\n",
    "data[0:10:2] # patitent num which is even number in in range(0,10), 0 is even\n"
   ]
  },
  {
   "cell_type": "markdown",
   "metadata": {
    "cell_tags": null,
    "ein.tags": "worksheet-0",
    "slideshow": {
     "slide_type": "-"
    }
   },
   "source": [
    "(We include the lower bound,\n",
    "but stop when we reach or cross the upper bound.)"
   ]
  },
  {
   "cell_type": "markdown",
   "metadata": {
    "cell_tags": null,
    "ein.tags": "worksheet-0",
    "slideshow": {
     "slide_type": "-"
    }
   },
   "source": [
    "But we don't *have* to include the upper and lower bound on the slice.\n",
    "If we don't include the lower bound,\n",
    "Python uses 0 by default;\n",
    "if we don't include the upper,\n",
    "the slice runs to the end of the axis,\n",
    "and if we don't include either\n",
    "(i.e., if we just use ':' on its own),\n",
    "the slice includes everything.  Try selecting only the first few patients and the last few days using slices.  "
   ]
  },
  {
   "cell_type": "code",
   "execution_count": 19,
   "metadata": {
    "autoscroll": false,
    "cell_tags": null,
    "ein.tags": "worksheet-0",
    "slideshow": {
     "slide_type": "-"
    }
   },
   "outputs": [
    {
     "name": "stdout",
     "output_type": "stream",
     "text": [
      "first 2 patients: [[  0.   0.   1.   3.   1.   2.   4.   7.   8.   3.   3.   3.  10.   5.\n",
      "    7.   4.   7.   7.  12.  18.   6.  13.  11.  11.   7.   7.   4.   6.\n",
      "    8.   8.   4.   4.   5.   7.   3.   4.   2.   3.   0.   0.]\n",
      " [  0.   1.   2.   1.   2.   1.   3.   2.   2.   6.  10.  11.   5.   9.\n",
      "    4.   4.   7.  16.   8.   6.  18.   4.  12.   5.  12.   7.  11.   5.\n",
      "   11.   3.   3.   5.   4.   4.   5.   5.   1.   1.   0.   1.]]\n",
      "last 2 patients: [[  0.   0.   0.   1.   4.   5.   6.   3.   8.   7.   9.  10.   8.   6.\n",
      "    5.  12.  15.   5.  10.   5.   8.  13.  18.  17.  14.   9.  13.   4.\n",
      "   10.  11.  10.   8.   8.   6.   5.   5.   2.   0.   2.   0.]\n",
      " [  0.   0.   1.   0.   3.   2.   5.   4.   8.   2.   9.   3.   3.  10.\n",
      "   12.   9.  14.  11.  13.   8.   6.  18.  11.   9.  13.  11.   8.   5.\n",
      "    5.   2.   8.   5.   3.   5.   4.   1.   3.   1.   1.   0.]]\n"
     ]
    }
   ],
   "source": [
    "print(\"first 2 patients:\", data[:2])\n",
    "print(\"last 2 patients:\", data[-2:])"
   ]
  },
  {
   "cell_type": "markdown",
   "metadata": {
    "cell_tags": null,
    "ein.tags": "worksheet-0",
    "slideshow": {
     "slide_type": "-"
    }
   },
   "source": [
    "Arrays \"know\" how to perform some common mathematical operations on their values.\n",
    "If we want to find the average inflammation for all patients on all days,\n",
    "for example,\n",
    "we can just ask the array for its mean value."
   ]
  },
  {
   "cell_type": "code",
   "execution_count": 20,
   "metadata": {
    "autoscroll": false,
    "cell_tags": null,
    "ein.tags": "worksheet-0",
    "slideshow": {
     "slide_type": "-"
    }
   },
   "outputs": [
    {
     "name": "stdout",
     "output_type": "stream",
     "text": [
      "average inflammation for all patients on all days: 6.14875\n"
     ]
    }
   ],
   "source": [
    "mean = data.mean()\n",
    "print(\"average inflammation for all patients on all days:\", mean)"
   ]
  },
  {
   "cell_type": "markdown",
   "metadata": {
    "cell_tags": null,
    "ein.tags": "worksheet-0",
    "slideshow": {
     "slide_type": "-"
    }
   },
   "source": [
    "`mean` is a [method](./gloss.html#method) of the array,\n",
    "i.e.,\n",
    "a function that belongs to it\n",
    "in the same way that the member `shape` does.\n",
    "If variables are nouns, methods are verbs:\n",
    "they are what the thing in question knows how to do.\n",
    "This is why `data.shape` doesn't need to be called\n",
    "(it's just a thing)\n",
    "but `data.mean()` does\n",
    "(it's an action).\n",
    "It is also why we need empty parentheses for `data.mean()`:\n",
    "even when we're not passing in any parameters,\n",
    "parentheses are how we tell Python to go and do something for us.\n",
    "\n",
    "NumPy arrays have lots of useful methods.  Let's find the `max`, `min`, and standard deviation `std` for `data`."
   ]
  },
  {
   "cell_type": "code",
   "execution_count": 21,
   "metadata": {
    "autoscroll": false,
    "cell_tags": null,
    "ein.tags": "worksheet-0",
    "slideshow": {
     "slide_type": "-"
    }
   },
   "outputs": [
    {
     "name": "stdout",
     "output_type": "stream",
     "text": [
      "data max: 20.0\n",
      "data min: 0.0\n",
      "data std: 4.61383319712\n"
     ]
    }
   ],
   "source": [
    "print(\"data max:\", data.max())\n",
    "print(\"data min:\", data.min())\n",
    "print(\"data std:\", data.std())"
   ]
  },
  {
   "cell_type": "markdown",
   "metadata": {
    "cell_tags": null,
    "ein.tags": "worksheet-0",
    "slideshow": {
     "slide_type": "-"
    }
   },
   "source": [
    "When analyzing data,\n",
    "we often want to look at *partial statistics*,\n",
    "such as the maximum value per patient\n",
    "or the average value per day.\n",
    "One way to do this is to select the data we want to create into a new temporary array,\n",
    "then ask it to do the calculation.  Let's do this to find the maximum inflammation value for the first patient. Hint: use a slice."
   ]
  },
  {
   "cell_type": "code",
   "execution_count": 23,
   "metadata": {
    "autoscroll": false,
    "cell_tags": null,
    "ein.tags": "worksheet-0",
    "slideshow": {
     "slide_type": "-"
    }
   },
   "outputs": [
    {
     "name": "stdout",
     "output_type": "stream",
     "text": [
      "maximum inflammation for patient 0: 18.0\n",
      "minimum inflammation for patient 0: 0.0\n",
      "std inflammation for patient 0 std: 3.8983971065\n"
     ]
    },
    {
     "data": {
      "text/plain": [
       "array([  0.,   0.,   1.,   3.,   1.,   2.,   4.,   7.,   8.,   3.,   3.,\n",
       "         3.,  10.,   5.,   7.,   4.,   7.,   7.,  12.,  18.,   6.,  13.,\n",
       "        11.,  11.,   7.,   7.,   4.,   6.,   8.,   8.,   4.,   4.,   5.,\n",
       "         7.,   3.,   4.,   2.,   3.,   0.,   0.])"
      ]
     },
     "execution_count": 23,
     "metadata": {},
     "output_type": "execute_result"
    }
   ],
   "source": [
    "print(\"maximum inflammation for patient 0:\", data[0].max())\n",
    "print(\"minimum inflammation for patient 0:\", data[0].min())\n",
    "print(\"std inflammation for patient 0 std:\", data[0].std())\n",
    "data[0]"
   ]
  },
  {
   "cell_type": "markdown",
   "metadata": {
    "cell_tags": null,
    "ein.tags": "worksheet-0",
    "slideshow": {
     "slide_type": "-"
    }
   },
   "source": [
    "Note, we don't need to store the row in a variable of its own -- alternatively, we can combine the select statement and the method call in one line, since the selected sub-array is itself an array and therefor has the method available.  Try this to find the `max` for the second patient."
   ]
  },
  {
   "cell_type": "code",
   "execution_count": 24,
   "metadata": {
    "autoscroll": false,
    "cell_tags": null,
    "ein.tags": "worksheet-0",
    "slideshow": {
     "slide_type": "-"
    }
   },
   "outputs": [
    {
     "name": "stdout",
     "output_type": "stream",
     "text": [
      "p2 max: 19.0\n"
     ]
    }
   ],
   "source": [
    "print(\"p2 max:\", data[2].max())"
   ]
  },
  {
   "cell_type": "markdown",
   "metadata": {
    "cell_tags": null,
    "ein.tags": "worksheet-0",
    "slideshow": {
     "slide_type": "-"
    }
   },
   "source": [
    "What if we need the maximum inflammation for *all* patients,\n",
    "or the average inflammation for each day?\n",
    "As the diagram below shows,\n",
    "we want to perform these operations across an *axis*:"
   ]
  },
  {
   "cell_type": "markdown",
   "metadata": {
    "cell_tags": null,
    "ein.tags": "worksheet-0",
    "slideshow": {
     "slide_type": "-"
    }
   },
   "source": [
    "<img src=\"http://metameso.org/~joe/ds4d/python-operations-across-axes.svg\" alt=\"Operations Across Axes\" />"
   ]
  },
  {
   "cell_type": "markdown",
   "metadata": {
    "cell_tags": null,
    "ein.tags": "worksheet-0",
    "slideshow": {
     "slide_type": "-"
    }
   },
   "source": [
    "To support this,\n",
    "most array methods allow us to specify the axis we want to work on, by providing it as an argument.\n",
    "If we ask for the average across axis 0, what do we get?"
   ]
  },
  {
   "cell_type": "code",
   "execution_count": 27,
   "metadata": {
    "autoscroll": false,
    "cell_tags": null,
    "ein.tags": "worksheet-0",
    "slideshow": {
     "slide_type": "-"
    }
   },
   "outputs": [
    {
     "name": "stdout",
     "output_type": "stream",
     "text": [
      "(60, 40)\n",
      "40\n"
     ]
    }
   ],
   "source": [
    "print(data.shape)\n",
    "print(len(data[0])) # 40 days, columns"
   ]
  },
  {
   "cell_type": "markdown",
   "metadata": {
    "cell_tags": null,
    "ein.tags": "worksheet-0",
    "slideshow": {
     "slide_type": "-"
    }
   },
   "source": [
    "As a quick check,\n",
    "we can ask this array what its shape is:"
   ]
  },
  {
   "cell_type": "code",
   "execution_count": 32,
   "metadata": {
    "autoscroll": false,
    "cell_tags": null,
    "ein.tags": "worksheet-0",
    "slideshow": {
     "slide_type": "-"
    }
   },
   "outputs": [
    {
     "name": "stdout",
     "output_type": "stream",
     "text": [
      "(40,)\n",
      "(60,)\n"
     ]
    }
   ],
   "source": [
    "print(data.mean(axis=0).shape) # we find average across columns - 40 days\n",
    "print(data.mean(axis=1).shape) # we find average across - 60 patients"
   ]
  },
  {
   "cell_type": "markdown",
   "metadata": {
    "cell_tags": null,
    "ein.tags": "worksheet-0",
    "slideshow": {
     "slide_type": "-"
    }
   },
   "source": [
    "The expression `(40,)` tells us we have an N&times;1 vector.  This is the average inflammation per day for all patients.\n",
    "If we average across axis 1, we get:"
   ]
  },
  {
   "cell_type": "code",
   "execution_count": 36,
   "metadata": {
    "autoscroll": false,
    "cell_tags": null,
    "ein.tags": "worksheet-0",
    "slideshow": {
     "slide_type": "-"
    }
   },
   "outputs": [
    {
     "data": {
      "text/plain": [
       "array([ 5.45 ,  5.425,  6.1  ,  5.9  ,  5.55 ,  6.225,  5.975,  6.65 ,\n",
       "        6.625,  6.525,  6.775,  5.8  ,  6.225,  5.75 ,  5.225,  6.3  ,\n",
       "        6.55 ,  5.7  ,  5.85 ,  6.55 ,  5.775,  5.825,  6.175,  6.1  ,\n",
       "        5.8  ,  6.425,  6.05 ,  6.025,  6.175,  6.55 ,  6.175,  6.35 ,\n",
       "        6.725,  6.125,  7.075,  5.725,  5.925,  6.15 ,  6.075,  5.75 ,\n",
       "        5.975,  5.725,  6.3  ,  5.9  ,  6.75 ,  5.925,  7.225,  6.15 ,\n",
       "        5.95 ,  6.275,  5.7  ,  6.1  ,  6.825,  5.975,  6.725,  5.7  ,\n",
       "        6.25 ,  6.4  ,  7.05 ,  5.9  ])"
      ]
     },
     "execution_count": 36,
     "metadata": {},
     "output_type": "execute_result"
    }
   ],
   "source": [
    "data.mean(axis=1) # average inflammation of 60 patient across 40 days"
   ]
  },
  {
   "cell_type": "markdown",
   "metadata": {
    "cell_tags": null,
    "ein.tags": "worksheet-0",
    "slideshow": {
     "slide_type": "-"
    }
   },
   "source": [
    "which is the average inflammation per patient across all days."
   ]
  },
  {
   "cell_type": "markdown",
   "metadata": {
    "cell_tags": [
     "challenges"
    ],
    "ein.tags": "worksheet-0",
    "slideshow": {
     "slide_type": "-"
    }
   },
   "source": [
    "#### Challenges\n",
    "\n",
    "A subsection of an array is called a [slice](./gloss.html#slice).\n",
    "We can take slices of character strings as well.  Try finding the first three and last three characters of the string `'oxygen'` this way."
   ]
  },
  {
   "cell_type": "code",
   "execution_count": 37,
   "metadata": {
    "autoscroll": false,
    "cell_tags": [
     "challenges"
    ],
    "ein.tags": "worksheet-0",
    "slideshow": {
     "slide_type": "-"
    }
   },
   "outputs": [
    {
     "name": "stdout",
     "output_type": "stream",
     "text": [
      "first 3 chars: oxy\n",
      "last 3 chars: gen\n"
     ]
    }
   ],
   "source": [
    "t = \"oxygen\"\n",
    "print(\"first 3 chars:\", t[:3])\n",
    "print(\"last 3 chars:\", t[-3:])"
   ]
  },
  {
   "cell_type": "markdown",
   "metadata": {
    "cell_tags": [
     "challenges"
    ],
    "ein.tags": "worksheet-0",
    "slideshow": {
     "slide_type": "-"
    }
   },
   "source": [
    "### Some more challenges:\n",
    "\n",
    "1.  What is the value of `element[:4]`?\n",
    "    What about `element[4:]`?\n",
    "    Or `element[:]`?\n",
    "\n",
    "1.  What is `element[-1]`?\n",
    "    What is `element[-2]`?\n",
    "    Given those answers,\n",
    "    explain what `element[1:-1]` does.\n",
    "\n",
    "1.  The expression `element[3:3]` produces an [empty string](./gloss.html#empty-string),\n",
    "    i.e., a string that contains no characters.\n",
    "    If `data` holds our array of patient data,\n",
    "    what does `data[3:3, 4:4]` produce?\n",
    "    What about `data[3:3, :]`?"
   ]
  },
  {
   "cell_type": "code",
   "execution_count": 48,
   "metadata": {},
   "outputs": [
    {
     "name": "stdout",
     "output_type": "stream",
     "text": [
      "oxygen\n",
      "xyge\n",
      "\n",
      "[]\n",
      "[]\n"
     ]
    }
   ],
   "source": [
    "print(t[:])\n",
    "print(t[1:-1])# creates a substring from index 1 up to (not including) the final index\n",
    "print(data[3:3, 4:4])\n",
    "print(data[3:3, :])"
   ]
  },
  {
   "cell_type": "markdown",
   "metadata": {
    "cell_tags": null,
    "ein.tags": "worksheet-0",
    "slideshow": {
     "slide_type": "-"
    }
   },
   "source": [
    "### Plotting"
   ]
  },
  {
   "cell_type": "markdown",
   "metadata": {
    "cell_tags": null,
    "ein.tags": "worksheet-0",
    "slideshow": {
     "slide_type": "-"
    }
   },
   "source": [
    "The mathematician Richard Hamming once said,\n",
    "\"The purpose of computing is insight, not numbers,\"\n",
    "and the best way to develop insight is often to visualize data.\n",
    "Visualization deserves an entire lecture (or course) of its own,\n",
    "but we can explore a few features of Python's `matplotlib` here.\n",
    "First,\n",
    "let's tell the IPython Notebook that we want our plots displayed inline,\n",
    "rather than in a separate viewing window:"
   ]
  },
  {
   "cell_type": "code",
   "execution_count": 89,
   "metadata": {
    "autoscroll": false,
    "cell_tags": null,
    "collapsed": true,
    "ein.tags": "worksheet-0",
    "slideshow": {
     "slide_type": "-"
    }
   },
   "outputs": [],
   "source": [
    "%matplotlib inline  "
   ]
  },
  {
   "cell_type": "markdown",
   "metadata": {
    "cell_tags": null,
    "ein.tags": "worksheet-0",
    "slideshow": {
     "slide_type": "-"
    }
   },
   "source": [
    "The `%` at the start of the line signals that this is **a command for the notebook,\n",
    "rather than a statement in Python**.\n",
    "Next,\n",
    "we will import the `pyplot` module from `matplotlib`\n",
    "and use two of its functions, called `imshow` and `show` to first create and then display a heat map of our data:"
   ]
  },
  {
   "cell_type": "code",
   "execution_count": 55,
   "metadata": {
    "autoscroll": false,
    "cell_tags": null,
    "ein.tags": "worksheet-0",
    "slideshow": {
     "slide_type": "-"
    }
   },
   "outputs": [
    {
     "name": "stdout",
     "output_type": "stream",
     "text": [
      "(60, 40)\n"
     ]
    },
    {
     "data": {
      "image/png": "[encoded data removed]",
      "text/plain": [
       "<matplotlib.figure.Figure at 0x7fc270e4f7b8>"
      ]
     },
     "metadata": {},
     "output_type": "display_data"
    }
   ],
   "source": [
    "import matplotlib.pyplot as plt\n",
    "print(data.shape)\n",
    "\n",
    "# https://matplotlib.org/devdocs/api/_as_gen/matplotlib.pyplot.imshow.html\n",
    "# heatmap of the data (i.e. 2d array)\n",
    "# MxN arrays are mapped to colors based on the norm (mapping scalar to scalar) and the cmap (mapping the normed scalar to a color)\n",
    "plt.imshow(data)\n",
    "plt.show()"
   ]
  },
  {
   "cell_type": "markdown",
   "metadata": {
    "cell_tags": null,
    "ein.tags": "worksheet-0",
    "slideshow": {
     "slide_type": "-"
    }
   },
   "source": [
    "Blue regions in this heat map are low values, while brighter color show higher values.\n",
    "As we can see,\n",
    "inflammation rises and falls over a 40-day period.\n",
    "Let's take a look at the average inflammation across all patients over time, using the `plot` method."
   ]
  },
  {
   "cell_type": "code",
   "execution_count": 60,
   "metadata": {
    "autoscroll": false,
    "cell_tags": null,
    "ein.tags": "worksheet-0",
    "slideshow": {
     "slide_type": "-"
    }
   },
   "outputs": [
    {
     "name": "stdout",
     "output_type": "stream",
     "text": [
      "[  0.           0.45         1.11666667   1.75         2.43333333   3.15\n",
      "   3.8          3.88333333   5.23333333   5.51666667   5.95         5.9\n",
      "   8.35         7.73333333   8.36666667   9.5          9.58333333\n",
      "  10.63333333  11.56666667  12.35        13.25        11.96666667\n",
      "  11.03333333  10.16666667  10.           8.66666667   9.15         7.25\n",
      "   7.33333333   6.58333333   6.06666667   5.95         5.11666667   3.6\n",
      "   3.3          3.56666667   2.48333333   1.5          1.13333333\n",
      "   0.56666667]\n"
     ]
    },
    {
     "data": {
      "image/png": "[encoded data removed]",
      "text/plain": [
       "<matplotlib.figure.Figure at 0x7fc26d61bcf8>"
      ]
     },
     "metadata": {},
     "output_type": "display_data"
    }
   ],
   "source": [
    "# https://docs.scipy.org/doc/numpy-1.13.0/reference/generated/numpy.mean.html\n",
    "ave_inflammation = data.mean(axis=0) # inflammation mean across 40 days\n",
    "print(ave_inflammation)\n",
    "plt.plot(ave_inflammation)\n",
    "plt.show()"
   ]
  },
  {
   "cell_type": "markdown",
   "metadata": {
    "cell_tags": null,
    "ein.tags": "worksheet-0",
    "slideshow": {
     "slide_type": "-"
    }
   },
   "source": [
    "The result is roughly a linear rise and fall,\n",
    "which is suspicious:\n",
    "based on other studies,\n",
    "we expect a sharper rise and slower fall.\n",
    "Let's have a look at two other statistics for our population, namely the `max` and `min` inflammation levels."
   ]
  },
  {
   "cell_type": "code",
   "execution_count": 59,
   "metadata": {
    "autoscroll": false,
    "cell_tags": null,
    "ein.tags": "worksheet-0",
    "slideshow": {
     "slide_type": "-"
    }
   },
   "outputs": [
    {
     "name": "stdout",
     "output_type": "stream",
     "text": [
      "[  0.   1.   2.   3.   4.   5.   6.   7.   8.   9.  10.  11.  12.  13.  14.\n",
      "  15.  16.  17.  18.  19.  20.  19.  18.  17.  16.  15.  14.  13.  12.  11.\n",
      "  10.   9.   8.   7.   6.   5.   4.   3.   2.   1.]\n"
     ]
    },
    {
     "data": {
      "image/png": "[encoded data removed]",
      "text/plain": [
       "<matplotlib.figure.Figure at 0x7fc26d5d7630>"
      ]
     },
     "metadata": {},
     "output_type": "display_data"
    },
    {
     "name": "stdout",
     "output_type": "stream",
     "text": [
      "[ 0.  0.  0.  0.  1.  1.  1.  1.  2.  2.  2.  2.  3.  3.  3.  3.  4.  5.\n",
      "  5.  5.  5.  4.  4.  4.  4.  3.  3.  3.  3.  2.  2.  2.  2.  1.  1.  1.\n",
      "  1.  0.  0.  0.]\n"
     ]
    },
    {
     "data": {
      "image/png": "[encoded data removed]",
      "text/plain": [
       "<matplotlib.figure.Figure at 0x7fc26d565c18>"
      ]
     },
     "metadata": {},
     "output_type": "display_data"
    }
   ],
   "source": [
    "max_inflammation = data.max(axis=0) # min inflammation for 40 days\n",
    "print(max_inflammation)\n",
    "plt.plot(max_inflammation)\n",
    "plt.show()\n",
    "\n",
    "min_inflammation = data.min(axis=0) # # min inflammation for 40 days\n",
    "print(min_inflammation)\n",
    "plt.plot(min_inflammation)\n",
    "plt.show()"
   ]
  },
  {
   "cell_type": "markdown",
   "metadata": {
    "cell_tags": null,
    "ein.tags": "worksheet-0",
    "slideshow": {
     "slide_type": "-"
    }
   },
   "source": [
    "The maximum value rises and falls **perfectly smoothly**,\n",
    "while the minimum seems to be a **step function**.\n",
    "Neither result seems particularly likely,\n",
    "**so either there's a mistake in our calculations\n",
    "or (more likely) something is wrong with our data**"
   ]
  },
  {
   "cell_type": "markdown",
   "metadata": {
    "cell_tags": [
     "challenges"
    ],
    "ein.tags": "worksheet-0",
    "slideshow": {
     "slide_type": "-"
    }
   },
   "source": [
    "#### Challenges\n",
    "\n",
    "1.  Why do all of our plots stop just short of the upper end of our graph?\n",
    "    Why are the vertical lines in our plot of the minimum inflammation per day not vertical?\n",
    "\n",
    "1.  Create a plot showing the standard deviation of the inflammation data for each day across all patients."
   ]
  },
  {
   "cell_type": "code",
   "execution_count": 61,
   "metadata": {},
   "outputs": [
    {
     "data": {
      "image/png": "[encoded data removed]",
      "text/plain": [
       "<matplotlib.figure.Figure at 0x7fc270df6eb8>"
      ]
     },
     "metadata": {},
     "output_type": "display_data"
    }
   ],
   "source": [
    "# 1. because matplotlib normally sets x and y axes limits to the min and max of our data (depending on data range)\n",
    "# 2. see below\n",
    "\n",
    "std_inflammation = data.std(axis=0) # for 40 days\n",
    "plt.plot(std_inflammation)\n",
    "plt.show()"
   ]
  },
  {
   "cell_type": "markdown",
   "metadata": {
    "cell_tags": null,
    "ein.tags": "worksheet-0",
    "slideshow": {
     "slide_type": "-"
    }
   },
   "source": [
    "### Wrapping Up"
   ]
  },
  {
   "cell_type": "markdown",
   "metadata": {
    "cell_tags": null,
    "ein.tags": "worksheet-0",
    "slideshow": {
     "slide_type": "-"
    }
   },
   "source": [
    "It's very common to create an [alias](./gloss.html#alias) for a library when importing it\n",
    "in order to reduce the amount of typing we have to do.\n",
    "The first two lines re-load our libraries as `np` and `plt`,\n",
    "which are the aliases most Python programmers use.  Let's reload our data one more time as well, for practice, using this aliased library name.  And let's make our our three plots side by side using the `plt` methods `figure`, `subplot`, `ylabel`, `plot`, `tight_layout`, and `show`.  Hint: a good size for the figure is 10 by 3, which is width by height.  Hint: you can use the argument `0` as a shorthand for `axis=0`.  Hint: Given enough time you should be able to figure out how to call the functions by reading the [docs](https://matplotlib.org/api/pyplot_api.html), but it's convenient to know that calling `subplot` with arguments `1`, `3`, and \"plot number\" will do the job here."
   ]
  },
  {
   "cell_type": "code",
   "execution_count": 79,
   "metadata": {
    "autoscroll": false,
    "cell_tags": null,
    "ein.tags": "worksheet-0",
    "slideshow": {
     "slide_type": "-"
    }
   },
   "outputs": [
    {
     "data": {
      "image/png": "[encoded data removed]",
      "text/plain": [
       "<matplotlib.figure.Figure at 0x7fc270e08320>"
      ]
     },
     "metadata": {},
     "output_type": "display_data"
    }
   ],
   "source": [
    "import numpy as np\n",
    "import matplotlib.pyplot as plt\n",
    "\n",
    "data = np.loadtxt(fname = \"inflammation-01.csv\", delimiter = \",\")\n",
    "\n",
    "# a good size for the figure is 10 by 3, which is width by height\n",
    "# create a figure\n",
    "plt.figure(figsize=(10, 3)) # width 10 by height 3 in inches\n",
    "\n",
    "# https://matplotlib.org/devdocs/api/_as_gen/matplotlib.pyplot.subplots.html\n",
    "plt.subplot(1, 3, 1) # rows, cols, sub fignum\n",
    "plt.xlabel(\"dates\")\n",
    "plt.ylabel(\"average inflammation\")\n",
    "plt.plot(data.mean(0)) # data.mean(0) <-> data.mean(axis=0) for 40 days\n",
    "\n",
    "plt.subplot(1, 3, 2)\n",
    "plt.xlabel(\"dates\") # plt remembers state of figure, so must subplot before labelling\n",
    "plt.ylabel(\"max inflammation\")\n",
    "plt.plot(data.max(0))\n",
    "\n",
    "plt.subplot(1, 3, 3)\n",
    "plt.xlabel(\"dates\")\n",
    "plt.ylabel(\"min inflammation\")\n",
    "plt.plot(data.min(0))\n",
    "\n",
    "plt.tight_layout()\n",
    "plt.show()"
   ]
  },
  {
   "cell_type": "markdown",
   "metadata": {
    "cell_tags": null,
    "ein.tags": "worksheet-0",
    "slideshow": {
     "slide_type": "-"
    }
   },
   "source": [
    "The program tells the plotting library\n",
    "how large we want the figure to be,\n",
    "that we're creating three sub-plots,\n",
    "what to draw for each one,\n",
    "and that we want a tight layout.\n",
    "(Perversely,\n",
    "if we leave out that call to `plt.tight_layout()`,\n",
    "the graphs will actually be squeezed together more closely.)"
   ]
  },
  {
   "cell_type": "markdown",
   "metadata": {
    "cell_tags": [
     "challenges"
    ],
    "ein.tags": "worksheet-0",
    "slideshow": {
     "slide_type": "-"
    }
   },
   "source": [
    "#### Challenges\n",
    "\n",
    "1.  Modify the program to display the three plots on top of one another instead of side by side."
   ]
  },
  {
   "cell_type": "code",
   "execution_count": 82,
   "metadata": {},
   "outputs": [
    {
     "data": {
      "image/png": "[encoded data removed]",
      "text/plain": [
       "<matplotlib.figure.Figure at 0x7fc26d4db3c8>"
      ]
     },
     "metadata": {},
     "output_type": "display_data"
    }
   ],
   "source": [
    "plt.subplot(3, 1, 1) # rows, cols, sub fignum\n",
    "plt.xlabel(\"dates\")\n",
    "plt.ylabel(\"average inflammation\")\n",
    "plt.plot(data.mean(0)) # data.mean(0) <-> data.mean(axis=0) for 40 days\n",
    "\n",
    "plt.subplot(3, 1, 2)\n",
    "plt.xlabel(\"dates\") # plt remembers state of figure, so must subplot before labelling\n",
    "plt.ylabel(\"max inflammation\")\n",
    "plt.plot(data.max(0))\n",
    "\n",
    "plt.subplot(3, 1, 3)\n",
    "plt.xlabel(\"dates\")\n",
    "plt.ylabel(\"min inflammation\")\n",
    "plt.plot(data.min(0))\n",
    "\n",
    "plt.tight_layout()\n",
    "plt.show()"
   ]
  },
  {
   "cell_type": "markdown",
   "metadata": {
    "cell_tags": [
     "keypoints"
    ],
    "ein.tags": "worksheet-0",
    "slideshow": {
     "slide_type": "-"
    }
   },
   "source": [
    "#### Key Points\n",
    "\n",
    "*   Import a library into a program using `import libraryname`.\n",
    "*   Use the `numpy` library to work with arrays in Python.\n",
    "*   Use `variable = value` to assign a value to a variable in order to record it in memory.\n",
    "*   Variables are created on demand whenever a value is assigned to them.\n",
    "*   Use `print(something)` to display the value of `something`.\n",
    "*   The expression `array.shape` gives the shape of an array.\n",
    "*   Use `array[x, y]` to select a single element from an array.\n",
    "*   Array indices start at 0, not 1.\n",
    "*   Use `low:high` to specify a slice that includes the indices from `low` to `high-1`.\n",
    "*   All the indexing and slicing that works on arrays also works on strings.\n",
    "*   Use `# some kind of explanation` to add comments to programs.\n",
    "*   Use `array.mean()`, `array.max()`, and `array.min()` to calculate simple statistics.\n",
    "*   Use `array.mean(axis=0)` or `array.mean(axis=1)` to calculate statistics across the specified axis.\n",
    "*   Use the `pyplot` library from `matplotlib` for creating simple visualizations."
   ]
  },
  {
   "cell_type": "markdown",
   "metadata": {
    "cell_tags": null,
    "ein.tags": "worksheet-0",
    "slideshow": {
     "slide_type": "-"
    }
   },
   "source": [
    "#### Next Steps\n",
    "\n",
    "Our work so far has convinced us that something's wrong with our first data file.\n",
    "We would like to check the other 11 the same way,\n",
    "but typing in the same commands repeatedly is tedious and error-prone.\n",
    "Since computers don't get bored (that we know of),\n",
    "we should create a way to do a complete analysis with a single command,\n",
    "and then figure out how to repeat that step once for each file.\n",
    "These operations are the subjects of the next two lessons."
   ]
  }
 ],
 "metadata": {
  "kernelspec": {
   "display_name": "Python 3",
   "language": "python",
   "name": "python3"
  },
  "language_info": {
   "codemirror_mode": {
    "name": "ipython",
    "version": 3
   },
   "file_extension": ".py",
   "mimetype": "text/x-python",
   "name": "python",
   "nbconvert_exporter": "python",
   "pygments_lexer": "ipython3",
   "version": "3.5.2"
  },
  "name": "01-numpy.ipynb"
 },
 "nbformat": 4,
 "nbformat_minor": 1
}
