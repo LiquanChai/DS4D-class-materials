{
 "cells": [
  {
   "cell_type": "markdown",
   "metadata": {
    "cell_tags": []
   },
   "source": [
    "## Creating Functions"
   ]
  },
  {
   "cell_type": "markdown",
   "metadata": {
    "cell_tags": []
   },
   "source": [
    "If we only had one data set to analyze,\n",
    "it would probably be faster to load the file into a spreadsheet\n",
    "and use that to plot some simple statistics.\n",
    "But we have twelve files to check,\n",
    "and may have more in future.\n",
    "In this lesson,\n",
    "we'll learn how to write a function\n",
    "so that we can repeat several operations with a single command."
   ]
  },
  {
   "cell_type": "markdown",
   "metadata": {
    "cell_tags": [
     "objectives"
    ]
   },
   "source": [
    "#### Objectives\n",
    "\n",
    "*   Define a function that takes parameters.\n",
    "*   Return a value from a function.\n",
    "*   Test and debug a function.\n",
    "*   Explain what a call stack is, and trace changes to the call stack as functions are called.\n",
    "*   Set default values for function parameters.\n",
    "*   Explain why we should divide programs into small, single-purpose functions."
   ]
  },
  {
   "cell_type": "markdown",
   "metadata": {
    "cell_tags": []
   },
   "source": [
    "### Defining a Function"
   ]
  },
  {
   "cell_type": "markdown",
   "metadata": {
    "cell_tags": []
   },
   "source": [
    "Let's start by defining a function `fahr_to_kelvin` that converts temperatures from Fahrenheit to Kelvin.\n",
    "\n",
    "The definition opens with the word `def`,\n",
    "which is followed by the name of the function\n",
    "and a parenthesized list of parameter names.\n",
    "The [body](./gloss.html#function-body) of the function&mdash;the\n",
    "statements that are executed when it runs&mdash;is indented below the definition line,\n",
    "typically by four spaces.\n",
    "\n",
    "When we call the function,\n",
    "the values we pass to it are assigned to those variables\n",
    "so that we can use them inside the function.\n",
    "Inside the function,\n",
    "we use a [return statement](./gloss.html#return-statement) to send a result back to whoever asked for it.\n"
   ]
  },
  {
   "cell_type": "markdown",
   "metadata": {
    "cell_tags": []
   },
   "source": [
    "By the way in case you forgot the formula, here it is: $T_{(K)} = (T_{(°F)}-32) \\times (5/9) + 273.15$"
   ]
  },
  {
   "cell_type": "code",
   "execution_count": 1,
   "metadata": {
    "cell_tags": [],
    "collapsed": true
   },
   "outputs": [],
   "source": [
    "def fahr_to_kelvin(temp):\n",
    "    return (temp - 32) * (5/9.0) + 273.15"
   ]
  },
  {
   "cell_type": "markdown",
   "metadata": {
    "cell_tags": []
   },
   "source": [
    "Let's try running our function.\n",
    "Calling our own function is no different from calling any other function:"
   ]
  },
  {
   "cell_type": "code",
   "execution_count": 2,
   "metadata": {
    "cell_tags": []
   },
   "outputs": [
    {
     "name": "stdout",
     "output_type": "stream",
     "text": [
      "freezing point of water: 273.15\n",
      "boiling point of water: 373.15\n"
     ]
    }
   ],
   "source": [
    "print('freezing point of water:',fahr_to_kelvin(32))\n",
    "print('boiling point of water:',fahr_to_kelvin(212))"
   ]
  },
  {
   "cell_type": "markdown",
   "metadata": {},
   "source": [
    "It works! (By the way, this simple program would have had a bug in Python 2, but we're using Python 3, so no worries. If you keep programming you'll have lots more opportunities to encounter bugs.)"
   ]
  },
  {
   "cell_type": "markdown",
   "metadata": {},
   "source": [
    "### Composing Functions"
   ]
  },
  {
   "cell_type": "markdown",
   "metadata": {},
   "source": [
    "Now that we've seen how to turn Fahrenheit into Kelvin,\n",
    "it's easy to turn Kelvin into Celsius.  If you know the formula.  But that's simple, just subtract 273.15 from the temperature in Kelvin."
   ]
  },
  {
   "cell_type": "code",
   "execution_count": 3,
   "metadata": {
    "cell_tags": [],
    "collapsed": true
   },
   "outputs": [],
   "source": [
    "def kelvin_to_cel(kel_temp):\n",
    "    return kel_temp - 273.15"
   ]
  },
  {
   "cell_type": "markdown",
   "metadata": {
    "cell_tags": []
   },
   "source": [
    "What about converting Fahrenheit to Celsius?\n",
    "We could write out the formula,\n",
    "but we don't need to.\n",
    "Instead,\n",
    "we can [compose](./gloss.html#function-composition) the two functions we have already created:"
   ]
  },
  {
   "cell_type": "code",
   "execution_count": 4,
   "metadata": {
    "cell_tags": []
   },
   "outputs": [
    {
     "data": {
      "text/plain": [
       "0.0"
      ]
     },
     "execution_count": 4,
     "metadata": {},
     "output_type": "execute_result"
    }
   ],
   "source": [
    "def fahr_to_cel(temp):\n",
    "    return kelvin_to_cel(fahr_to_kelvin(temp))\n",
    "\n",
    "fahr_to_cel(32)"
   ]
  },
  {
   "cell_type": "markdown",
   "metadata": {
    "cell_tags": []
   },
   "source": [
    "This is our first taste of how larger programs are built:\n",
    "we define basic operations,\n",
    "then combine them in ever-large chunks to get the effect we want.\n",
    "Real-life functions will usually be larger than the ones shown here&mdash;typically half a dozen to a few dozen lines&mdash;but\n",
    "they shouldn't ever be much longer than that,\n",
    "or the next person who reads it won't be able to understand what's going on."
   ]
  },
  {
   "cell_type": "markdown",
   "metadata": {
    "cell_tags": [
     "challenges"
    ]
   },
   "source": [
    "#### Challenges\n",
    "\n",
    "1.  \"Adding\" two strings produces their concatention:\n",
    "    `'a' + 'b'` is `'ab'`.\n",
    "    Write a function called `fence` that takes two parameters called `original` and `wrapper`\n",
    "    and returns a new string that has the wrapper character at the beginning and end of the original:\n",
    "\n",
    "    ~~~python\n",
    "    print(fence('name', '*'))\n",
    "    *name*\n",
    "    ~~~\n",
    "\n",
    "1.  If the variable `s` refers to a string,\n",
    "    then `s[0]` is the string's first character\n",
    "    and `s[-1]` is its last.\n",
    "    Write a function called `outer`\n",
    "    that returns a string made up of just the first and last characters of its input:\n",
    "\n",
    "    ~~~python\n",
    "    print(outer('helium'))\n",
    "    hm\n",
    "    ~~~"
   ]
  },
  {
   "cell_type": "code",
   "execution_count": 5,
   "metadata": {},
   "outputs": [
    {
     "name": "stdout",
     "output_type": "stream",
     "text": [
      "ab\n",
      "*name*\n",
      "hm\n"
     ]
    }
   ],
   "source": [
    "# 1.\n",
    "def concat(str1, str2):\n",
    "    return str1 + str2\n",
    "print(concat('a', 'b'))\n",
    "\n",
    "def fence(original, wrapper):\n",
    "    return wrapper + original + wrapper\n",
    "print(fence('name', '*'))\n",
    "\n",
    "# 2.\n",
    "def outer(str):\n",
    "    return str[0] + str[-1]\n",
    "print(outer('helium'))"
   ]
  },
  {
   "cell_type": "markdown",
   "metadata": {
    "cell_tags": []
   },
   "source": [
    "### Some thoughts on encapsulation"
   ]
  },
  {
   "cell_type": "markdown",
   "metadata": {},
   "source": [
    "[Encapsulation](./gloss.html#encapsulation)\n",
    "is the key to writing correct, comprehensible, programs.\n",
    "A function's job is to turn several operations into one\n",
    "so that we can think about a single function call\n",
    "instead of a dozen or a hundred statements\n",
    "each time we want to do something.\n",
    "That only works if functions don't interfere with each other;\n",
    "if they do,\n",
    "we have to pay attention to the details once again,\n",
    "which quickly overloads our short-term memory."
   ]
  },
  {
   "cell_type": "markdown",
   "metadata": {
    "cell_tags": []
   },
   "source": [
    "Let's take a closer look at what happens when we call `fahr_to_celsius(32.0)`.\n",
    "To make things clearer,\n",
    "we'll start by putting the initial value 32.0 in a variable\n",
    "and store the final result in one as well:"
   ]
  },
  {
   "cell_type": "code",
   "execution_count": 6,
   "metadata": {
    "cell_tags": []
   },
   "outputs": [
    {
     "ename": "NameError",
     "evalue": "name 'temp' is not defined",
     "output_type": "error",
     "traceback": [
      "\u001b[0;31m---------------------------------------------------------------------------\u001b[0m",
      "\u001b[0;31mNameError\u001b[0m                                 Traceback (most recent call last)",
      "\u001b[0;32m<ipython-input-6-6113355b3ffa>\u001b[0m in \u001b[0;36m<module>\u001b[0;34m()\u001b[0m\n\u001b[1;32m      2\u001b[0m \u001b[0mfinal\u001b[0m \u001b[0;34m=\u001b[0m \u001b[0mfahr_to_cel\u001b[0m\u001b[0;34m(\u001b[0m\u001b[0moriginal\u001b[0m\u001b[0;34m)\u001b[0m\u001b[0;34m\u001b[0m\u001b[0m\n\u001b[1;32m      3\u001b[0m \u001b[0;34m\u001b[0m\u001b[0m\n\u001b[0;32m----> 4\u001b[0;31m \u001b[0mprint\u001b[0m\u001b[0;34m(\u001b[0m\u001b[0;34m'final value of temp after all function calls:'\u001b[0m\u001b[0;34m,\u001b[0m \u001b[0mtemp\u001b[0m\u001b[0;34m)\u001b[0m\u001b[0;34m\u001b[0m\u001b[0m\n\u001b[0m",
      "\u001b[0;31mNameError\u001b[0m: name 'temp' is not defined"
     ]
    }
   ],
   "source": [
    "original = 32.0\n",
    "final = fahr_to_cel(original)\n",
    "\n",
    "print('final value of temp after all function calls:', temp)"
   ]
  },
  {
   "cell_type": "markdown",
   "metadata": {
    "cell_tags": []
   },
   "source": [
    "If we try to get the value of `temp` after our functions have finished running,\n",
    "Python tells us that there's no such thing.  Go ahead, try it."
   ]
  },
  {
   "cell_type": "code",
   "execution_count": 7,
   "metadata": {
    "cell_tags": []
   },
   "outputs": [
    {
     "name": "stdout",
     "output_type": "stream",
     "text": [
      "final value of temp after all function calls: 0.0\n"
     ]
    }
   ],
   "source": [
    "original = 32.0\n",
    "final = fahr_to_cel(original)\n",
    "\n",
    "print('final value of temp after all function calls:', final)"
   ]
  },
  {
   "cell_type": "markdown",
   "metadata": {
    "cell_tags": []
   },
   "source": [
    "Why go to all this trouble?\n",
    "Well, now let's consider a function called `span` that calculates the difference between\n",
    "the mininum and maximum values in an array.  You can write this using the functions we learned about in the previous notebook.  Rather than just returning the difference between the `max` and `min` directly, for the sake of argument, please assign it to a variable called `diff` and return that.  Oh, and don't forget to import the relevant library for working with arrays!\n",
    "\n",
    "Once you've defined the function, load up our good old `inflammation-01.csv` data set and test it out."
   ]
  },
  {
   "cell_type": "code",
   "execution_count": 13,
   "metadata": {
    "cell_tags": []
   },
   "outputs": [
    {
     "name": "stdout",
     "output_type": "stream",
     "text": [
      "span of data: 20.0\n"
     ]
    }
   ],
   "source": [
    "import numpy as np\n",
    "\n",
    "def span(a):\n",
    "    diff = a.max() - a.min()\n",
    "    return diff\n",
    "\n",
    "data = np.loadtxt(fname='inflammation-01.csv', delimiter=',')\n",
    "\n",
    "print('span of data:', span(data))"
   ]
  },
  {
   "cell_type": "markdown",
   "metadata": {
    "cell_tags": []
   },
   "source": [
    "But what would have happened if we decided, just to be annoying, to load the data file into a variable called `diff`?  Try it that way."
   ]
  },
  {
   "cell_type": "code",
   "execution_count": 14,
   "metadata": {
    "cell_tags": []
   },
   "outputs": [
    {
     "name": "stdout",
     "output_type": "stream",
     "text": [
      "span of data: [[ 0.  0.  1. ...,  3.  0.  0.]\n",
      " [ 0.  1.  2. ...,  1.  0.  1.]\n",
      " [ 0.  1.  1. ...,  2.  1.  1.]\n",
      " ..., \n",
      " [ 0.  1.  1. ...,  1.  1.  1.]\n",
      " [ 0.  0.  0. ...,  0.  2.  0.]\n",
      " [ 0.  0.  1. ...,  1.  1.  0.]]\n"
     ]
    }
   ],
   "source": [
    "diff = np.loadtxt(fname='inflammation-01.csv', delimiter=',')\n",
    "print('span of data:', diff)"
   ]
  },
  {
   "cell_type": "markdown",
   "metadata": {
    "cell_tags": []
   },
   "source": [
    "No problem!  Did you think you'd see an error here?\n",
    "\n",
    "This `diff` doesn't refer to the same thing as the one inside `span`.\n",
    "Of course, we didn't *need* to use the name `diff` here, but the point is that we could get away with it.  The moral of the story is that functions shield their contents from the outside world."
   ]
  },
  {
   "cell_type": "markdown",
   "metadata": {
    "cell_tags": [
     "challenges"
    ]
   },
   "source": [
    "#### Challenges\n",
    "\n",
    "1.  We previously wrote functions called `fence` and `outer`.\n",
    "    Draw a diagram showing how the call stack changes when we run the following:\n",
    "    \n",
    "    ~~~python\n",
    "    print(outer(fence('carbon', '+')))\n",
    "    ~~~"
   ]
  },
  {
   "cell_type": "code",
   "execution_count": 15,
   "metadata": {},
   "outputs": [
    {
     "name": "stdout",
     "output_type": "stream",
     "text": [
      "+carbon+\n",
      "++\n"
     ]
    }
   ],
   "source": [
    "print(fence('carbon', '+'))\n",
    "print(outer(fence('carbon', '+')))"
   ]
  },
  {
   "cell_type": "markdown",
   "metadata": {
    "cell_tags": []
   },
   "source": [
    "### Testing and Documenting"
   ]
  },
  {
   "cell_type": "markdown",
   "metadata": {
    "cell_tags": []
   },
   "source": [
    "Once we start putting things in functions so that we can re-use them,\n",
    "we need to start testing that those functions are working correctly.\n",
    "To see how to do this,\n",
    "let's write a function to center a dataset around a particular value.\n",
    "Thanks to operator overloading, you can do arithmetic that combines arrays and numbers and it will just work.  Hint: subtract the mean of the data to center around zero, then add the desired value to center around that."
   ]
  },
  {
   "cell_type": "code",
   "execution_count": 16,
   "metadata": {
    "cell_tags": [],
    "collapsed": true
   },
   "outputs": [],
   "source": [
    "def center(data, desired): # centered around the desired value\n",
    "    return (data - data.mean()) + desired"
   ]
  },
  {
   "cell_type": "markdown",
   "metadata": {
    "cell_tags": []
   },
   "source": [
    "We could test this on some of our actual data,\n",
    "but since we don't know what the values ought to be,\n",
    "it will be hard to tell if the result was correct.\n",
    "Instead,\n",
    "let's use NumPy to create a matrix of 0's\n",
    "and then center that around 3.  Numpy has a method called `zeros` that will work for this.  It takes a two-tuple that specifies the dimensions of the matrix to fill with zeros.  Did you know you can also spell \"zeros\" as \"zeroes\"?   I can't promise you python would like the alternative spelling, however."
   ]
  },
  {
   "cell_type": "code",
   "execution_count": 17,
   "metadata": {
    "cell_tags": []
   },
   "outputs": [
    {
     "name": "stdout",
     "output_type": "stream",
     "text": [
      "data: [[ 0.  0.]\n",
      " [ 0.  0.]]\n",
      "centered data: [[ 3.  3.]\n",
      " [ 3.  3.]]\n"
     ]
    }
   ],
   "source": [
    "z = np.zeros((2,2)) #  a two-tuple that specifies the dimensions of the matrix to fill with zeros.\n",
    "print(\"data:\", z)\n",
    "print(\"centered data:\",center(z, 3))"
   ]
  },
  {
   "cell_type": "markdown",
   "metadata": {
    "cell_tags": []
   },
   "source": [
    "That looks right,\n",
    "so let's try `center` to center our data around `0`:"
   ]
  },
  {
   "cell_type": "code",
   "execution_count": 18,
   "metadata": {
    "cell_tags": []
   },
   "outputs": [
    {
     "name": "stdout",
     "output_type": "stream",
     "text": [
      "[[ 0.  0.  1. ...,  3.  0.  0.]\n",
      " [ 0.  1.  2. ...,  1.  0.  1.]\n",
      " [ 0.  1.  1. ...,  2.  1.  1.]\n",
      " ..., \n",
      " [ 0.  1.  1. ...,  1.  1.  1.]\n",
      " [ 0.  0.  0. ...,  0.  2.  0.]\n",
      " [ 0.  0.  1. ...,  1.  1.  0.]]\n",
      "6.14875\n"
     ]
    },
    {
     "data": {
      "text/plain": [
       "array([[-6.14875, -6.14875, -5.14875, ..., -3.14875, -6.14875, -6.14875],\n",
       "       [-6.14875, -5.14875, -4.14875, ..., -5.14875, -6.14875, -5.14875],\n",
       "       [-6.14875, -5.14875, -5.14875, ..., -4.14875, -5.14875, -5.14875],\n",
       "       ..., \n",
       "       [-6.14875, -5.14875, -5.14875, ..., -5.14875, -5.14875, -5.14875],\n",
       "       [-6.14875, -6.14875, -6.14875, ..., -6.14875, -4.14875, -6.14875],\n",
       "       [-6.14875, -6.14875, -5.14875, ..., -5.14875, -5.14875, -6.14875]])"
      ]
     },
     "execution_count": 18,
     "metadata": {},
     "output_type": "execute_result"
    }
   ],
   "source": [
    "data = np.loadtxt(fname='inflammation-01.csv', delimiter=',')\n",
    "\n",
    "print(data)\n",
    "print(data.mean())\n",
    "centered = center(data, 0)\n",
    "centered"
   ]
  },
  {
   "cell_type": "markdown",
   "metadata": {
    "cell_tags": []
   },
   "source": [
    "It's hard to tell from the default output whether the result is correct,\n",
    "but there are a few simple tests that could reassure us.  Let's compare the `min`, `mean`, and `max` of the original data and the new centered data."
   ]
  },
  {
   "cell_type": "code",
   "execution_count": 19,
   "metadata": {
    "cell_tags": []
   },
   "outputs": [
    {
     "name": "stdout",
     "output_type": "stream",
     "text": [
      "original min, mean, and max are: 0.0, 6.14875, 20.0\n",
      "centered min, mean, and max are: -6.14875, 2.842170943040401e-16, 13.85125\n"
     ]
    }
   ],
   "source": [
    "print('original min, mean, and max are: {}, {}, {}'.format(data.min(), data.mean(), data.max()))\n",
    "\n",
    "print('centered min, mean, and max are: {}, {}, {}'.format(centered.min(), centered.mean(), centered.max()))"
   ]
  },
  {
   "cell_type": "markdown",
   "metadata": {
    "cell_tags": []
   },
   "source": [
    "It looks like the original `mean` was about `6.1`, while the original `min` was `0`.\n",
    "So, it makes sense that the original `mean` becomes the centred `min`.\n",
    "The mean of the centered data isn't *quite* zero&mdash;we'll explore why not in the challenges&mdash;but it is really close.\n",
    "We can take the check one step further and see that the standard deviation hasn't changed:"
   ]
  },
  {
   "cell_type": "code",
   "execution_count": 20,
   "metadata": {
    "cell_tags": []
   },
   "outputs": [
    {
     "name": "stdout",
     "output_type": "stream",
     "text": [
      "original std is: 4.613833197118566\n",
      "centered std is: 4.613833197118566\n"
     ]
    }
   ],
   "source": [
    "print('original std is: {}'.format(data.std()))\n",
    "print('centered std is: {}'.format(centered.std()))"
   ]
  },
  {
   "cell_type": "markdown",
   "metadata": {
    "cell_tags": []
   },
   "source": [
    "Those values look the same,\n",
    "but we probably wouldn't notice if they were different in the sixth decimal place.\n",
    "Let's print their difference instead:"
   ]
  },
  {
   "cell_type": "code",
   "execution_count": 21,
   "metadata": {
    "cell_tags": []
   },
   "outputs": [
    {
     "data": {
      "text/plain": [
       "0.0"
      ]
     },
     "execution_count": 21,
     "metadata": {},
     "output_type": "execute_result"
    }
   ],
   "source": [
    "data.std() - centered.std()"
   ]
  },
  {
   "cell_type": "markdown",
   "metadata": {
    "cell_tags": []
   },
   "source": [
    "Again,\n",
    "the difference is very small, if not exactly zero :-)\n",
    "\n",
    "Perhaps our function is wrong,\n",
    "but it seems unlikely, so we should probably get back to doing our analysis.\n",
    "\n",
    "We have one more task first, though:\n",
    "we should write some [documentation](./gloss.html#documentation) for our function\n",
    "to remind ourselves later what it's for and how to use it.\n",
    "\n",
    "One way to put documentation in software is to add [comments](./gloss.html#comment).  In Python, comments begin with a `#` symbol (sometimes referred to as an \"octothorpe\", commonly known as a \"hash\").  Try redefining the function with some commented documentation now."
   ]
  },
  {
   "cell_type": "code",
   "execution_count": 22,
   "metadata": {
    "cell_tags": [],
    "collapsed": true
   },
   "outputs": [],
   "source": [
    "# center(data, desired): return a new array\n",
    "# containing the original data (ndarray) centered around the desired value (int/float)\n",
    "def center(data, desired):\n",
    "    return (data - data.mean()) + desired\n"
   ]
  },
  {
   "cell_type": "markdown",
   "metadata": {
    "cell_tags": []
   },
   "source": [
    "There's a better way, though.\n",
    "If the first \"thing\" in a function is a string that isn't assigned to a variable,\n",
    "that string is attached to the function as its documentation.  Try defining the function that way."
   ]
  },
  {
   "cell_type": "code",
   "execution_count": 23,
   "metadata": {
    "cell_tags": [],
    "collapsed": true
   },
   "outputs": [],
   "source": [
    "def center(data, desired):\n",
    "    '''\n",
    "    center(data, desired): return a new array\n",
    "    containing the original data (ndarray) centered around the desired value (int/float)\n",
    "    '''\n",
    "    return (data - data.mean()) + desired"
   ]
  },
  {
   "cell_type": "markdown",
   "metadata": {
    "cell_tags": []
   },
   "source": [
    "This is better because we can now ask Python's built-in help system to show us the documentation for the function:"
   ]
  },
  {
   "cell_type": "code",
   "execution_count": 24,
   "metadata": {
    "cell_tags": []
   },
   "outputs": [
    {
     "name": "stdout",
     "output_type": "stream",
     "text": [
      "Help on function center in module __main__:\n",
      "\n",
      "center(data, desired)\n",
      "    center(data, desired): return a new array\n",
      "    containing the original data (ndarray) centered around the desired value (int/float)\n",
      "\n"
     ]
    }
   ],
   "source": [
    "help(center)"
   ]
  },
  {
   "cell_type": "markdown",
   "metadata": {
    "cell_tags": []
   },
   "source": [
    "A string like the one we've created is called a [docstring](./gloss.html#docstring).\n",
    "If we write the string with **triple quotes**, then we're allowed to have it span multiple lines.  Try that now, and include an example in the docstring.  Call the `help` function again to inspect the results of your efforts."
   ]
  },
  {
   "cell_type": "code",
   "execution_count": 25,
   "metadata": {
    "cell_tags": []
   },
   "outputs": [
    {
     "name": "stdout",
     "output_type": "stream",
     "text": [
      "Help on function center in module __main__:\n",
      "\n",
      "center(data, desired)\n",
      "    Return a new array\n",
      "    containing the original data (ndarray) centered around the desired value (int/float)\n",
      "    Example: center([1, 2, 3], 0) => [-1, 0, 1]\n",
      "\n"
     ]
    }
   ],
   "source": [
    "def center(data, desired):\n",
    "    '''\n",
    "    Return a new array\n",
    "    containing the original data (ndarray) centered around the desired value (int/float)\n",
    "    Example: center([1, 2, 3], 0) => [-1, 0, 1]\n",
    "    '''\n",
    "    return (data - data.mean()) + desired\n",
    "\n",
    "help(center)\n"
   ]
  },
  {
   "cell_type": "markdown",
   "metadata": {
    "cell_tags": [
     "challenges"
    ]
   },
   "source": [
    "#### Challenges\n",
    "\n",
    "1.  Write a function called `analyze` that takes a filename as a parameter\n",
    "    and displays the three graphs produced in the [previous lesson](01-numpy.ipynb),\n",
    "    i.e.,\n",
    "    `analyze('inflammation-01.csv')` should produce the graphs already shown,\n",
    "    while `analyze('inflammation-02.csv')` should produce corresponding graphs for the second data set.\n",
    "    Be sure to give your function a docstring.\n",
    "\n",
    "2.  Write a function `rescale` that takes an array as input\n",
    "    and returns a corresponding array of values scaled to lie in the range 0.0 to 1.0.\n",
    "    (If $L$ and $H$ are the lowest and highest values in the original array,\n",
    "    then the replacement for a value $v$ should be $(v-L) / (H-L)$.)\n",
    "    Be sure to give the function a docstring.\n",
    "\n",
    "3.  Run the commands `help(numpy.arange)` and `help(numpy.linspace)`\n",
    "    to see how to use these functions to generate regularly-spaced values,\n",
    "    then use those values to test your `rescale` function."
   ]
  },
  {
   "cell_type": "code",
   "execution_count": 34,
   "metadata": {},
   "outputs": [
    {
     "data": {
      "image/png": "[encoded data removed]",
      "text/plain": [
       "<matplotlib.figure.Figure at 0x7f41a003b5c0>"
      ]
     },
     "metadata": {},
     "output_type": "display_data"
    },
    {
     "data": {
      "image/png": "[encoded data removed]",
      "text/plain": [
       "<matplotlib.figure.Figure at 0x7f4170d349b0>"
      ]
     },
     "metadata": {},
     "output_type": "display_data"
    },
    {
     "data": {
      "image/png": "[encoded data removed]",
      "text/plain": [
       "<matplotlib.figure.Figure at 0x7f4170e62be0>"
      ]
     },
     "metadata": {},
     "output_type": "display_data"
    }
   ],
   "source": [
    "def analyze(fname):\n",
    "    \"\"\"\n",
    "    Show plots of average, max and min values of all patients across 40 days\n",
    "    Given a specified file dataset (file name of a csv file)\n",
    "    Example:\n",
    "    analyze(\"inflammation-01.csv\") ->  plots a figure of average, max and min of \"inflammation-01.csv\" dataset\n",
    "    \"\"\"\n",
    "    import matplotlib.pyplot as plt\n",
    "    data = np.loadtxt(fname, delimiter = \",\")\n",
    "\n",
    "    # a good size for the figure is 10 by 3, which is width by height\n",
    "    # http://matplotlib.org/2.0.0b3/users/text_intro.html\n",
    "    # create a figure\n",
    "    fig = plt.figure(figsize=(10, 3)) # width 10 by height 3 in inches\n",
    "    fig.suptitle(fname, fontsize=10, fontweight='bold') # add filename to associated graphes\n",
    "\n",
    "    # https://matplotlib.org/devdocs/api/_as_gen/matplotlib.pyplot.subplots.html\n",
    "    plt.subplot(1, 3, 1) # rows, cols, sub fignum\n",
    "    plt.xlabel(\"dates\")\n",
    "    plt.ylabel(\"average inflammation\")\n",
    "    plt.plot(data.mean(0)) # data.mean(0) <-> data.mean(axis=0) for 40 days\n",
    "\n",
    "    plt.subplot(1, 3, 2)\n",
    "    plt.xlabel(\"dates\") # plt remembers state of figure, so must subplot before labelling\n",
    "    plt.ylabel(\"max inflammation\")\n",
    "    plt.plot(data.max(0))\n",
    "\n",
    "    plt.subplot(1, 3, 3)\n",
    "    plt.xlabel(\"dates\")\n",
    "    plt.ylabel(\"min inflammation\")\n",
    "    plt.plot(data.min(0))\n",
    "\n",
    "    plt.tight_layout()\n",
    "    plt.show()\n",
    "    \n",
    "analyze(\"inflammation-01.csv\")\n",
    "analyze(\"inflammation-02.csv\")\n",
    "analyze(\"inflammation-03.csv\")"
   ]
  },
  {
   "cell_type": "code",
   "execution_count": 62,
   "metadata": {},
   "outputs": [
    {
     "name": "stdout",
     "output_type": "stream",
     "text": [
      "test1: [ 0  2  4  6  8 10 12 14 16 18]\n",
      "rescaled test1 [ 0.          0.11111111  0.22222222  0.33333333  0.44444444  0.55555556\n",
      "  0.66666667  0.77777778  0.88888889  1.        ]\n",
      "test2: [ 1.  2.  3.  4.  5.]\n",
      "rescaled test2 [ 0.    0.25  0.5   0.75  1.  ]\n"
     ]
    }
   ],
   "source": [
    "def rescale(ndarray):\n",
    "    \"\"\"\n",
    "    Return a new ndarray which values of original ndarray scaled to lie in the range 0.0 to 1.0\n",
    "    Example:\n",
    "    rescaled([ 1.  2.  3.  4.  5.]) -> [ 0.    0.25  0.5   0.75  1.  ]\n",
    "    \"\"\"\n",
    "    l = ndarray.min()\n",
    "    h = ndarray.max()\n",
    "    rescale_func = lambda v: (v - l) / (h - l)\n",
    "    vfunc = np.vectorize(rescale_func) #vectorize functions\n",
    "    return vfunc(ndarray)\n",
    "\n",
    "# help(np.arange)\n",
    "test_data_1 = np.arange(0, 20, 2)\n",
    "# help (np.linspace)\n",
    "test_data_2 = np.linspace(1.0, 5.0, num=5)\n",
    "print(\"test1:\", test_data_1)\n",
    "print(\"rescaled test1\", rescale(test_data_1))\n",
    "print(\"test2:\",test_data_2)\n",
    "print(\"rescaled test2\", rescale(test_data_2))"
   ]
  },
  {
   "cell_type": "markdown",
   "metadata": {
    "cell_tags": []
   },
   "source": [
    "### Defining Defaults"
   ]
  },
  {
   "cell_type": "markdown",
   "metadata": {
    "cell_tags": []
   },
   "source": [
    "We have passed parameters to functions in two ways:\n",
    "directly, as in `span(data)`,\n",
    "and by name, as in `numpy.loadtxt(fname='something.csv', delimiter=',')`.\n",
    "In fact, if you haven't noticed this already, you'll be interested to know that\n",
    "we can pass the filename to `loadtxt` without the `fname=`:"
   ]
  },
  {
   "cell_type": "code",
   "execution_count": 37,
   "metadata": {
    "cell_tags": []
   },
   "outputs": [
    {
     "data": {
      "text/plain": [
       "array([[ 0.,  0.,  1., ...,  3.,  0.,  0.],\n",
       "       [ 0.,  1.,  2., ...,  1.,  0.,  1.],\n",
       "       [ 0.,  1.,  1., ...,  2.,  1.,  1.],\n",
       "       ..., \n",
       "       [ 0.,  1.,  1., ...,  1.,  1.,  1.],\n",
       "       [ 0.,  0.,  0., ...,  0.,  2.,  0.],\n",
       "       [ 0.,  0.,  1., ...,  1.,  1.,  0.]])"
      ]
     },
     "execution_count": 37,
     "metadata": {},
     "output_type": "execute_result"
    }
   ],
   "source": [
    "np.loadtxt('inflammation-01.csv', delimiter=',')"
   ]
  },
  {
   "cell_type": "markdown",
   "metadata": {
    "cell_tags": []
   },
   "source": [
    "but we still need to specify the `delimiter=`, or we get an error.  Go ahead and try that."
   ]
  },
  {
   "cell_type": "code",
   "execution_count": 38,
   "metadata": {
    "cell_tags": []
   },
   "outputs": [
    {
     "name": "stdout",
     "output_type": "stream",
     "text": [
      "Help on function loadtxt in module numpy.lib.npyio:\n",
      "\n",
      "loadtxt(fname, dtype=<class 'float'>, comments='#', delimiter=None, converters=None, skiprows=0, usecols=None, unpack=False, ndmin=0)\n",
      "    Load data from a text file.\n",
      "    \n",
      "    Each row in the text file must have the same number of values.\n",
      "    \n",
      "    Parameters\n",
      "    ----------\n",
      "    fname : file, str, or pathlib.Path\n",
      "        File, filename, or generator to read.  If the filename extension is\n",
      "        ``.gz`` or ``.bz2``, the file is first decompressed. Note that\n",
      "        generators should return byte strings for Python 3k.\n",
      "    dtype : data-type, optional\n",
      "        Data-type of the resulting array; default: float.  If this is a\n",
      "        structured data-type, the resulting array will be 1-dimensional, and\n",
      "        each row will be interpreted as an element of the array.  In this\n",
      "        case, the number of columns used must match the number of fields in\n",
      "        the data-type.\n",
      "    comments : str or sequence, optional\n",
      "        The characters or list of characters used to indicate the start of a\n",
      "        comment;\n",
      "        default: '#'.\n",
      "    delimiter : str, optional\n",
      "        The string used to separate values.  By default, this is any\n",
      "        whitespace.\n",
      "    converters : dict, optional\n",
      "        A dictionary mapping column number to a function that will convert\n",
      "        that column to a float.  E.g., if column 0 is a date string:\n",
      "        ``converters = {0: datestr2num}``.  Converters can also be used to\n",
      "        provide a default value for missing data (but see also `genfromtxt`):\n",
      "        ``converters = {3: lambda s: float(s.strip() or 0)}``.  Default: None.\n",
      "    skiprows : int, optional\n",
      "        Skip the first `skiprows` lines; default: 0.\n",
      "    \n",
      "    usecols : int or sequence, optional\n",
      "        Which columns to read, with 0 being the first. For example,\n",
      "        usecols = (1,4,5) will extract the 2nd, 5th and 6th columns.\n",
      "        The default, None, results in all columns being read.\n",
      "    \n",
      "        .. versionadded:: 1.11.0\n",
      "    \n",
      "        Also when a single column has to be read it is possible to use\n",
      "        an integer instead of a tuple. E.g ``usecols = 3`` reads the\n",
      "        fourth column the same way as `usecols = (3,)`` would.\n",
      "    \n",
      "    unpack : bool, optional\n",
      "        If True, the returned array is transposed, so that arguments may be\n",
      "        unpacked using ``x, y, z = loadtxt(...)``.  When used with a structured\n",
      "        data-type, arrays are returned for each field.  Default is False.\n",
      "    ndmin : int, optional\n",
      "        The returned array will have at least `ndmin` dimensions.\n",
      "        Otherwise mono-dimensional axes will be squeezed.\n",
      "        Legal values: 0 (default), 1 or 2.\n",
      "    \n",
      "        .. versionadded:: 1.6.0\n",
      "    \n",
      "    Returns\n",
      "    -------\n",
      "    out : ndarray\n",
      "        Data read from the text file.\n",
      "    \n",
      "    See Also\n",
      "    --------\n",
      "    load, fromstring, fromregex\n",
      "    genfromtxt : Load data with missing values handled as specified.\n",
      "    scipy.io.loadmat : reads MATLAB data files\n",
      "    \n",
      "    Notes\n",
      "    -----\n",
      "    This function aims to be a fast reader for simply formatted files.  The\n",
      "    `genfromtxt` function provides more sophisticated handling of, e.g.,\n",
      "    lines with missing values.\n",
      "    \n",
      "    .. versionadded:: 1.10.0\n",
      "    \n",
      "    The strings produced by the Python float.hex method can be used as\n",
      "    input for floats.\n",
      "    \n",
      "    Examples\n",
      "    --------\n",
      "    >>> from io import StringIO   # StringIO behaves like a file object\n",
      "    >>> c = StringIO(\"0 1\\n2 3\")\n",
      "    >>> np.loadtxt(c)\n",
      "    array([[ 0.,  1.],\n",
      "           [ 2.,  3.]])\n",
      "    \n",
      "    >>> d = StringIO(\"M 21 72\\nF 35 58\")\n",
      "    >>> np.loadtxt(d, dtype={'names': ('gender', 'age', 'weight'),\n",
      "    ...                      'formats': ('S1', 'i4', 'f4')})\n",
      "    array([('M', 21, 72.0), ('F', 35, 58.0)],\n",
      "          dtype=[('gender', '|S1'), ('age', '<i4'), ('weight', '<f4')])\n",
      "    \n",
      "    >>> c = StringIO(\"1,0,2\\n3,0,4\")\n",
      "    >>> x, y = np.loadtxt(c, delimiter=',', usecols=(0, 2), unpack=True)\n",
      "    >>> x\n",
      "    array([ 1.,  3.])\n",
      "    >>> y\n",
      "    array([ 2.,  4.])\n",
      "\n"
     ]
    },
    {
     "ename": "TypeError",
     "evalue": "data type \",\" not understood",
     "output_type": "error",
     "traceback": [
      "\u001b[0;31m---------------------------------------------------------------------------\u001b[0m",
      "\u001b[0;31mTypeError\u001b[0m                                 Traceback (most recent call last)",
      "\u001b[0;32m<ipython-input-38-8cc0c4b730b1>\u001b[0m in \u001b[0;36m<module>\u001b[0;34m()\u001b[0m\n\u001b[1;32m      1\u001b[0m \u001b[0mhelp\u001b[0m\u001b[0;34m(\u001b[0m\u001b[0mnp\u001b[0m\u001b[0;34m.\u001b[0m\u001b[0mloadtxt\u001b[0m\u001b[0;34m)\u001b[0m\u001b[0;34m\u001b[0m\u001b[0m\n\u001b[0;32m----> 2\u001b[0;31m \u001b[0mnp\u001b[0m\u001b[0;34m.\u001b[0m\u001b[0mloadtxt\u001b[0m\u001b[0;34m(\u001b[0m\u001b[0;34m'inflammation-01.csv'\u001b[0m\u001b[0;34m,\u001b[0m \u001b[0;34m','\u001b[0m\u001b[0;34m)\u001b[0m\u001b[0;34m\u001b[0m\u001b[0m\n\u001b[0m",
      "\u001b[0;32m/opt/conda/lib/python3.5/site-packages/numpy/lib/npyio.py\u001b[0m in \u001b[0;36mloadtxt\u001b[0;34m(fname, dtype, comments, delimiter, converters, skiprows, usecols, unpack, ndmin)\u001b[0m\n\u001b[1;32m    928\u001b[0m     \u001b[0;32mtry\u001b[0m\u001b[0;34m:\u001b[0m\u001b[0;34m\u001b[0m\u001b[0m\n\u001b[1;32m    929\u001b[0m         \u001b[0;31m# Make sure we're dealing with a proper dtype\u001b[0m\u001b[0;34m\u001b[0m\u001b[0;34m\u001b[0m\u001b[0m\n\u001b[0;32m--> 930\u001b[0;31m         \u001b[0mdtype\u001b[0m \u001b[0;34m=\u001b[0m \u001b[0mnp\u001b[0m\u001b[0;34m.\u001b[0m\u001b[0mdtype\u001b[0m\u001b[0;34m(\u001b[0m\u001b[0mdtype\u001b[0m\u001b[0;34m)\u001b[0m\u001b[0;34m\u001b[0m\u001b[0m\n\u001b[0m\u001b[1;32m    931\u001b[0m         \u001b[0mdefconv\u001b[0m \u001b[0;34m=\u001b[0m \u001b[0m_getconv\u001b[0m\u001b[0;34m(\u001b[0m\u001b[0mdtype\u001b[0m\u001b[0;34m)\u001b[0m\u001b[0;34m\u001b[0m\u001b[0m\n\u001b[1;32m    932\u001b[0m \u001b[0;34m\u001b[0m\u001b[0m\n",
      "\u001b[0;31mTypeError\u001b[0m: data type \",\" not understood"
     ]
    }
   ],
   "source": [
    "help(np.loadtxt)\n",
    "np.loadtxt('inflammation-01.csv', ',')"
   ]
  },
  {
   "cell_type": "markdown",
   "metadata": {
    "cell_tags": []
   },
   "source": [
    "To understand what's going on,\n",
    "and make our own functions easier to use,\n",
    "let's re-define our `center` function so that the second parameter, `desired`, has a default value of 0."
   ]
  },
  {
   "cell_type": "code",
   "execution_count": 39,
   "metadata": {
    "cell_tags": [],
    "collapsed": true
   },
   "outputs": [],
   "source": [
    "def center(data, desired=0):\n",
    "    '''\n",
    "    return a new array\n",
    "    containing the original data (ndarray) centered around the desired value (0 by default)(int/float)\n",
    "    Example: center([1, 2, 3], 0) => [-1, 0, 1]\n",
    "    '''\n",
    "    return (data - data.mean()) + desired"
   ]
  },
  {
   "cell_type": "markdown",
   "metadata": {
    "cell_tags": []
   },
   "source": [
    "Now, if we call the function with two arguments,\n",
    "it works as it did before:"
   ]
  },
  {
   "cell_type": "code",
   "execution_count": 40,
   "metadata": {
    "cell_tags": []
   },
   "outputs": [
    {
     "name": "stdout",
     "output_type": "stream",
     "text": [
      "[[ 3.  3.]\n",
      " [ 3.  3.]]\n"
     ]
    }
   ],
   "source": [
    "test_data = np.zeros((2, 2))\n",
    "print(center(test_data, 3))"
   ]
  },
  {
   "cell_type": "markdown",
   "metadata": {
    "cell_tags": []
   },
   "source": [
    "But we can also now call it with just one parameter,\n",
    "in which case `desired` is automatically assigned the [default value](./gloss.html#default-parameter-value) of 0.0:"
   ]
  },
  {
   "cell_type": "code",
   "execution_count": 41,
   "metadata": {
    "cell_tags": []
   },
   "outputs": [
    {
     "name": "stdout",
     "output_type": "stream",
     "text": [
      "[[ 0.  0.]\n",
      " [ 0.  0.]]\n"
     ]
    }
   ],
   "source": [
    "test_data = np.zeros((2, 2))\n",
    "print(center(test_data))"
   ]
  },
  {
   "cell_type": "markdown",
   "metadata": {
    "cell_tags": []
   },
   "source": [
    "This is handy:\n",
    "if we usually want a function to work one way,\n",
    "but occasionally need it to do something else,\n",
    "we can allow people to pass a parameter when they need to\n",
    "but provide a default to make the normal case easier.\n",
    "Can you create some test data that will show how the default behavior works?"
   ]
  },
  {
   "cell_type": "code",
   "execution_count": 42,
   "metadata": {
    "cell_tags": []
   },
   "outputs": [
    {
     "name": "stdout",
     "output_type": "stream",
     "text": [
      "centered data: [[ 0.  0.]\n",
      " [ 0.  0.]]\n"
     ]
    }
   ],
   "source": [
    "more_data = 5 + np.zeros((2, 2)) # yes, we can do this to add all elements by 5\n",
    "\n",
    "print('centered data:', center(more_data)) # std has not changed"
   ]
  },
  {
   "cell_type": "markdown",
   "metadata": {
    "cell_tags": []
   },
   "source": [
    "The parameters are matched up from left to right,\n",
    "and any that haven't been given a value explicitly get their default value.\n",
    "Now override the default behavior by specifying a particular value when you call the function."
   ]
  },
  {
   "cell_type": "code",
   "execution_count": 43,
   "metadata": {
    "cell_tags": []
   },
   "outputs": [
    {
     "name": "stdout",
     "output_type": "stream",
     "text": [
      "centered data: [[ 5.  5.]\n",
      " [ 5.  5.]]\n"
     ]
    }
   ],
   "source": [
    "print('centered data:', center(more_data, 5))"
   ]
  },
  {
   "cell_type": "markdown",
   "metadata": {
    "cell_tags": []
   },
   "source": [
    "With these concepts in hand,\n",
    "let's look at the help for `numpy.loadtxt`:"
   ]
  },
  {
   "cell_type": "code",
   "execution_count": 44,
   "metadata": {
    "cell_tags": [],
    "collapsed": true
   },
   "outputs": [],
   "source": [
    "# see below"
   ]
  },
  {
   "cell_type": "markdown",
   "metadata": {
    "cell_tags": []
   },
   "source": [
    "There's a lot of information here,\n",
    "but the most important part is the first couple of lines:\n",
    "\n",
    "~~~python\n",
    "loadtxt(fname, dtype=<type 'float'>, comments='#', delimiter=None, converters=None, skiprows=0, usecols=None,\n",
    "        unpack=False, ndmin=0)\n",
    "~~~\n",
    "\n",
    "This tells us that `loadtxt` has one parameter called `fname` that doesn't have a default value,\n",
    "and eight others that do.\n",
    "If we call the function like this:\n",
    "\n",
    "~~~python\n",
    "numpy.loadtxt('inflammation-01.csv', ',')\n",
    "~~~\n",
    "\n",
    "then the filename is assigned to `fname` (which is what we want),\n",
    "but the delimiter string `','` is assigned to `dtype` rather than `delimiter`,\n",
    "because `dtype` is the second parameter in the list.\n",
    "That's why we don't have to provide `fname=` for the filename,\n",
    "but *do* have to provide `delimiter=` for the second parameter."
   ]
  },
  {
   "cell_type": "markdown",
   "metadata": {},
   "source": [
    "### Debugging a program\n",
    "\n",
    "Perhaps you're sad that we didn't get to see the Python 2 bug that was mentioned way back at the beginning of this file.  Well to make up for that, here's another program with a bug in it.\n",
    "\n",
    "``` python\n",
    "def foo(bar=[]):           # bar is optional and defaults to [] if not specified\n",
    "       bar.append(\"baz\")\n",
    "       return bar\n",
    "```\n",
    "\n",
    "How do you expect the function to work?  Do you want to give it a try?  Go ahead and enter the definition here, and then test it out a bit."
   ]
  },
  {
   "cell_type": "code",
   "execution_count": 47,
   "metadata": {},
   "outputs": [
    {
     "name": "stdout",
     "output_type": "stream",
     "text": [
      "['baz!']\n",
      "['baz!', 'baz!']\n"
     ]
    }
   ],
   "source": [
    "def foo(bar=[]):\n",
    "    bar.append(\"baz!\")\n",
    "    return bar\n",
    "\n",
    "print(foo()) # ['baz!']\n",
    "print(foo()) # ['baz!', 'baz!']"
   ]
  },
  {
   "cell_type": "markdown",
   "metadata": {},
   "source": [
    "Did that go as expected?  Will it work the same way every time?  Go on, give it another try."
   ]
  },
  {
   "cell_type": "code",
   "execution_count": 49,
   "metadata": {},
   "outputs": [
    {
     "name": "stdout",
     "output_type": "stream",
     "text": [
      "['baz!', 'baz!', 'baz!', 'baz!']\n",
      "['baz!', 'baz!', 'baz!', 'baz!', 'baz!']\n",
      "['baz!', 'baz!', 'baz!', 'baz!', 'baz!', 'baz!']\n"
     ]
    }
   ],
   "source": [
    "print(foo()) # ['baz!', 'baz!', 'baz!']\n",
    "print(foo())\n",
    "print(foo())"
   ]
  },
  {
   "cell_type": "markdown",
   "metadata": {},
   "source": [
    "Well, it sort of works the same way every time, but this probably isn't what you were expecting.  Can you fix it?  Hint: **the default value for a function argument is only evaluated once, at the time that the function is defined.**  Another hint: try using the default setting `bar=None` this time.  You will need an `if` statement.  But if you're not familiar with `if`, don't worry, we will have more practice with `if` statements in another notebook later on, and you can come back and finish this exercise later."
   ]
  },
  {
   "cell_type": "code",
   "execution_count": 59,
   "metadata": {},
   "outputs": [
    {
     "name": "stdout",
     "output_type": "stream",
     "text": [
      "['baz!']\n",
      "['baz!']\n",
      "['baz!']\n"
     ]
    }
   ],
   "source": [
    "def foo(bar=None):\n",
    "    if bar is None: # is None (None object), not ==\n",
    "        bar = []\n",
    "    bar.append(\"baz!\")\n",
    "    return bar\n",
    "\n",
    "print(foo())\n",
    "print(foo())\n",
    "print(foo())\n",
    "\n",
    "# Note: default value created in the first call!\n",
    "# keeping in mind the default value for a function argument is only evaluated once\n",
    "# at the time that the function is defined."
   ]
  },
  {
   "cell_type": "markdown",
   "metadata": {
    "cell_tags": [
     "challenges"
    ]
   },
   "source": [
    "#### Challenges\n",
    "\n",
    "1.  Rewrite the `rescale` function so that it scales data to lie between 0.0 and 1.0 by default,\n",
    "    but will allow the caller to specify lower and upper bounds if they want.\n",
    "    Compare your implementation to your neighbor's:\n",
    "    do the two functions always behave the same way?"
   ]
  },
  {
   "cell_type": "code",
   "execution_count": 71,
   "metadata": {},
   "outputs": [
    {
     "name": "stdout",
     "output_type": "stream",
     "text": [
      "test1 data: [ 0  2  4  6  8 10 12 14 16 18]\n",
      "rescaled test1 data: [ 0.          0.11111111  0.22222222  0.33333333  0.44444444  0.55555556\n",
      "  0.66666667  0.77777778  0.88888889  1.        ]\n",
      "test2 data: [ 1.  2.  3.  4.  5.]\n",
      "rescaled test2 data: [ 0.    0.25  0.5   0.75  1.  ]\n"
     ]
    }
   ],
   "source": [
    "def rescale(ndarray, l_bound=None, up_bound=None):\n",
    "    \"\"\"\n",
    "    Return a new ndarray which values of original ndarray scaled to lie in the arbitrary range,\n",
    "    0.0 to 1.0 by default\n",
    "    Example:\n",
    "    rescaled([ 1.  2.  3.  4.  5.]) -> [ 0.    0.25  0.5   0.75  1.  ]\n",
    "    \"\"\"\n",
    "    l = ndarray.min()\n",
    "    h = ndarray.max()\n",
    "    if l_bound or up_bound is None: # use or, not and\n",
    "        rescale_func = lambda v: (v - l) / (h - l)\n",
    "    else:\n",
    "        print(\"---\")\n",
    "        rescale_func = lambda v: ((v - l) * (up_bound - l_bound) / (h - l)) + l_bound\n",
    "    vfunc = np.vectorize(rescale_func) #vectorize functions\n",
    "    return vfunc(ndarray)\n",
    "\n",
    "\n",
    "test_data_1 = np.arange(0, 20, 2)\n",
    "print(\"test1 data:\", test_data_1)\n",
    "print(\"rescaled test1 data:\", rescale(test_data_1))\n",
    "\n",
    "test_data_2 = np.linspace(1.0, 5.0, num=5)\n",
    "print(\"test2 data:\", test_data_2)\n",
    "print(\"rescaled test2 data:\", rescale(test_data_2))\n",
    "\n"
   ]
  },
  {
   "cell_type": "markdown",
   "metadata": {
    "cell_tags": [
     "keypoints"
    ]
   },
   "source": [
    "#### Key Points\n",
    "\n",
    "*   Define a function using `def name(...params...)`.\n",
    "*   The body of a function must be indented.\n",
    "*   Call a function using `name(...values...)`.\n",
    "*   Functions can be composed.\n",
    "*   Here's the technical idea behind encapsulation: each time a function is called, a new stack frame is created on the [call stack](./gloss.html#call-stack) to hold its parameters and local variables.\n",
    " *   Python then looks for variables in the current stack frame before looking for them at the top level.\n",
    "*   Use `help(thing)` to view help for something.\n",
    "*   Put docstrings in functions to provide help for that function.\n",
    "*   Specify default values for parameters when defining a function using `name=value` in the parameter list.\n",
    "*   Parameters can be passed by matching based on name, by position, or by omitting them (in which case the default value is used).\n",
    " * Be careful with defaults, keeping in mind the default value for a function argument is only evaluated once, at the time that the function is defined."
   ]
  },
  {
   "cell_type": "markdown",
   "metadata": {
    "cell_tags": []
   },
   "source": [
    "#### Next Steps\n",
    "\n",
    "We now have a function called `analyze` to visualize a single data set.\n",
    "We could use it to explore all 12 of our current data sets like this:\n",
    "\n",
    "~~~python\n",
    "analyze('inflammation-01.csv')\n",
    "analyze('inflammation-02.csv')\n",
    "...\n",
    "analyze('inflammation-12.csv')\n",
    "~~~\n",
    "\n",
    "but the chances of us typing all 12 filenames correctly aren't great,\n",
    "and we'll be even worse off if we get another hundred files.\n",
    "What we need is a way to tell Python to do something once for each file,\n",
    "and that will be the subject of the next lesson."
   ]
  }
 ],
 "metadata": {
  "kernelspec": {
   "display_name": "Python 3",
   "language": "python",
   "name": "python3"
  },
  "language_info": {
   "codemirror_mode": {
    "name": "ipython",
    "version": 3
   },
   "file_extension": ".py",
   "mimetype": "text/x-python",
   "name": "python",
   "nbconvert_exporter": "python",
   "pygments_lexer": "ipython3",
   "version": "3.5.2"
  }
 },
 "nbformat": 4,
 "nbformat_minor": 1
}
